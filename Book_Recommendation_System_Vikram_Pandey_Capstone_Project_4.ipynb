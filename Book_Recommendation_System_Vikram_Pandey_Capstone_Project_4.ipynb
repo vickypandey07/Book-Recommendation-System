{
  "nbformat": 4,
  "nbformat_minor": 0,
  "metadata": {
    "colab": {
      "name": "Book_Recommendation_System_Vikram_Pandey_Capstone_Project_4.ipynb",
      "provenance": [],
      "collapsed_sections": [],
      "mount_file_id": "1_57GTOUsfRPjBitZgEcohwSn7Xg83xpF",
      "authorship_tag": "ABX9TyNs7lnHO9NbpHaJtA7lvAnL",
      "include_colab_link": true
    },
    "kernelspec": {
      "name": "python3",
      "display_name": "Python 3"
    },
    "language_info": {
      "name": "python"
    }
  },
  "cells": [
    {
      "cell_type": "markdown",
      "metadata": {
        "id": "view-in-github",
        "colab_type": "text"
      },
      "source": [
        "<a href=\"https://colab.research.google.com/github/vickypandey07/Book-Recommendation-System/blob/main/Book_Recommendation_System_Vikram_Pandey_Capstone_Project_4.ipynb\" target=\"_parent\"><img src=\"https://colab.research.google.com/assets/colab-badge.svg\" alt=\"Open In Colab\"/></a>"
      ]
    },
    {
      "cell_type": "markdown",
      "metadata": {
        "id": "TZfvLlVJIE6n"
      },
      "source": [
        "# **Introduction**"
      ]
    },
    {
      "cell_type": "markdown",
      "metadata": {
        "id": "nLbkrbSWIKFd"
      },
      "source": [
        "During the last few decades, with the rise of Youtube, Amazon, Netflix, and many other such\n",
        "web services, recommender systems have taken more and more place in our lives. From\n",
        "e-commerce (suggest to buyers articles that could interest them) to online advertisement\n",
        "(suggest to users the right contents, matching their preferences), recommender systems are\n",
        "today unavoidable in our daily online journeys.\n",
        "<br>\n",
        "In a very general way, recommender systems are algorithms aimed at suggesting relevant\n",
        "items to users (items being movies to watch, text to read, products to buy, or anything else\n",
        "depending on industries).<br>\n",
        "Recommender systems are really critical in some industries as they can generate a huge\n",
        "amount of income when they are efficient or also be a way to stand out significantly from\n",
        "competitors. **The main objective is to create a book recommendation system for users.**"
      ]
    },
    {
      "cell_type": "markdown",
      "metadata": {
        "id": "Ai9Hsl6aIPy7"
      },
      "source": [
        "# **Dataset information**"
      ]
    },
    {
      "cell_type": "markdown",
      "metadata": {
        "id": "9svCTU3eITC1"
      },
      "source": [
        "The Book-Crossing dataset comprises 3 files.<br>\n",
        "● **Users** :<br>\n",
        "Contains the users. Note that user IDs (User-ID) have been anonymized and map to\n",
        "integers. Demographic data is provided (Location, Age) if available. Otherwise, these\n",
        "fields contain NULL values.<br>\n",
        "● **Books** : <br>\n",
        "Books are identified by their respective ISBN. Invalid ISBNs have already been removed\n",
        "from the dataset. Moreover, some content-based information is given (Book-Title,\n",
        "Book-Author, Year-Of-Publication, Publisher), obtained from Amazon Web\n",
        "Services. Note that in the case of several authors, only the first is provided. URLs linking\n",
        "to cover images are also given, appearing in three different flavors (Image-URL-S,\n",
        "Image-URL-M, Image-URL-L), i.e., small, medium, large. These URLs point to the\n",
        "Amazon website.<br>\n",
        "● **Ratings** :<br> \n",
        "Contains the book rating information. Ratings (Book-Rating) are either explicit,\n",
        "expressed on a scale from 1-10 (higher values denoting higher appreciation), or implicit,\n",
        "expressed by 0."
      ]
    },
    {
      "cell_type": "markdown",
      "metadata": {
        "id": "OCz_OGzUIZoP"
      },
      "source": [
        "# **Let's import libraries**"
      ]
    },
    {
      "cell_type": "code",
      "metadata": {
        "id": "PlxOxQQyGyE8"
      },
      "source": [
        "# Importing libraries\n",
        "\n",
        "import pandas as pd\n",
        "import sys\n",
        "import numpy as np\n",
        "import matplotlib.pyplot as plt\n",
        "import seaborn as sns\n",
        "import random\n",
        "\n",
        "# To supress the warning messages\n",
        "\n",
        "import warnings\n",
        "warnings.filterwarnings('ignore')\n"
      ],
      "execution_count": 5,
      "outputs": []
    },
    {
      "cell_type": "markdown",
      "metadata": {
        "id": "QUtEogx4Imno"
      },
      "source": [
        "# **Loading users Data**"
      ]
    },
    {
      "cell_type": "code",
      "metadata": {
        "id": "KcI9s2m5Ihvm"
      },
      "source": [
        "# Let's load Users data and create dataframe\n",
        "\n",
        "users = pd.read_csv('/content/drive/MyDrive/data_set_book_recomend/Users.csv')"
      ],
      "execution_count": 6,
      "outputs": []
    },
    {
      "cell_type": "code",
      "metadata": {
        "colab": {
          "base_uri": "https://localhost:8080/",
          "height": 206
        },
        "id": "n0Gfb3X_JSng",
        "outputId": "110f4072-34f5-459b-da35-8152569f2a2a"
      },
      "source": [
        "# Printing first five rows of users dataframe\n",
        "\n",
        "users.head()"
      ],
      "execution_count": 7,
      "outputs": [
        {
          "output_type": "execute_result",
          "data": {
            "text/html": [
              "<div>\n",
              "<style scoped>\n",
              "    .dataframe tbody tr th:only-of-type {\n",
              "        vertical-align: middle;\n",
              "    }\n",
              "\n",
              "    .dataframe tbody tr th {\n",
              "        vertical-align: top;\n",
              "    }\n",
              "\n",
              "    .dataframe thead th {\n",
              "        text-align: right;\n",
              "    }\n",
              "</style>\n",
              "<table border=\"1\" class=\"dataframe\">\n",
              "  <thead>\n",
              "    <tr style=\"text-align: right;\">\n",
              "      <th></th>\n",
              "      <th>User-ID</th>\n",
              "      <th>Location</th>\n",
              "      <th>Age</th>\n",
              "    </tr>\n",
              "  </thead>\n",
              "  <tbody>\n",
              "    <tr>\n",
              "      <th>0</th>\n",
              "      <td>1</td>\n",
              "      <td>nyc, new york, usa</td>\n",
              "      <td>NaN</td>\n",
              "    </tr>\n",
              "    <tr>\n",
              "      <th>1</th>\n",
              "      <td>2</td>\n",
              "      <td>stockton, california, usa</td>\n",
              "      <td>18.0</td>\n",
              "    </tr>\n",
              "    <tr>\n",
              "      <th>2</th>\n",
              "      <td>3</td>\n",
              "      <td>moscow, yukon territory, russia</td>\n",
              "      <td>NaN</td>\n",
              "    </tr>\n",
              "    <tr>\n",
              "      <th>3</th>\n",
              "      <td>4</td>\n",
              "      <td>porto, v.n.gaia, portugal</td>\n",
              "      <td>17.0</td>\n",
              "    </tr>\n",
              "    <tr>\n",
              "      <th>4</th>\n",
              "      <td>5</td>\n",
              "      <td>farnborough, hants, united kingdom</td>\n",
              "      <td>NaN</td>\n",
              "    </tr>\n",
              "  </tbody>\n",
              "</table>\n",
              "</div>"
            ],
            "text/plain": [
              "   User-ID                            Location   Age\n",
              "0        1                  nyc, new york, usa   NaN\n",
              "1        2           stockton, california, usa  18.0\n",
              "2        3     moscow, yukon territory, russia   NaN\n",
              "3        4           porto, v.n.gaia, portugal  17.0\n",
              "4        5  farnborough, hants, united kingdom   NaN"
            ]
          },
          "metadata": {},
          "execution_count": 7
        }
      ]
    },
    {
      "cell_type": "code",
      "metadata": {
        "colab": {
          "base_uri": "https://localhost:8080/",
          "height": 206
        },
        "id": "bpVfbIGsJlPS",
        "outputId": "9504f5a0-230d-44c0-a8e8-2424088e5353"
      },
      "source": [
        "#Printing last five rows of users dataframe\n",
        "\n",
        "users.tail()"
      ],
      "execution_count": 8,
      "outputs": [
        {
          "output_type": "execute_result",
          "data": {
            "text/html": [
              "<div>\n",
              "<style scoped>\n",
              "    .dataframe tbody tr th:only-of-type {\n",
              "        vertical-align: middle;\n",
              "    }\n",
              "\n",
              "    .dataframe tbody tr th {\n",
              "        vertical-align: top;\n",
              "    }\n",
              "\n",
              "    .dataframe thead th {\n",
              "        text-align: right;\n",
              "    }\n",
              "</style>\n",
              "<table border=\"1\" class=\"dataframe\">\n",
              "  <thead>\n",
              "    <tr style=\"text-align: right;\">\n",
              "      <th></th>\n",
              "      <th>User-ID</th>\n",
              "      <th>Location</th>\n",
              "      <th>Age</th>\n",
              "    </tr>\n",
              "  </thead>\n",
              "  <tbody>\n",
              "    <tr>\n",
              "      <th>278853</th>\n",
              "      <td>278854</td>\n",
              "      <td>portland, oregon, usa</td>\n",
              "      <td>NaN</td>\n",
              "    </tr>\n",
              "    <tr>\n",
              "      <th>278854</th>\n",
              "      <td>278855</td>\n",
              "      <td>tacoma, washington, united kingdom</td>\n",
              "      <td>50.0</td>\n",
              "    </tr>\n",
              "    <tr>\n",
              "      <th>278855</th>\n",
              "      <td>278856</td>\n",
              "      <td>brampton, ontario, canada</td>\n",
              "      <td>NaN</td>\n",
              "    </tr>\n",
              "    <tr>\n",
              "      <th>278856</th>\n",
              "      <td>278857</td>\n",
              "      <td>knoxville, tennessee, usa</td>\n",
              "      <td>NaN</td>\n",
              "    </tr>\n",
              "    <tr>\n",
              "      <th>278857</th>\n",
              "      <td>278858</td>\n",
              "      <td>dublin, n/a, ireland</td>\n",
              "      <td>NaN</td>\n",
              "    </tr>\n",
              "  </tbody>\n",
              "</table>\n",
              "</div>"
            ],
            "text/plain": [
              "        User-ID                            Location   Age\n",
              "278853   278854               portland, oregon, usa   NaN\n",
              "278854   278855  tacoma, washington, united kingdom  50.0\n",
              "278855   278856           brampton, ontario, canada   NaN\n",
              "278856   278857           knoxville, tennessee, usa   NaN\n",
              "278857   278858                dublin, n/a, ireland   NaN"
            ]
          },
          "metadata": {},
          "execution_count": 8
        }
      ]
    },
    {
      "cell_type": "code",
      "metadata": {
        "id": "2tfqfgK1Jw19"
      },
      "source": [
        ""
      ],
      "execution_count": 8,
      "outputs": []
    },
    {
      "cell_type": "markdown",
      "metadata": {
        "id": "D5Yhxn1BKDYd"
      },
      "source": [
        "### **Loading Books data.**"
      ]
    },
    {
      "cell_type": "code",
      "metadata": {
        "id": "xzZGh3LsKEDW"
      },
      "source": [
        "# Loading Books data\n",
        "\n",
        "books = pd.read_csv('/content/drive/MyDrive/data_set_book_recomend/Books.csv')"
      ],
      "execution_count": 9,
      "outputs": []
    },
    {
      "cell_type": "code",
      "metadata": {
        "colab": {
          "base_uri": "https://localhost:8080/",
          "height": 434
        },
        "id": "bvDkgiKsKOjE",
        "outputId": "80501b94-0fdc-4e36-ec32-50b5d554d866"
      },
      "source": [
        "# Printing first five rows of books dataframe\n",
        "\n",
        "books.head()"
      ],
      "execution_count": 10,
      "outputs": [
        {
          "output_type": "execute_result",
          "data": {
            "text/html": [
              "<div>\n",
              "<style scoped>\n",
              "    .dataframe tbody tr th:only-of-type {\n",
              "        vertical-align: middle;\n",
              "    }\n",
              "\n",
              "    .dataframe tbody tr th {\n",
              "        vertical-align: top;\n",
              "    }\n",
              "\n",
              "    .dataframe thead th {\n",
              "        text-align: right;\n",
              "    }\n",
              "</style>\n",
              "<table border=\"1\" class=\"dataframe\">\n",
              "  <thead>\n",
              "    <tr style=\"text-align: right;\">\n",
              "      <th></th>\n",
              "      <th>ISBN</th>\n",
              "      <th>Book-Title</th>\n",
              "      <th>Book-Author</th>\n",
              "      <th>Year-Of-Publication</th>\n",
              "      <th>Publisher</th>\n",
              "      <th>Image-URL-S</th>\n",
              "      <th>Image-URL-M</th>\n",
              "      <th>Image-URL-L</th>\n",
              "    </tr>\n",
              "  </thead>\n",
              "  <tbody>\n",
              "    <tr>\n",
              "      <th>0</th>\n",
              "      <td>0195153448</td>\n",
              "      <td>Classical Mythology</td>\n",
              "      <td>Mark P. O. Morford</td>\n",
              "      <td>2002</td>\n",
              "      <td>Oxford University Press</td>\n",
              "      <td>http://images.amazon.com/images/P/0195153448.0...</td>\n",
              "      <td>http://images.amazon.com/images/P/0195153448.0...</td>\n",
              "      <td>http://images.amazon.com/images/P/0195153448.0...</td>\n",
              "    </tr>\n",
              "    <tr>\n",
              "      <th>1</th>\n",
              "      <td>0002005018</td>\n",
              "      <td>Clara Callan</td>\n",
              "      <td>Richard Bruce Wright</td>\n",
              "      <td>2001</td>\n",
              "      <td>HarperFlamingo Canada</td>\n",
              "      <td>http://images.amazon.com/images/P/0002005018.0...</td>\n",
              "      <td>http://images.amazon.com/images/P/0002005018.0...</td>\n",
              "      <td>http://images.amazon.com/images/P/0002005018.0...</td>\n",
              "    </tr>\n",
              "    <tr>\n",
              "      <th>2</th>\n",
              "      <td>0060973129</td>\n",
              "      <td>Decision in Normandy</td>\n",
              "      <td>Carlo D'Este</td>\n",
              "      <td>1991</td>\n",
              "      <td>HarperPerennial</td>\n",
              "      <td>http://images.amazon.com/images/P/0060973129.0...</td>\n",
              "      <td>http://images.amazon.com/images/P/0060973129.0...</td>\n",
              "      <td>http://images.amazon.com/images/P/0060973129.0...</td>\n",
              "    </tr>\n",
              "    <tr>\n",
              "      <th>3</th>\n",
              "      <td>0374157065</td>\n",
              "      <td>Flu: The Story of the Great Influenza Pandemic...</td>\n",
              "      <td>Gina Bari Kolata</td>\n",
              "      <td>1999</td>\n",
              "      <td>Farrar Straus Giroux</td>\n",
              "      <td>http://images.amazon.com/images/P/0374157065.0...</td>\n",
              "      <td>http://images.amazon.com/images/P/0374157065.0...</td>\n",
              "      <td>http://images.amazon.com/images/P/0374157065.0...</td>\n",
              "    </tr>\n",
              "    <tr>\n",
              "      <th>4</th>\n",
              "      <td>0393045218</td>\n",
              "      <td>The Mummies of Urumchi</td>\n",
              "      <td>E. J. W. Barber</td>\n",
              "      <td>1999</td>\n",
              "      <td>W. W. Norton &amp;amp; Company</td>\n",
              "      <td>http://images.amazon.com/images/P/0393045218.0...</td>\n",
              "      <td>http://images.amazon.com/images/P/0393045218.0...</td>\n",
              "      <td>http://images.amazon.com/images/P/0393045218.0...</td>\n",
              "    </tr>\n",
              "  </tbody>\n",
              "</table>\n",
              "</div>"
            ],
            "text/plain": [
              "         ISBN  ...                                        Image-URL-L\n",
              "0  0195153448  ...  http://images.amazon.com/images/P/0195153448.0...\n",
              "1  0002005018  ...  http://images.amazon.com/images/P/0002005018.0...\n",
              "2  0060973129  ...  http://images.amazon.com/images/P/0060973129.0...\n",
              "3  0374157065  ...  http://images.amazon.com/images/P/0374157065.0...\n",
              "4  0393045218  ...  http://images.amazon.com/images/P/0393045218.0...\n",
              "\n",
              "[5 rows x 8 columns]"
            ]
          },
          "metadata": {},
          "execution_count": 10
        }
      ]
    },
    {
      "cell_type": "code",
      "metadata": {
        "colab": {
          "base_uri": "https://localhost:8080/",
          "height": 504
        },
        "id": "D_UTZblPKa-p",
        "outputId": "12a84491-5455-4e83-d037-43351a0e1455"
      },
      "source": [
        "#Printing last five rows of books dataframe\n",
        "\n",
        "books.tail()"
      ],
      "execution_count": 11,
      "outputs": [
        {
          "output_type": "execute_result",
          "data": {
            "text/html": [
              "<div>\n",
              "<style scoped>\n",
              "    .dataframe tbody tr th:only-of-type {\n",
              "        vertical-align: middle;\n",
              "    }\n",
              "\n",
              "    .dataframe tbody tr th {\n",
              "        vertical-align: top;\n",
              "    }\n",
              "\n",
              "    .dataframe thead th {\n",
              "        text-align: right;\n",
              "    }\n",
              "</style>\n",
              "<table border=\"1\" class=\"dataframe\">\n",
              "  <thead>\n",
              "    <tr style=\"text-align: right;\">\n",
              "      <th></th>\n",
              "      <th>ISBN</th>\n",
              "      <th>Book-Title</th>\n",
              "      <th>Book-Author</th>\n",
              "      <th>Year-Of-Publication</th>\n",
              "      <th>Publisher</th>\n",
              "      <th>Image-URL-S</th>\n",
              "      <th>Image-URL-M</th>\n",
              "      <th>Image-URL-L</th>\n",
              "    </tr>\n",
              "  </thead>\n",
              "  <tbody>\n",
              "    <tr>\n",
              "      <th>271355</th>\n",
              "      <td>0440400988</td>\n",
              "      <td>There's a Bat in Bunk Five</td>\n",
              "      <td>Paula Danziger</td>\n",
              "      <td>1988</td>\n",
              "      <td>Random House Childrens Pub (Mm)</td>\n",
              "      <td>http://images.amazon.com/images/P/0440400988.0...</td>\n",
              "      <td>http://images.amazon.com/images/P/0440400988.0...</td>\n",
              "      <td>http://images.amazon.com/images/P/0440400988.0...</td>\n",
              "    </tr>\n",
              "    <tr>\n",
              "      <th>271356</th>\n",
              "      <td>0525447644</td>\n",
              "      <td>From One to One Hundred</td>\n",
              "      <td>Teri Sloat</td>\n",
              "      <td>1991</td>\n",
              "      <td>Dutton Books</td>\n",
              "      <td>http://images.amazon.com/images/P/0525447644.0...</td>\n",
              "      <td>http://images.amazon.com/images/P/0525447644.0...</td>\n",
              "      <td>http://images.amazon.com/images/P/0525447644.0...</td>\n",
              "    </tr>\n",
              "    <tr>\n",
              "      <th>271357</th>\n",
              "      <td>006008667X</td>\n",
              "      <td>Lily Dale : The True Story of the Town that Ta...</td>\n",
              "      <td>Christine Wicker</td>\n",
              "      <td>2004</td>\n",
              "      <td>HarperSanFrancisco</td>\n",
              "      <td>http://images.amazon.com/images/P/006008667X.0...</td>\n",
              "      <td>http://images.amazon.com/images/P/006008667X.0...</td>\n",
              "      <td>http://images.amazon.com/images/P/006008667X.0...</td>\n",
              "    </tr>\n",
              "    <tr>\n",
              "      <th>271358</th>\n",
              "      <td>0192126040</td>\n",
              "      <td>Republic (World's Classics)</td>\n",
              "      <td>Plato</td>\n",
              "      <td>1996</td>\n",
              "      <td>Oxford University Press</td>\n",
              "      <td>http://images.amazon.com/images/P/0192126040.0...</td>\n",
              "      <td>http://images.amazon.com/images/P/0192126040.0...</td>\n",
              "      <td>http://images.amazon.com/images/P/0192126040.0...</td>\n",
              "    </tr>\n",
              "    <tr>\n",
              "      <th>271359</th>\n",
              "      <td>0767409752</td>\n",
              "      <td>A Guided Tour of Rene Descartes' Meditations o...</td>\n",
              "      <td>Christopher  Biffle</td>\n",
              "      <td>2000</td>\n",
              "      <td>McGraw-Hill Humanities/Social Sciences/Languages</td>\n",
              "      <td>http://images.amazon.com/images/P/0767409752.0...</td>\n",
              "      <td>http://images.amazon.com/images/P/0767409752.0...</td>\n",
              "      <td>http://images.amazon.com/images/P/0767409752.0...</td>\n",
              "    </tr>\n",
              "  </tbody>\n",
              "</table>\n",
              "</div>"
            ],
            "text/plain": [
              "              ISBN  ...                                        Image-URL-L\n",
              "271355  0440400988  ...  http://images.amazon.com/images/P/0440400988.0...\n",
              "271356  0525447644  ...  http://images.amazon.com/images/P/0525447644.0...\n",
              "271357  006008667X  ...  http://images.amazon.com/images/P/006008667X.0...\n",
              "271358  0192126040  ...  http://images.amazon.com/images/P/0192126040.0...\n",
              "271359  0767409752  ...  http://images.amazon.com/images/P/0767409752.0...\n",
              "\n",
              "[5 rows x 8 columns]"
            ]
          },
          "metadata": {},
          "execution_count": 11
        }
      ]
    },
    {
      "cell_type": "markdown",
      "metadata": {
        "id": "18xWQEjeKxf8"
      },
      "source": [
        "### **Loading Ratings data.**"
      ]
    },
    {
      "cell_type": "code",
      "metadata": {
        "id": "05NHWB-gKtoo"
      },
      "source": [
        "# Ratings data\n",
        "\n",
        "ratings = pd.read_csv('/content/drive/MyDrive/data_set_book_recomend/Ratings.csv')"
      ],
      "execution_count": 12,
      "outputs": []
    },
    {
      "cell_type": "code",
      "metadata": {
        "colab": {
          "base_uri": "https://localhost:8080/",
          "height": 206
        },
        "id": "AOpPBE23K8gq",
        "outputId": "86761ee4-3ec5-4d85-8e31-26f00e9f0689"
      },
      "source": [
        "# Printing first five rows of ratings dataframe\n",
        "\n",
        "ratings.head()"
      ],
      "execution_count": 13,
      "outputs": [
        {
          "output_type": "execute_result",
          "data": {
            "text/html": [
              "<div>\n",
              "<style scoped>\n",
              "    .dataframe tbody tr th:only-of-type {\n",
              "        vertical-align: middle;\n",
              "    }\n",
              "\n",
              "    .dataframe tbody tr th {\n",
              "        vertical-align: top;\n",
              "    }\n",
              "\n",
              "    .dataframe thead th {\n",
              "        text-align: right;\n",
              "    }\n",
              "</style>\n",
              "<table border=\"1\" class=\"dataframe\">\n",
              "  <thead>\n",
              "    <tr style=\"text-align: right;\">\n",
              "      <th></th>\n",
              "      <th>User-ID</th>\n",
              "      <th>ISBN</th>\n",
              "      <th>Book-Rating</th>\n",
              "    </tr>\n",
              "  </thead>\n",
              "  <tbody>\n",
              "    <tr>\n",
              "      <th>0</th>\n",
              "      <td>276725</td>\n",
              "      <td>034545104X</td>\n",
              "      <td>0</td>\n",
              "    </tr>\n",
              "    <tr>\n",
              "      <th>1</th>\n",
              "      <td>276726</td>\n",
              "      <td>0155061224</td>\n",
              "      <td>5</td>\n",
              "    </tr>\n",
              "    <tr>\n",
              "      <th>2</th>\n",
              "      <td>276727</td>\n",
              "      <td>0446520802</td>\n",
              "      <td>0</td>\n",
              "    </tr>\n",
              "    <tr>\n",
              "      <th>3</th>\n",
              "      <td>276729</td>\n",
              "      <td>052165615X</td>\n",
              "      <td>3</td>\n",
              "    </tr>\n",
              "    <tr>\n",
              "      <th>4</th>\n",
              "      <td>276729</td>\n",
              "      <td>0521795028</td>\n",
              "      <td>6</td>\n",
              "    </tr>\n",
              "  </tbody>\n",
              "</table>\n",
              "</div>"
            ],
            "text/plain": [
              "   User-ID        ISBN  Book-Rating\n",
              "0   276725  034545104X            0\n",
              "1   276726  0155061224            5\n",
              "2   276727  0446520802            0\n",
              "3   276729  052165615X            3\n",
              "4   276729  0521795028            6"
            ]
          },
          "metadata": {},
          "execution_count": 13
        }
      ]
    },
    {
      "cell_type": "code",
      "metadata": {
        "colab": {
          "base_uri": "https://localhost:8080/",
          "height": 206
        },
        "id": "GOxaqBF1LFWn",
        "outputId": "18d79fab-886f-4b6e-c8d1-6efd2abcff7e"
      },
      "source": [
        "# Printing last five rows of ratings dataframe\n",
        "\n",
        "ratings.tail()"
      ],
      "execution_count": 14,
      "outputs": [
        {
          "output_type": "execute_result",
          "data": {
            "text/html": [
              "<div>\n",
              "<style scoped>\n",
              "    .dataframe tbody tr th:only-of-type {\n",
              "        vertical-align: middle;\n",
              "    }\n",
              "\n",
              "    .dataframe tbody tr th {\n",
              "        vertical-align: top;\n",
              "    }\n",
              "\n",
              "    .dataframe thead th {\n",
              "        text-align: right;\n",
              "    }\n",
              "</style>\n",
              "<table border=\"1\" class=\"dataframe\">\n",
              "  <thead>\n",
              "    <tr style=\"text-align: right;\">\n",
              "      <th></th>\n",
              "      <th>User-ID</th>\n",
              "      <th>ISBN</th>\n",
              "      <th>Book-Rating</th>\n",
              "    </tr>\n",
              "  </thead>\n",
              "  <tbody>\n",
              "    <tr>\n",
              "      <th>1149775</th>\n",
              "      <td>276704</td>\n",
              "      <td>1563526298</td>\n",
              "      <td>9</td>\n",
              "    </tr>\n",
              "    <tr>\n",
              "      <th>1149776</th>\n",
              "      <td>276706</td>\n",
              "      <td>0679447156</td>\n",
              "      <td>0</td>\n",
              "    </tr>\n",
              "    <tr>\n",
              "      <th>1149777</th>\n",
              "      <td>276709</td>\n",
              "      <td>0515107662</td>\n",
              "      <td>10</td>\n",
              "    </tr>\n",
              "    <tr>\n",
              "      <th>1149778</th>\n",
              "      <td>276721</td>\n",
              "      <td>0590442449</td>\n",
              "      <td>10</td>\n",
              "    </tr>\n",
              "    <tr>\n",
              "      <th>1149779</th>\n",
              "      <td>276723</td>\n",
              "      <td>05162443314</td>\n",
              "      <td>8</td>\n",
              "    </tr>\n",
              "  </tbody>\n",
              "</table>\n",
              "</div>"
            ],
            "text/plain": [
              "         User-ID         ISBN  Book-Rating\n",
              "1149775   276704   1563526298            9\n",
              "1149776   276706   0679447156            0\n",
              "1149777   276709   0515107662           10\n",
              "1149778   276721   0590442449           10\n",
              "1149779   276723  05162443314            8"
            ]
          },
          "metadata": {},
          "execution_count": 14
        }
      ]
    },
    {
      "cell_type": "markdown",
      "metadata": {
        "id": "l2mtt8Mq4g3R"
      },
      "source": [
        "###**Dimension of dataset**"
      ]
    },
    {
      "cell_type": "code",
      "metadata": {
        "id": "meZ_--YsLMP9",
        "colab": {
          "base_uri": "https://localhost:8080/"
        },
        "outputId": "9b26ef7e-9406-4df0-a50b-5f123f7a86da"
      },
      "source": [
        "# Dataset dimension\n",
        "print(f'''\\t  Book_df shape is {books.shape}\n",
        "          Ratings_df shape is {ratings.shape}\n",
        "          Users_df shape is {users.shape}''')"
      ],
      "execution_count": 15,
      "outputs": [
        {
          "output_type": "stream",
          "name": "stdout",
          "text": [
            "\t  Book_df shape is (271360, 8)\n",
            "          Ratings_df shape is (1149780, 3)\n",
            "          Users_df shape is (278858, 3)\n"
          ]
        }
      ]
    },
    {
      "cell_type": "markdown",
      "metadata": {
        "id": "NQ3kwekA9fLd"
      },
      "source": [
        "## **Users Dataset(EDA)**\n",
        "\n",
        "\n"
      ]
    },
    {
      "cell_type": "markdown",
      "metadata": {
        "id": "CDaqTS0LBFFC"
      },
      "source": [
        "### **Let's find the %age of null values in users dataset** "
      ]
    },
    {
      "cell_type": "code",
      "metadata": {
        "id": "TlTLXEiD8zoo"
      },
      "source": [
        "#defining function to find %age of null values\n",
        "\n",
        "def missing_values(df):\n",
        "    mis_val=df.isnull().sum()\n",
        "    mis_val_percent=round(df.isnull().mean().mul(100),2)\n",
        "    mz_table=pd.concat([mis_val,mis_val_percent],axis=1)\n",
        "    mz_table=mz_table.rename(\n",
        "    columns={df.index.name:'col_name',0:'Missing Values',1:'% of Total Values'})\n",
        "    mz_table['Data_type']=df.dtypes\n",
        "    mz_table=mz_table.sort_values('% of Total Values',ascending=False)\n",
        "    return mz_table.reset_index()"
      ],
      "execution_count": 16,
      "outputs": []
    },
    {
      "cell_type": "code",
      "metadata": {
        "colab": {
          "base_uri": "https://localhost:8080/",
          "height": 143
        },
        "id": "nErB7_gFBgei",
        "outputId": "45b877e5-0b47-4b3f-b658-39ca4c6a7f00"
      },
      "source": [
        "#%age of null values in users dataset\n",
        "\n",
        "missing_values(users)"
      ],
      "execution_count": 17,
      "outputs": [
        {
          "output_type": "execute_result",
          "data": {
            "text/html": [
              "<div>\n",
              "<style scoped>\n",
              "    .dataframe tbody tr th:only-of-type {\n",
              "        vertical-align: middle;\n",
              "    }\n",
              "\n",
              "    .dataframe tbody tr th {\n",
              "        vertical-align: top;\n",
              "    }\n",
              "\n",
              "    .dataframe thead th {\n",
              "        text-align: right;\n",
              "    }\n",
              "</style>\n",
              "<table border=\"1\" class=\"dataframe\">\n",
              "  <thead>\n",
              "    <tr style=\"text-align: right;\">\n",
              "      <th></th>\n",
              "      <th>index</th>\n",
              "      <th>Missing Values</th>\n",
              "      <th>% of Total Values</th>\n",
              "      <th>Data_type</th>\n",
              "    </tr>\n",
              "  </thead>\n",
              "  <tbody>\n",
              "    <tr>\n",
              "      <th>0</th>\n",
              "      <td>Age</td>\n",
              "      <td>110762</td>\n",
              "      <td>39.72</td>\n",
              "      <td>float64</td>\n",
              "    </tr>\n",
              "    <tr>\n",
              "      <th>1</th>\n",
              "      <td>User-ID</td>\n",
              "      <td>0</td>\n",
              "      <td>0.00</td>\n",
              "      <td>int64</td>\n",
              "    </tr>\n",
              "    <tr>\n",
              "      <th>2</th>\n",
              "      <td>Location</td>\n",
              "      <td>0</td>\n",
              "      <td>0.00</td>\n",
              "      <td>object</td>\n",
              "    </tr>\n",
              "  </tbody>\n",
              "</table>\n",
              "</div>"
            ],
            "text/plain": [
              "      index  Missing Values  % of Total Values Data_type\n",
              "0       Age          110762              39.72   float64\n",
              "1   User-ID               0               0.00     int64\n",
              "2  Location               0               0.00    object"
            ]
          },
          "metadata": {},
          "execution_count": 17
        }
      ]
    },
    {
      "cell_type": "markdown",
      "metadata": {
        "id": "EcTl30ZrBsw3"
      },
      "source": [
        "* **Age column has around 39% null values**"
      ]
    },
    {
      "cell_type": "code",
      "metadata": {
        "colab": {
          "base_uri": "https://localhost:8080/",
          "height": 488
        },
        "id": "vZ4LYiYBBk-G",
        "outputId": "e2bd1c53-4c59-44ae-86be-8bccf1165ec6"
      },
      "source": [
        "#plotting heat map of null values\n",
        "\n",
        "fig,axes=plt.subplots(1,1,figsize=(10,8))\n",
        "sns.heatmap(users.isna())\n",
        "plt.show()"
      ],
      "execution_count": 18,
      "outputs": [
        {
          "output_type": "display_data",
          "data": {
            "image/png": "[encoded data removed]",
            "text/plain": [
              "<Figure size 720x576 with 2 Axes>"
            ]
          },
          "metadata": {
            "needs_background": "light"
          }
        }
      ]
    },
    {
      "cell_type": "markdown",
      "metadata": {
        "id": "ZNm5FUeLDUUr"
      },
      "source": [
        "### **Let's check for outliers in Age column.**"
      ]
    },
    {
      "cell_type": "code",
      "metadata": {
        "colab": {
          "base_uri": "https://localhost:8080/",
          "height": 339
        },
        "id": "qt12zYj-C0Sn",
        "outputId": "e4ef20fe-c7ab-434d-da87-99a07aa238f6"
      },
      "source": [
        "# Plotting boxplot for age column\n",
        "\n",
        "plt.figure(figsize=(8,5))\n",
        "sns.boxplot(y='Age', data=users)\n",
        "plt.title('Boxplot of Age column')"
      ],
      "execution_count": 19,
      "outputs": [
        {
          "output_type": "execute_result",
          "data": {
            "text/plain": [
              "Text(0.5, 1.0, 'Boxplot of Age column')"
            ]
          },
          "metadata": {},
          "execution_count": 19
        },
        {
          "output_type": "display_data",
          "data": {
            "image/png": "[encoded data removed]",
            "text/plain": [
              "<Figure size 576x360 with 1 Axes>"
            ]
          },
          "metadata": {
            "needs_background": "light"
          }
        }
      ]
    },
    {
      "cell_type": "code",
      "metadata": {
        "colab": {
          "base_uri": "https://localhost:8080/"
        },
        "id": "0nMLX8jUDoVd",
        "outputId": "69ba1282-8932-4fbf-bc70-27205cd734df"
      },
      "source": [
        "#printing unique age values\n",
        "\n",
        "print(sorted(users.Age.unique()))"
      ],
      "execution_count": 20,
      "outputs": [
        {
          "output_type": "stream",
          "name": "stdout",
          "text": [
            "[nan, 0.0, 1.0, 2.0, 3.0, 4.0, 5.0, 6.0, 7.0, 8.0, 9.0, 10.0, 11.0, 12.0, 13.0, 14.0, 15.0, 16.0, 17.0, 18.0, 19.0, 20.0, 21.0, 22.0, 23.0, 24.0, 25.0, 26.0, 27.0, 28.0, 29.0, 30.0, 31.0, 32.0, 33.0, 34.0, 35.0, 36.0, 37.0, 38.0, 39.0, 40.0, 41.0, 42.0, 43.0, 44.0, 45.0, 46.0, 47.0, 48.0, 49.0, 50.0, 51.0, 52.0, 53.0, 54.0, 55.0, 56.0, 57.0, 58.0, 59.0, 60.0, 61.0, 62.0, 63.0, 64.0, 65.0, 66.0, 67.0, 68.0, 69.0, 70.0, 71.0, 72.0, 73.0, 74.0, 75.0, 76.0, 77.0, 78.0, 79.0, 80.0, 81.0, 82.0, 83.0, 84.0, 85.0, 86.0, 87.0, 88.0, 89.0, 90.0, 91.0, 92.0, 93.0, 94.0, 95.0, 96.0, 97.0, 98.0, 99.0, 100.0, 101.0, 102.0, 103.0, 104.0, 105.0, 106.0, 107.0, 108.0, 109.0, 110.0, 111.0, 113.0, 114.0, 115.0, 116.0, 118.0, 119.0, 123.0, 124.0, 127.0, 128.0, 132.0, 133.0, 136.0, 137.0, 138.0, 140.0, 141.0, 143.0, 146.0, 147.0, 148.0, 151.0, 152.0, 156.0, 157.0, 159.0, 162.0, 168.0, 172.0, 175.0, 183.0, 186.0, 189.0, 199.0, 200.0, 201.0, 204.0, 207.0, 208.0, 209.0, 210.0, 212.0, 219.0, 220.0, 223.0, 226.0, 228.0, 229.0, 230.0, 231.0, 237.0, 239.0, 244.0]\n"
          ]
        }
      ]
    },
    {
      "cell_type": "markdown",
      "metadata": {
        "id": "dZ6fJDvKD_MW"
      },
      "source": [
        "**Age : 244 <br>\n",
        "there,we have Outlier data in Age**"
      ]
    },
    {
      "cell_type": "code",
      "metadata": {
        "colab": {
          "base_uri": "https://localhost:8080/",
          "height": 310
        },
        "id": "HkFxBy5oD2xc",
        "outputId": "7c147908-2431-4742-826b-7e29427aeb47"
      },
      "source": [
        "# Histplot showing distribution of age\n",
        "\n",
        "users.Age.hist(bins=[0, 10, 20, 30, 40, 50, 100])\n",
        "plt.title('Age Distribution\\n')\n",
        "plt.xlabel('Age')\n",
        "plt.ylabel('Count')\n",
        "plt.show()"
      ],
      "execution_count": 21,
      "outputs": [
        {
          "output_type": "display_data",
          "data": {
            "image/png": "[encoded data removed]",
            "text/plain": [
              "<Figure size 432x288 with 1 Axes>"
            ]
          },
          "metadata": {
            "needs_background": "light"
          }
        }
      ]
    },
    {
      "cell_type": "markdown",
      "metadata": {
        "id": "6FQVPAF4EmrD"
      },
      "source": [
        "* **Users of age group 20-30s are most active**"
      ]
    },
    {
      "cell_type": "markdown",
      "metadata": {
        "id": "PUMOHBjJE9UM"
      },
      "source": [
        "### **Let's find unique value in Location column**"
      ]
    },
    {
      "cell_type": "code",
      "metadata": {
        "colab": {
          "base_uri": "https://localhost:8080/"
        },
        "id": "mH862hSdEgi5",
        "outputId": "a9022c5c-0d4e-48e1-cf1f-8b2f41ebf06d"
      },
      "source": [
        "# Printing unique values of location column\n",
        "\n",
        "users['Location'].unique()"
      ],
      "execution_count": 22,
      "outputs": [
        {
          "output_type": "execute_result",
          "data": {
            "text/plain": [
              "array(['nyc, new york, usa', 'stockton, california, usa',\n",
              "       'moscow, yukon territory, russia', ...,\n",
              "       'sergnano, lombardia, italy', 'stranraer, n/a, united kingdom',\n",
              "       'tacoma, washington, united kingdom'], dtype=object)"
            ]
          },
          "metadata": {},
          "execution_count": 22
        }
      ]
    },
    {
      "cell_type": "code",
      "metadata": {
        "colab": {
          "base_uri": "https://localhost:8080/"
        },
        "id": "7araCaYpFXHH",
        "outputId": "9255ae4d-5e56-4daf-81e2-85944cd8da65"
      },
      "source": [
        "#Number of unique values in location column\n",
        "\n",
        "users['Location'].nunique()"
      ],
      "execution_count": 23,
      "outputs": [
        {
          "output_type": "execute_result",
          "data": {
            "text/plain": [
              "57339"
            ]
          },
          "metadata": {},
          "execution_count": 23
        }
      ]
    },
    {
      "cell_type": "markdown",
      "metadata": {
        "id": "eG32j8SHGBnh"
      },
      "source": [
        "* **57339 unique Value it's really hard to understand<br>\n",
        "So lets create column Country**"
      ]
    },
    {
      "cell_type": "code",
      "metadata": {
        "id": "CikjajAoF8NJ"
      },
      "source": [
        "# Creating column Country\n",
        "\n",
        "for i in users:\n",
        "    users['Country']=users.Location.str.extract(r'\\,+\\s?(\\w*\\s?\\w*)\\\"*$')   "
      ],
      "execution_count": 24,
      "outputs": []
    },
    {
      "cell_type": "code",
      "metadata": {
        "colab": {
          "base_uri": "https://localhost:8080/"
        },
        "id": "kArJYhAvGSCl",
        "outputId": "08d70ac7-75be-45ff-ea05-6404a0ef1e1b"
      },
      "source": [
        "#printing number of unique values of country column\n",
        "\n",
        "users.Country.nunique()"
      ],
      "execution_count": 25,
      "outputs": [
        {
          "output_type": "execute_result",
          "data": {
            "text/plain": [
              "529"
            ]
          },
          "metadata": {},
          "execution_count": 25
        }
      ]
    },
    {
      "cell_type": "markdown",
      "metadata": {
        "id": "G1eDzCdwGobZ"
      },
      "source": [
        "**Now we can drop location column from dataset.**"
      ]
    },
    {
      "cell_type": "code",
      "metadata": {
        "id": "G8AT2xpmGj4d"
      },
      "source": [
        "# dropping location column\n",
        "\n",
        "users.drop('Location',axis=1,inplace=True)"
      ],
      "execution_count": 26,
      "outputs": []
    },
    {
      "cell_type": "code",
      "metadata": {
        "colab": {
          "base_uri": "https://localhost:8080/",
          "height": 206
        },
        "id": "NBjslSYSHAzR",
        "outputId": "88121c52-576d-481f-9633-5aa1c8f60d69"
      },
      "source": [
        "#let's have a look at users dataset again\n",
        "\n",
        "users.head()"
      ],
      "execution_count": 27,
      "outputs": [
        {
          "output_type": "execute_result",
          "data": {
            "text/html": [
              "<div>\n",
              "<style scoped>\n",
              "    .dataframe tbody tr th:only-of-type {\n",
              "        vertical-align: middle;\n",
              "    }\n",
              "\n",
              "    .dataframe tbody tr th {\n",
              "        vertical-align: top;\n",
              "    }\n",
              "\n",
              "    .dataframe thead th {\n",
              "        text-align: right;\n",
              "    }\n",
              "</style>\n",
              "<table border=\"1\" class=\"dataframe\">\n",
              "  <thead>\n",
              "    <tr style=\"text-align: right;\">\n",
              "      <th></th>\n",
              "      <th>User-ID</th>\n",
              "      <th>Age</th>\n",
              "      <th>Country</th>\n",
              "    </tr>\n",
              "  </thead>\n",
              "  <tbody>\n",
              "    <tr>\n",
              "      <th>0</th>\n",
              "      <td>1</td>\n",
              "      <td>NaN</td>\n",
              "      <td>usa</td>\n",
              "    </tr>\n",
              "    <tr>\n",
              "      <th>1</th>\n",
              "      <td>2</td>\n",
              "      <td>18.0</td>\n",
              "      <td>usa</td>\n",
              "    </tr>\n",
              "    <tr>\n",
              "      <th>2</th>\n",
              "      <td>3</td>\n",
              "      <td>NaN</td>\n",
              "      <td>russia</td>\n",
              "    </tr>\n",
              "    <tr>\n",
              "      <th>3</th>\n",
              "      <td>4</td>\n",
              "      <td>17.0</td>\n",
              "      <td>portugal</td>\n",
              "    </tr>\n",
              "    <tr>\n",
              "      <th>4</th>\n",
              "      <td>5</td>\n",
              "      <td>NaN</td>\n",
              "      <td>united kingdom</td>\n",
              "    </tr>\n",
              "  </tbody>\n",
              "</table>\n",
              "</div>"
            ],
            "text/plain": [
              "   User-ID   Age         Country\n",
              "0        1   NaN             usa\n",
              "1        2  18.0             usa\n",
              "2        3   NaN          russia\n",
              "3        4  17.0        portugal\n",
              "4        5   NaN  united kingdom"
            ]
          },
          "metadata": {},
          "execution_count": 27
        }
      ]
    },
    {
      "cell_type": "code",
      "metadata": {
        "colab": {
          "base_uri": "https://localhost:8080/"
        },
        "id": "tqgWoDAvHS7Q",
        "outputId": "a5420187-d545-4f94-8080-65cf125b1c43"
      },
      "source": [
        "#Let's see datatypes of column\n",
        "\n",
        "users.info()"
      ],
      "execution_count": 28,
      "outputs": [
        {
          "output_type": "stream",
          "name": "stdout",
          "text": [
            "<class 'pandas.core.frame.DataFrame'>\n",
            "RangeIndex: 278858 entries, 0 to 278857\n",
            "Data columns (total 3 columns):\n",
            " #   Column   Non-Null Count   Dtype  \n",
            "---  ------   --------------   -----  \n",
            " 0   User-ID  278858 non-null  int64  \n",
            " 1   Age      168096 non-null  float64\n",
            " 2   Country  278490 non-null  object \n",
            "dtypes: float64(1), int64(1), object(1)\n",
            "memory usage: 6.4+ MB\n"
          ]
        }
      ]
    },
    {
      "cell_type": "code",
      "metadata": {
        "id": "_hrMu-1AHa8f"
      },
      "source": [
        "#Converting country column into string datatype\n",
        "\n",
        "users['Country']=users['Country'].astype('str')"
      ],
      "execution_count": 29,
      "outputs": []
    },
    {
      "cell_type": "markdown",
      "metadata": {
        "id": "38ZRj36fcHpq"
      },
      "source": [
        "## **Books Dataset(EDA)**\n",
        "\n",
        "\n"
      ]
    },
    {
      "cell_type": "markdown",
      "metadata": {
        "id": "Dp7K-lXecQG8"
      },
      "source": [
        "**Let's have a look at books dataset again.**"
      ]
    },
    {
      "cell_type": "code",
      "metadata": {
        "id": "zW_LkGb8H3Ia",
        "colab": {
          "base_uri": "https://localhost:8080/",
          "height": 434
        },
        "outputId": "8848aa27-2de1-4342-dd34-3f339a2b8b2d"
      },
      "source": [
        "# Printing rows using head of books dataset.\n",
        "\n",
        "books.head()"
      ],
      "execution_count": 30,
      "outputs": [
        {
          "output_type": "execute_result",
          "data": {
            "text/html": [
              "<div>\n",
              "<style scoped>\n",
              "    .dataframe tbody tr th:only-of-type {\n",
              "        vertical-align: middle;\n",
              "    }\n",
              "\n",
              "    .dataframe tbody tr th {\n",
              "        vertical-align: top;\n",
              "    }\n",
              "\n",
              "    .dataframe thead th {\n",
              "        text-align: right;\n",
              "    }\n",
              "</style>\n",
              "<table border=\"1\" class=\"dataframe\">\n",
              "  <thead>\n",
              "    <tr style=\"text-align: right;\">\n",
              "      <th></th>\n",
              "      <th>ISBN</th>\n",
              "      <th>Book-Title</th>\n",
              "      <th>Book-Author</th>\n",
              "      <th>Year-Of-Publication</th>\n",
              "      <th>Publisher</th>\n",
              "      <th>Image-URL-S</th>\n",
              "      <th>Image-URL-M</th>\n",
              "      <th>Image-URL-L</th>\n",
              "    </tr>\n",
              "  </thead>\n",
              "  <tbody>\n",
              "    <tr>\n",
              "      <th>0</th>\n",
              "      <td>0195153448</td>\n",
              "      <td>Classical Mythology</td>\n",
              "      <td>Mark P. O. Morford</td>\n",
              "      <td>2002</td>\n",
              "      <td>Oxford University Press</td>\n",
              "      <td>http://images.amazon.com/images/P/0195153448.0...</td>\n",
              "      <td>http://images.amazon.com/images/P/0195153448.0...</td>\n",
              "      <td>http://images.amazon.com/images/P/0195153448.0...</td>\n",
              "    </tr>\n",
              "    <tr>\n",
              "      <th>1</th>\n",
              "      <td>0002005018</td>\n",
              "      <td>Clara Callan</td>\n",
              "      <td>Richard Bruce Wright</td>\n",
              "      <td>2001</td>\n",
              "      <td>HarperFlamingo Canada</td>\n",
              "      <td>http://images.amazon.com/images/P/0002005018.0...</td>\n",
              "      <td>http://images.amazon.com/images/P/0002005018.0...</td>\n",
              "      <td>http://images.amazon.com/images/P/0002005018.0...</td>\n",
              "    </tr>\n",
              "    <tr>\n",
              "      <th>2</th>\n",
              "      <td>0060973129</td>\n",
              "      <td>Decision in Normandy</td>\n",
              "      <td>Carlo D'Este</td>\n",
              "      <td>1991</td>\n",
              "      <td>HarperPerennial</td>\n",
              "      <td>http://images.amazon.com/images/P/0060973129.0...</td>\n",
              "      <td>http://images.amazon.com/images/P/0060973129.0...</td>\n",
              "      <td>http://images.amazon.com/images/P/0060973129.0...</td>\n",
              "    </tr>\n",
              "    <tr>\n",
              "      <th>3</th>\n",
              "      <td>0374157065</td>\n",
              "      <td>Flu: The Story of the Great Influenza Pandemic...</td>\n",
              "      <td>Gina Bari Kolata</td>\n",
              "      <td>1999</td>\n",
              "      <td>Farrar Straus Giroux</td>\n",
              "      <td>http://images.amazon.com/images/P/0374157065.0...</td>\n",
              "      <td>http://images.amazon.com/images/P/0374157065.0...</td>\n",
              "      <td>http://images.amazon.com/images/P/0374157065.0...</td>\n",
              "    </tr>\n",
              "    <tr>\n",
              "      <th>4</th>\n",
              "      <td>0393045218</td>\n",
              "      <td>The Mummies of Urumchi</td>\n",
              "      <td>E. J. W. Barber</td>\n",
              "      <td>1999</td>\n",
              "      <td>W. W. Norton &amp;amp; Company</td>\n",
              "      <td>http://images.amazon.com/images/P/0393045218.0...</td>\n",
              "      <td>http://images.amazon.com/images/P/0393045218.0...</td>\n",
              "      <td>http://images.amazon.com/images/P/0393045218.0...</td>\n",
              "    </tr>\n",
              "  </tbody>\n",
              "</table>\n",
              "</div>"
            ],
            "text/plain": [
              "         ISBN  ...                                        Image-URL-L\n",
              "0  0195153448  ...  http://images.amazon.com/images/P/0195153448.0...\n",
              "1  0002005018  ...  http://images.amazon.com/images/P/0002005018.0...\n",
              "2  0060973129  ...  http://images.amazon.com/images/P/0060973129.0...\n",
              "3  0374157065  ...  http://images.amazon.com/images/P/0374157065.0...\n",
              "4  0393045218  ...  http://images.amazon.com/images/P/0393045218.0...\n",
              "\n",
              "[5 rows x 8 columns]"
            ]
          },
          "metadata": {},
          "execution_count": 30
        }
      ]
    },
    {
      "cell_type": "markdown",
      "metadata": {
        "id": "OC0-cepXcwGF"
      },
      "source": [
        "* **Given rows contains information about top 5 books like authors,year of publication etc.**\n",
        "\n"
      ]
    },
    {
      "cell_type": "markdown",
      "metadata": {
        "id": "WbvO2Tq0ddXq"
      },
      "source": [
        "### **Here checking for  10 authors who had written the maximum number of books.**"
      ]
    },
    {
      "cell_type": "code",
      "metadata": {
        "id": "GjHmhqj8cppS",
        "colab": {
          "base_uri": "https://localhost:8080/",
          "height": 546
        },
        "outputId": "d7d3b55b-8c34-43f7-c9c1-bd91b669ecfa"
      },
      "source": [
        "# Using barplot to show top 10 authors\n",
        "\n",
        "plt.figure(figsize=(12,7))\n",
        "chart = sns.countplot(x='Book-Author',data=books,order=pd.value_counts(books['Book-Author']).iloc[:10].index)\n",
        "chart.set_xticklabels(chart.get_xticklabels(), rotation=45)\n",
        "plt.title('Top 10 Authors')"
      ],
      "execution_count": 31,
      "outputs": [
        {
          "output_type": "execute_result",
          "data": {
            "text/plain": [
              "Text(0.5, 1.0, 'Top 10 Authors')"
            ]
          },
          "metadata": {},
          "execution_count": 31
        },
        {
          "output_type": "display_data",
          "data": {
            "image/png": "[encoded data removed]",
            "text/plain": [
              "<Figure size 864x504 with 1 Axes>"
            ]
          },
          "metadata": {
            "needs_background": "light"
          }
        }
      ]
    },
    {
      "cell_type": "markdown",
      "metadata": {
        "id": "6ikNxxZQdcjP"
      },
      "source": [
        "* **It shows that, Agatha Christie had written maximum number of books followed by William Shakespeare and Stephen King.**"
      ]
    },
    {
      "cell_type": "markdown",
      "metadata": {
        "id": "e_0jE0DSd7S8"
      },
      "source": [
        "### **Now checking for top 10 publishers who have published maximum number of books.**"
      ]
    },
    {
      "cell_type": "code",
      "metadata": {
        "id": "hSeJQqLHd2ib",
        "colab": {
          "base_uri": "https://localhost:8080/",
          "height": 561
        },
        "outputId": "f8170375-220c-4271-d889-f22a92a5b6a3"
      },
      "source": [
        "# Using barplot to show top 10 publishers.\n",
        "\n",
        "plt.figure(figsize=(12,7))\n",
        "chart = sns.countplot(x='Publisher',data=books,order=pd.value_counts(books['Publisher']).iloc[:10].index)\n",
        "chart.set_xticklabels(chart.get_xticklabels(), rotation=45)\n",
        "plt.title('Top 10 Publishers')"
      ],
      "execution_count": 32,
      "outputs": [
        {
          "output_type": "execute_result",
          "data": {
            "text/plain": [
              "Text(0.5, 1.0, 'Top 10 Publishers')"
            ]
          },
          "metadata": {},
          "execution_count": 32
        },
        {
          "output_type": "display_data",
          "data": {
            "image/png": "[encoded data removed]",
            "text/plain": [
              "<Figure size 864x504 with 1 Axes>"
            ]
          },
          "metadata": {
            "needs_background": "light"
          }
        }
      ]
    },
    {
      "cell_type": "markdown",
      "metadata": {
        "id": "NfkHCRYyd6oK"
      },
      "source": [
        "* **Maximum number of books had been published by Harleyquin.**"
      ]
    },
    {
      "cell_type": "markdown",
      "metadata": {
        "id": "zyT54dO2ekYA"
      },
      "source": [
        "### **Let's look for Year-of-Publication column**"
      ]
    },
    {
      "cell_type": "code",
      "metadata": {
        "id": "pHX_VswpeXke",
        "colab": {
          "base_uri": "https://localhost:8080/"
        },
        "outputId": "0026b89a-bbf9-4886-c2d6-4393a8c8f81f"
      },
      "source": [
        "# Let's print unique values of location column\n",
        "\n",
        "books['Year-Of-Publication'].unique()"
      ],
      "execution_count": 33,
      "outputs": [
        {
          "output_type": "execute_result",
          "data": {
            "text/plain": [
              "array([2002, 2001, 1991, 1999, 2000, 1993, 1996, 1988, 2004, 1998, 1994,\n",
              "       2003, 1997, 1983, 1979, 1995, 1982, 1985, 1992, 1986, 1978, 1980,\n",
              "       1952, 1987, 1990, 1981, 1989, 1984, 0, 1968, 1961, 1958, 1974,\n",
              "       1976, 1971, 1977, 1975, 1965, 1941, 1970, 1962, 1973, 1972, 1960,\n",
              "       1966, 1920, 1956, 1959, 1953, 1951, 1942, 1963, 1964, 1969, 1954,\n",
              "       1950, 1967, 2005, 1957, 1940, 1937, 1955, 1946, 1936, 1930, 2011,\n",
              "       1925, 1948, 1943, 1947, 1945, 1923, 2020, 1939, 1926, 1938, 2030,\n",
              "       1911, 1904, 1949, 1932, 1928, 1929, 1927, 1931, 1914, 2050, 1934,\n",
              "       1910, 1933, 1902, 1924, 1921, 1900, 2038, 2026, 1944, 1917, 1901,\n",
              "       2010, 1908, 1906, 1935, 1806, 2021, '2000', '1995', '1999', '2004',\n",
              "       '2003', '1990', '1994', '1986', '1989', '2002', '1981', '1993',\n",
              "       '1983', '1982', '1976', '1991', '1977', '1998', '1992', '1996',\n",
              "       '0', '1997', '2001', '1974', '1968', '1987', '1984', '1988',\n",
              "       '1963', '1956', '1970', '1985', '1978', '1973', '1980', '1979',\n",
              "       '1975', '1969', '1961', '1965', '1939', '1958', '1950', '1953',\n",
              "       '1966', '1971', '1959', '1972', '1955', '1957', '1945', '1960',\n",
              "       '1967', '1932', '1924', '1964', '2012', '1911', '1927', '1948',\n",
              "       '1962', '2006', '1952', '1940', '1951', '1931', '1954', '2005',\n",
              "       '1930', '1941', '1944', 'DK Publishing Inc', '1943', '1938',\n",
              "       '1900', '1942', '1923', '1920', '1933', 'Gallimard', '1909',\n",
              "       '1946', '2008', '1378', '2030', '1936', '1947', '2011', '2020',\n",
              "       '1919', '1949', '1922', '1897', '2024', '1376', '1926', '2037'],\n",
              "      dtype=object)"
            ]
          },
          "metadata": {},
          "execution_count": 33
        }
      ]
    },
    {
      "cell_type": "markdown",
      "metadata": {
        "id": "mzrth36He2DZ"
      },
      "source": [
        "****\n",
        "> * **Here Year-of-Publication column contains some name of publishers.**\n",
        "> * **Some values are int and some values are string.**\n",
        "\n"
      ]
    },
    {
      "cell_type": "code",
      "metadata": {
        "id": "O1gTh6NqetdY"
      },
      "source": [
        "# Therefore let's Convert all values into string\n",
        "\n",
        "books['Year-Of-Publication']=books['Year-Of-Publication'].astype('str')"
      ],
      "execution_count": 34,
      "outputs": []
    },
    {
      "cell_type": "markdown",
      "metadata": {
        "id": "wn0tsVouMvsG"
      },
      "source": [
        "### **Cleaning Year-of-Publication column**"
      ]
    },
    {
      "cell_type": "code",
      "metadata": {
        "id": "H_ZXiQ3HfFhI",
        "colab": {
          "base_uri": "https://localhost:8080/",
          "height": 375
        },
        "outputId": "2db29f7f-fcd9-4a8a-b0e6-a05852a0d236"
      },
      "source": [
        "# Let's check the rows having 'DK Publishing Inc' as Year-of-Publication\n",
        "\n",
        "books.loc[books['Year-Of-Publication'] == 'DK Publishing Inc',:]"
      ],
      "execution_count": 35,
      "outputs": [
        {
          "output_type": "execute_result",
          "data": {
            "text/html": [
              "<div>\n",
              "<style scoped>\n",
              "    .dataframe tbody tr th:only-of-type {\n",
              "        vertical-align: middle;\n",
              "    }\n",
              "\n",
              "    .dataframe tbody tr th {\n",
              "        vertical-align: top;\n",
              "    }\n",
              "\n",
              "    .dataframe thead th {\n",
              "        text-align: right;\n",
              "    }\n",
              "</style>\n",
              "<table border=\"1\" class=\"dataframe\">\n",
              "  <thead>\n",
              "    <tr style=\"text-align: right;\">\n",
              "      <th></th>\n",
              "      <th>ISBN</th>\n",
              "      <th>Book-Title</th>\n",
              "      <th>Book-Author</th>\n",
              "      <th>Year-Of-Publication</th>\n",
              "      <th>Publisher</th>\n",
              "      <th>Image-URL-S</th>\n",
              "      <th>Image-URL-M</th>\n",
              "      <th>Image-URL-L</th>\n",
              "    </tr>\n",
              "  </thead>\n",
              "  <tbody>\n",
              "    <tr>\n",
              "      <th>209538</th>\n",
              "      <td>078946697X</td>\n",
              "      <td>DK Readers: Creating the X-Men, How It All Beg...</td>\n",
              "      <td>2000</td>\n",
              "      <td>DK Publishing Inc</td>\n",
              "      <td>http://images.amazon.com/images/P/078946697X.0...</td>\n",
              "      <td>http://images.amazon.com/images/P/078946697X.0...</td>\n",
              "      <td>http://images.amazon.com/images/P/078946697X.0...</td>\n",
              "      <td>NaN</td>\n",
              "    </tr>\n",
              "    <tr>\n",
              "      <th>221678</th>\n",
              "      <td>0789466953</td>\n",
              "      <td>DK Readers: Creating the X-Men, How Comic Book...</td>\n",
              "      <td>2000</td>\n",
              "      <td>DK Publishing Inc</td>\n",
              "      <td>http://images.amazon.com/images/P/0789466953.0...</td>\n",
              "      <td>http://images.amazon.com/images/P/0789466953.0...</td>\n",
              "      <td>http://images.amazon.com/images/P/0789466953.0...</td>\n",
              "      <td>NaN</td>\n",
              "    </tr>\n",
              "  </tbody>\n",
              "</table>\n",
              "</div>"
            ],
            "text/plain": [
              "              ISBN  ... Image-URL-L\n",
              "209538  078946697X  ...         NaN\n",
              "221678  0789466953  ...         NaN\n",
              "\n",
              "[2 rows x 8 columns]"
            ]
          },
          "metadata": {},
          "execution_count": 35
        }
      ]
    },
    {
      "cell_type": "markdown",
      "metadata": {
        "id": "9LrZchZ3NVAL"
      },
      "source": [
        "* **Here Publisher names 'DK Publishing Inc' and 'Gallimard' have been incorrectly loaded as Year-Of-Publication in dataset due to some errors in csv file.**"
      ]
    },
    {
      "cell_type": "code",
      "metadata": {
        "id": "bsDus5jVM-a1"
      },
      "source": [
        "# As book Author is incorrectly loaded with Book Title, so let's correct them\n",
        "\n",
        "#ISBN '0789466953'\n",
        "books.loc[books.ISBN == '0789466953','Year-Of-Publication'] = 2000\n",
        "books.loc[books.ISBN == '0789466953','Book-Author'] = \"James Buckley\"\n",
        "books.loc[books.ISBN == '0789466953','Publisher'] = \"DK Publishing Inc\"\n",
        "books.loc[books.ISBN == '0789466953','Book-Title'] = \"DK Readers: Creating the X-Men, How Comic Books Come to Life (Level 4: Proficient Readers)\"\n",
        "\n",
        "#ISBN '078946697X'\n",
        "books.loc[books.ISBN == '078946697X','Year-Of-Publication'] = 2000\n",
        "books.loc[books.ISBN == '078946697X','Book-Author'] = \"Michael Teitelbaum\"\n",
        "books.loc[books.ISBN == '078946697X','Publisher'] = \"DK Publishing Inc\"\n",
        "books.loc[books.ISBN == '078946697X','Book-Title'] = \"DK Readers: Creating the X-Men, How It All Began (Level 4: Proficient Readers)\""
      ],
      "execution_count": 36,
      "outputs": []
    },
    {
      "cell_type": "code",
      "metadata": {
        "colab": {
          "base_uri": "https://localhost:8080/",
          "height": 355
        },
        "id": "yVs0dfYuNjIp",
        "outputId": "7c7df4a3-835f-46ec-e145-68f2691d299c"
      },
      "source": [
        "# Let's check the corrections\n",
        "\n",
        "books.loc[(books.ISBN == '0789466953') | (books.ISBN == '078946697X'),:]"
      ],
      "execution_count": 37,
      "outputs": [
        {
          "output_type": "execute_result",
          "data": {
            "text/html": [
              "<div>\n",
              "<style scoped>\n",
              "    .dataframe tbody tr th:only-of-type {\n",
              "        vertical-align: middle;\n",
              "    }\n",
              "\n",
              "    .dataframe tbody tr th {\n",
              "        vertical-align: top;\n",
              "    }\n",
              "\n",
              "    .dataframe thead th {\n",
              "        text-align: right;\n",
              "    }\n",
              "</style>\n",
              "<table border=\"1\" class=\"dataframe\">\n",
              "  <thead>\n",
              "    <tr style=\"text-align: right;\">\n",
              "      <th></th>\n",
              "      <th>ISBN</th>\n",
              "      <th>Book-Title</th>\n",
              "      <th>Book-Author</th>\n",
              "      <th>Year-Of-Publication</th>\n",
              "      <th>Publisher</th>\n",
              "      <th>Image-URL-S</th>\n",
              "      <th>Image-URL-M</th>\n",
              "      <th>Image-URL-L</th>\n",
              "    </tr>\n",
              "  </thead>\n",
              "  <tbody>\n",
              "    <tr>\n",
              "      <th>209538</th>\n",
              "      <td>078946697X</td>\n",
              "      <td>DK Readers: Creating the X-Men, How It All Beg...</td>\n",
              "      <td>Michael Teitelbaum</td>\n",
              "      <td>2000</td>\n",
              "      <td>DK Publishing Inc</td>\n",
              "      <td>http://images.amazon.com/images/P/078946697X.0...</td>\n",
              "      <td>http://images.amazon.com/images/P/078946697X.0...</td>\n",
              "      <td>NaN</td>\n",
              "    </tr>\n",
              "    <tr>\n",
              "      <th>221678</th>\n",
              "      <td>0789466953</td>\n",
              "      <td>DK Readers: Creating the X-Men, How Comic Book...</td>\n",
              "      <td>James Buckley</td>\n",
              "      <td>2000</td>\n",
              "      <td>DK Publishing Inc</td>\n",
              "      <td>http://images.amazon.com/images/P/0789466953.0...</td>\n",
              "      <td>http://images.amazon.com/images/P/0789466953.0...</td>\n",
              "      <td>NaN</td>\n",
              "    </tr>\n",
              "  </tbody>\n",
              "</table>\n",
              "</div>"
            ],
            "text/plain": [
              "              ISBN  ... Image-URL-L\n",
              "209538  078946697X  ...         NaN\n",
              "221678  0789466953  ...         NaN\n",
              "\n",
              "[2 rows x 8 columns]"
            ]
          },
          "metadata": {},
          "execution_count": 37
        }
      ]
    },
    {
      "cell_type": "code",
      "metadata": {
        "colab": {
          "base_uri": "https://localhost:8080/",
          "height": 170
        },
        "id": "C52bX_hzNrGp",
        "outputId": "9d6854ac-6f4c-4441-808a-ab01174f44fb"
      },
      "source": [
        "# Let's investigate the rows having 'Gallimard' as Year-of-Publication\n",
        "\n",
        "books.loc[books['Year-Of-Publication'] == 'Gallimard',:]"
      ],
      "execution_count": 38,
      "outputs": [
        {
          "output_type": "execute_result",
          "data": {
            "text/html": [
              "<div>\n",
              "<style scoped>\n",
              "    .dataframe tbody tr th:only-of-type {\n",
              "        vertical-align: middle;\n",
              "    }\n",
              "\n",
              "    .dataframe tbody tr th {\n",
              "        vertical-align: top;\n",
              "    }\n",
              "\n",
              "    .dataframe thead th {\n",
              "        text-align: right;\n",
              "    }\n",
              "</style>\n",
              "<table border=\"1\" class=\"dataframe\">\n",
              "  <thead>\n",
              "    <tr style=\"text-align: right;\">\n",
              "      <th></th>\n",
              "      <th>ISBN</th>\n",
              "      <th>Book-Title</th>\n",
              "      <th>Book-Author</th>\n",
              "      <th>Year-Of-Publication</th>\n",
              "      <th>Publisher</th>\n",
              "      <th>Image-URL-S</th>\n",
              "      <th>Image-URL-M</th>\n",
              "      <th>Image-URL-L</th>\n",
              "    </tr>\n",
              "  </thead>\n",
              "  <tbody>\n",
              "    <tr>\n",
              "      <th>220731</th>\n",
              "      <td>2070426769</td>\n",
              "      <td>Peuple du ciel, suivi de 'Les Bergers\\\";Jean-M...</td>\n",
              "      <td>2003</td>\n",
              "      <td>Gallimard</td>\n",
              "      <td>http://images.amazon.com/images/P/2070426769.0...</td>\n",
              "      <td>http://images.amazon.com/images/P/2070426769.0...</td>\n",
              "      <td>http://images.amazon.com/images/P/2070426769.0...</td>\n",
              "      <td>NaN</td>\n",
              "    </tr>\n",
              "  </tbody>\n",
              "</table>\n",
              "</div>"
            ],
            "text/plain": [
              "              ISBN  ... Image-URL-L\n",
              "220731  2070426769  ...         NaN\n",
              "\n",
              "[1 rows x 8 columns]"
            ]
          },
          "metadata": {},
          "execution_count": 38
        }
      ]
    },
    {
      "cell_type": "code",
      "metadata": {
        "id": "NPGZVMmINxYR"
      },
      "source": [
        "# Making required corrections as above, keeping other fields intact\n",
        "\n",
        "books.loc[books.ISBN == '2070426769','Year-Of-Publication'] = 2003\n",
        "books.loc[books.ISBN == '2070426769','Book-Author'] = \"Jean-Marie Gustave Le ClÃ?Â©zio\"\n",
        "books.loc[books.ISBN == '2070426769','Publisher'] = \"Gallimard\"\n",
        "books.loc[books.ISBN == '2070426769','Book-Title'] = \"Peuple du ciel, suivi de 'Les Bergers\""
      ],
      "execution_count": 39,
      "outputs": []
    },
    {
      "cell_type": "code",
      "metadata": {
        "colab": {
          "base_uri": "https://localhost:8080/",
          "height": 168
        },
        "id": "jF_Upry-N16M",
        "outputId": "0190bbec-e5f0-4b33-d2fc-51aec4716212"
      },
      "source": [
        "# Let's check the corrections\n",
        "\n",
        "books.loc[books.ISBN == '2070426769',:]"
      ],
      "execution_count": 40,
      "outputs": [
        {
          "output_type": "execute_result",
          "data": {
            "text/html": [
              "<div>\n",
              "<style scoped>\n",
              "    .dataframe tbody tr th:only-of-type {\n",
              "        vertical-align: middle;\n",
              "    }\n",
              "\n",
              "    .dataframe tbody tr th {\n",
              "        vertical-align: top;\n",
              "    }\n",
              "\n",
              "    .dataframe thead th {\n",
              "        text-align: right;\n",
              "    }\n",
              "</style>\n",
              "<table border=\"1\" class=\"dataframe\">\n",
              "  <thead>\n",
              "    <tr style=\"text-align: right;\">\n",
              "      <th></th>\n",
              "      <th>ISBN</th>\n",
              "      <th>Book-Title</th>\n",
              "      <th>Book-Author</th>\n",
              "      <th>Year-Of-Publication</th>\n",
              "      <th>Publisher</th>\n",
              "      <th>Image-URL-S</th>\n",
              "      <th>Image-URL-M</th>\n",
              "      <th>Image-URL-L</th>\n",
              "    </tr>\n",
              "  </thead>\n",
              "  <tbody>\n",
              "    <tr>\n",
              "      <th>220731</th>\n",
              "      <td>2070426769</td>\n",
              "      <td>Peuple du ciel, suivi de 'Les Bergers</td>\n",
              "      <td>Jean-Marie Gustave Le ClÃ?Â©zio</td>\n",
              "      <td>2003</td>\n",
              "      <td>Gallimard</td>\n",
              "      <td>http://images.amazon.com/images/P/2070426769.0...</td>\n",
              "      <td>http://images.amazon.com/images/P/2070426769.0...</td>\n",
              "      <td>NaN</td>\n",
              "    </tr>\n",
              "  </tbody>\n",
              "</table>\n",
              "</div>"
            ],
            "text/plain": [
              "              ISBN  ... Image-URL-L\n",
              "220731  2070426769  ...         NaN\n",
              "\n",
              "[1 rows x 8 columns]"
            ]
          },
          "metadata": {},
          "execution_count": 40
        }
      ]
    },
    {
      "cell_type": "markdown",
      "metadata": {
        "id": "KbM2nAbAN8Zq"
      },
      "source": [
        "**Mistakes has been corrected in Year-of-Publication column.**"
      ]
    },
    {
      "cell_type": "markdown",
      "metadata": {
        "id": "cTwKha9ZOKrZ"
      },
      "source": [
        "**let's convert all values of Year-of-Publication into integers.**"
      ]
    },
    {
      "cell_type": "code",
      "metadata": {
        "colab": {
          "base_uri": "https://localhost:8080/"
        },
        "id": "kt5E2OUkN4wO",
        "outputId": "7077f94f-10a8-4ac5-c2ff-850efb10ad1d"
      },
      "source": [
        "# Converting each values from string to integers\n",
        "\n",
        "books['Year-Of-Publication']=pd.to_numeric(books['Year-Of-Publication'], errors='coerce')\n",
        "\n",
        "print(sorted(books['Year-Of-Publication'].unique()))"
      ],
      "execution_count": 41,
      "outputs": [
        {
          "output_type": "stream",
          "name": "stdout",
          "text": [
            "[0, 1376, 1378, 1806, 1897, 1900, 1901, 1902, 1904, 1906, 1908, 1909, 1910, 1911, 1914, 1917, 1919, 1920, 1921, 1922, 1923, 1924, 1925, 1926, 1927, 1928, 1929, 1930, 1931, 1932, 1933, 1934, 1935, 1936, 1937, 1938, 1939, 1940, 1941, 1942, 1943, 1944, 1945, 1946, 1947, 1948, 1949, 1950, 1951, 1952, 1953, 1954, 1955, 1956, 1957, 1958, 1959, 1960, 1961, 1962, 1963, 1964, 1965, 1966, 1967, 1968, 1969, 1970, 1971, 1972, 1973, 1974, 1975, 1976, 1977, 1978, 1979, 1980, 1981, 1982, 1983, 1984, 1985, 1986, 1987, 1988, 1989, 1990, 1991, 1992, 1993, 1994, 1995, 1996, 1997, 1998, 1999, 2000, 2001, 2002, 2003, 2004, 2005, 2006, 2008, 2010, 2011, 2012, 2020, 2021, 2024, 2026, 2030, 2037, 2038, 2050]\n"
          ]
        }
      ]
    },
    {
      "cell_type": "markdown",
      "metadata": {
        "id": "AXJuvFmlObGv"
      },
      "source": [
        "**Note:**\n",
        "\n",
        "\n",
        "* **Years after 2006 are invalid as this dataset was published in 2004.**\n",
        "* **The value 0 for Year-of-Publication doesn't make any sense.**\n",
        "* **So, we are setting invalid years as NaN.**\n",
        "* **Considering extreme value as 2006 just to keeping some margin in case dataset was updated thereafter.**"
      ]
    },
    {
      "cell_type": "code",
      "metadata": {
        "id": "2PAGov4pOQQ8"
      },
      "source": [
        "# Here Setting invalid years as NaN\n",
        "\n",
        "books.loc[(books['Year-Of-Publication'] > 2006) | (books['Year-Of-Publication'] == 0),'Year-Of-Publication'] = np.NAN"
      ],
      "execution_count": 42,
      "outputs": []
    },
    {
      "cell_type": "code",
      "metadata": {
        "id": "2EQwP-n3Owsc"
      },
      "source": [
        "# Replacing NaNs with mean value of Year-Of-Publication\n",
        "\n",
        "books['Year-Of-Publication'].fillna(round(books['Year-Of-Publication'].mean()), inplace=True)"
      ],
      "execution_count": 43,
      "outputs": []
    },
    {
      "cell_type": "code",
      "metadata": {
        "colab": {
          "base_uri": "https://localhost:8080/"
        },
        "id": "6YKn-CLXOzhX",
        "outputId": "e0c137e1-d733-4c0e-c977-80a474fe63de"
      },
      "source": [
        "\n",
        "# Now checking the no. of null values in Books data\n",
        "\n",
        "books.isnull().sum()\n"
      ],
      "execution_count": 44,
      "outputs": [
        {
          "output_type": "execute_result",
          "data": {
            "text/plain": [
              "ISBN                   0\n",
              "Book-Title             0\n",
              "Book-Author            1\n",
              "Year-Of-Publication    0\n",
              "Publisher              2\n",
              "Image-URL-S            0\n",
              "Image-URL-M            0\n",
              "Image-URL-L            3\n",
              "dtype: int64"
            ]
          },
          "metadata": {},
          "execution_count": 44
        }
      ]
    },
    {
      "cell_type": "markdown",
      "metadata": {
        "id": "EGzeFirvPJ50"
      },
      "source": [
        "* **let's impute as Null values in Book-Author and Publisher columns.**\n",
        "\n"
      ]
    },
    {
      "cell_type": "markdown",
      "metadata": {
        "id": "Yw6O4rRTPnpI"
      },
      "source": [
        "### **Book-Author column**"
      ]
    },
    {
      "cell_type": "code",
      "metadata": {
        "colab": {
          "base_uri": "https://localhost:8080/",
          "height": 222
        },
        "id": "L2SSvGktPFY1",
        "outputId": "5f8ed450-d4d5-4d3a-b78c-cdd7fe4a3d86"
      },
      "source": [
        "# Exploring 'Book-Author' column\n",
        "\n",
        "books.loc[books['Book-Author'].isnull(),:]"
      ],
      "execution_count": 45,
      "outputs": [
        {
          "output_type": "execute_result",
          "data": {
            "text/html": [
              "<div>\n",
              "<style scoped>\n",
              "    .dataframe tbody tr th:only-of-type {\n",
              "        vertical-align: middle;\n",
              "    }\n",
              "\n",
              "    .dataframe tbody tr th {\n",
              "        vertical-align: top;\n",
              "    }\n",
              "\n",
              "    .dataframe thead th {\n",
              "        text-align: right;\n",
              "    }\n",
              "</style>\n",
              "<table border=\"1\" class=\"dataframe\">\n",
              "  <thead>\n",
              "    <tr style=\"text-align: right;\">\n",
              "      <th></th>\n",
              "      <th>ISBN</th>\n",
              "      <th>Book-Title</th>\n",
              "      <th>Book-Author</th>\n",
              "      <th>Year-Of-Publication</th>\n",
              "      <th>Publisher</th>\n",
              "      <th>Image-URL-S</th>\n",
              "      <th>Image-URL-M</th>\n",
              "      <th>Image-URL-L</th>\n",
              "    </tr>\n",
              "  </thead>\n",
              "  <tbody>\n",
              "    <tr>\n",
              "      <th>187689</th>\n",
              "      <td>9627982032</td>\n",
              "      <td>The Credit Suisse Guide to Managing Your Perso...</td>\n",
              "      <td>NaN</td>\n",
              "      <td>1995.0</td>\n",
              "      <td>Edinburgh Financial Publishing</td>\n",
              "      <td>http://images.amazon.com/images/P/9627982032.0...</td>\n",
              "      <td>http://images.amazon.com/images/P/9627982032.0...</td>\n",
              "      <td>http://images.amazon.com/images/P/9627982032.0...</td>\n",
              "    </tr>\n",
              "  </tbody>\n",
              "</table>\n",
              "</div>"
            ],
            "text/plain": [
              "              ISBN  ...                                        Image-URL-L\n",
              "187689  9627982032  ...  http://images.amazon.com/images/P/9627982032.0...\n",
              "\n",
              "[1 rows x 8 columns]"
            ]
          },
          "metadata": {},
          "execution_count": 45
        }
      ]
    },
    {
      "cell_type": "code",
      "metadata": {
        "id": "K6vrmYqmPrT3"
      },
      "source": [
        "\n",
        "# Filling Nan of Book-Author with others\n",
        "\n",
        "books['Book-Author'].fillna('other',inplace=True)\n"
      ],
      "execution_count": 46,
      "outputs": []
    },
    {
      "cell_type": "code",
      "metadata": {
        "colab": {
          "base_uri": "https://localhost:8080/"
        },
        "id": "B0liBYvgPxkI",
        "outputId": "2149f9d0-78d7-48dd-80c1-36c773cbba2e"
      },
      "source": [
        "# Let's check for null values again\n",
        "\n",
        "books.isna().sum()"
      ],
      "execution_count": 47,
      "outputs": [
        {
          "output_type": "execute_result",
          "data": {
            "text/plain": [
              "ISBN                   0\n",
              "Book-Title             0\n",
              "Book-Author            0\n",
              "Year-Of-Publication    0\n",
              "Publisher              2\n",
              "Image-URL-S            0\n",
              "Image-URL-M            0\n",
              "Image-URL-L            3\n",
              "dtype: int64"
            ]
          },
          "metadata": {},
          "execution_count": 47
        }
      ]
    },
    {
      "cell_type": "markdown",
      "metadata": {
        "id": "MGWDRFX6P4oJ"
      },
      "source": [
        "* **Finally, We imputed all null values and our Books dataset is clean now.**"
      ]
    },
    {
      "cell_type": "markdown",
      "metadata": {
        "id": "NMbmrPa0QDLm"
      },
      "source": [
        "# **Ratings dataset(EDA)**"
      ]
    },
    {
      "cell_type": "code",
      "metadata": {
        "id": "JmWjzBjEP0nC",
        "colab": {
          "base_uri": "https://localhost:8080/",
          "height": 206
        },
        "outputId": "206ce1f6-1f68-460b-8d1e-0442c3929de9"
      },
      "source": [
        "# let's print rows using head method.\n",
        "\n",
        "ratings.head()"
      ],
      "execution_count": 48,
      "outputs": [
        {
          "output_type": "execute_result",
          "data": {
            "text/html": [
              "<div>\n",
              "<style scoped>\n",
              "    .dataframe tbody tr th:only-of-type {\n",
              "        vertical-align: middle;\n",
              "    }\n",
              "\n",
              "    .dataframe tbody tr th {\n",
              "        vertical-align: top;\n",
              "    }\n",
              "\n",
              "    .dataframe thead th {\n",
              "        text-align: right;\n",
              "    }\n",
              "</style>\n",
              "<table border=\"1\" class=\"dataframe\">\n",
              "  <thead>\n",
              "    <tr style=\"text-align: right;\">\n",
              "      <th></th>\n",
              "      <th>User-ID</th>\n",
              "      <th>ISBN</th>\n",
              "      <th>Book-Rating</th>\n",
              "    </tr>\n",
              "  </thead>\n",
              "  <tbody>\n",
              "    <tr>\n",
              "      <th>0</th>\n",
              "      <td>276725</td>\n",
              "      <td>034545104X</td>\n",
              "      <td>0</td>\n",
              "    </tr>\n",
              "    <tr>\n",
              "      <th>1</th>\n",
              "      <td>276726</td>\n",
              "      <td>0155061224</td>\n",
              "      <td>5</td>\n",
              "    </tr>\n",
              "    <tr>\n",
              "      <th>2</th>\n",
              "      <td>276727</td>\n",
              "      <td>0446520802</td>\n",
              "      <td>0</td>\n",
              "    </tr>\n",
              "    <tr>\n",
              "      <th>3</th>\n",
              "      <td>276729</td>\n",
              "      <td>052165615X</td>\n",
              "      <td>3</td>\n",
              "    </tr>\n",
              "    <tr>\n",
              "      <th>4</th>\n",
              "      <td>276729</td>\n",
              "      <td>0521795028</td>\n",
              "      <td>6</td>\n",
              "    </tr>\n",
              "  </tbody>\n",
              "</table>\n",
              "</div>"
            ],
            "text/plain": [
              "   User-ID        ISBN  Book-Rating\n",
              "0   276725  034545104X            0\n",
              "1   276726  0155061224            5\n",
              "2   276727  0446520802            0\n",
              "3   276729  052165615X            3\n",
              "4   276729  0521795028            6"
            ]
          },
          "metadata": {},
          "execution_count": 48
        }
      ]
    },
    {
      "cell_type": "code",
      "metadata": {
        "colab": {
          "base_uri": "https://localhost:8080/"
        },
        "id": "pm5TZxaAmveX",
        "outputId": "ed8be197-b2fb-4b26-e9f6-8c1c9aba2b39"
      },
      "source": [
        "# Extracting ratings of only available books in books dataset\n",
        "\n",
        "ratings_new = ratings[ratings.ISBN.isin(books.ISBN)]\n",
        "ratings.shape,ratings_new.shape"
      ],
      "execution_count": 49,
      "outputs": [
        {
          "output_type": "execute_result",
          "data": {
            "text/plain": [
              "((1149780, 3), (1031136, 3))"
            ]
          },
          "metadata": {},
          "execution_count": 49
        }
      ]
    },
    {
      "cell_type": "markdown",
      "metadata": {
        "id": "fheKOEWAm4vK"
      },
      "source": [
        "* **Many rows having book ISBN not part of books dataset, got dropped off.**"
      ]
    },
    {
      "cell_type": "code",
      "metadata": {
        "colab": {
          "base_uri": "https://localhost:8080/"
        },
        "id": "3tuKpfY0m1QH",
        "outputId": "e52c7a5d-8b6d-4142-c0e2-343a7e724fa0"
      },
      "source": [
        "# Checking if ratings from users are eual to no. of users or not\n",
        "\n",
        "print(\"Shape of dataset before dropping\",ratings_new.shape)\n",
        "ratings_new = ratings_new[ratings_new['User-ID'].isin(users['User-ID'])]\n",
        "print(\"shape of dataset after dropping\",ratings_new.shape)"
      ],
      "execution_count": 50,
      "outputs": [
        {
          "output_type": "stream",
          "name": "stdout",
          "text": [
            "Shape of dataset before dropping (1031136, 3)\n",
            "shape of dataset after dropping (1031136, 3)\n"
          ]
        }
      ]
    },
    {
      "cell_type": "markdown",
      "metadata": {
        "id": "7ja8R3uHnFfS"
      },
      "source": [
        "* **There were no new users in ratings dataset.**"
      ]
    },
    {
      "cell_type": "markdown",
      "metadata": {
        "id": "mtiV6TQPnFWJ"
      },
      "source": [
        "### **Now Let's see the distribution of ratings**"
      ]
    },
    {
      "cell_type": "code",
      "metadata": {
        "colab": {
          "base_uri": "https://localhost:8080/",
          "height": 660
        },
        "id": "LMfPkrujnBUr",
        "outputId": "c7f5bd68-2d69-4127-d303-e6cccf958e38"
      },
      "source": [
        "# Following is the distribution plot of ratings\n",
        "\n",
        "plt.figure(figsize=(12,10))\n",
        "plt.rc(\"font\", size=15)\n",
        "ratings_new['Book-Rating'].value_counts(sort=False).plot(kind='bar')\n",
        "plt.title('Rating Distribution\\n')\n",
        "plt.xlabel('Rating')\n",
        "plt.ylabel('Count')\n",
        "plt.show()"
      ],
      "execution_count": 51,
      "outputs": [
        {
          "output_type": "display_data",
          "data": {
            "image/png": "[encoded data removed]",
            "text/plain": [
              "<Figure size 864x720 with 1 Axes>"
            ]
          },
          "metadata": {
            "needs_background": "light"
          }
        }
      ]
    },
    {
      "cell_type": "markdown",
      "metadata": {
        "id": "WzeCXcGHop23"
      },
      "source": [
        "* **Ratings are very unevenly distributed, and the vast majority of ratings are 0.**\n",
        "* **As quoted in the description of the dataset - BX-Book-Ratings contains the book rating information.**\n",
        "* **Ratings are either explicit, expressed on a scale from 1-10 higher values denoting higher appreciation, or implicit, expressed by 0.Hence segragating implicit and explict ratings datasets.**"
      ]
    },
    {
      "cell_type": "code",
      "metadata": {
        "id": "thr-I1AxnaBw"
      },
      "source": [
        "# Let's segregate implicit and explict ratings datasets\n",
        "\n",
        "ratings_explicit = ratings_new[ratings_new['Book-Rating'] != 0]\n",
        "ratings_implicit = ratings_new[ratings_new['Book-Rating'] == 0]"
      ],
      "execution_count": 52,
      "outputs": []
    },
    {
      "cell_type": "code",
      "metadata": {
        "colab": {
          "base_uri": "https://localhost:8080/",
          "height": 554
        },
        "id": "p9kVizYJqFN3",
        "outputId": "a09c2755-ee7a-4459-95ed-6a3306036de3"
      },
      "source": [
        "# Distribution of explicit ratings\n",
        "\n",
        "plt.style.use('fivethirtyeight')\n",
        "plt.figure(figsize=(10, 8))\n",
        "sns.countplot(data=ratings_explicit , x='Book-Rating', palette='rocket_r')"
      ],
      "execution_count": 53,
      "outputs": [
        {
          "output_type": "execute_result",
          "data": {
            "text/plain": [
              "<matplotlib.axes._subplots.AxesSubplot at 0x7f6d7ececf90>"
            ]
          },
          "metadata": {},
          "execution_count": 53
        },
        {
          "output_type": "display_data",
          "data": {
            "image/png": "[encoded data removed]",
            "text/plain": [
              "<Figure size 720x576 with 1 Axes>"
            ]
          },
          "metadata": {}
        }
      ]
    },
    {
      "cell_type": "markdown",
      "metadata": {
        "id": "BcH2DkehqbAZ"
      },
      "source": [
        "* **It is found that the users rate higher ratings and rating 8 has been rated highest number of times.**"
      ]
    },
    {
      "cell_type": "markdown",
      "metadata": {
        "id": "puIfHAEcqr6V"
      },
      "source": [
        "### **Checking for top 5 books which are rated by most number of users.**"
      ]
    },
    {
      "cell_type": "code",
      "metadata": {
        "colab": {
          "base_uri": "https://localhost:8080/",
          "height": 238
        },
        "id": "V4RrQtofqIcR",
        "outputId": "24c18b41-e3fa-4ee3-ccd8-716786d876c0"
      },
      "source": [
        "# Top 5 most rated books\n",
        "\n",
        "rating_count = pd.DataFrame(ratings_explicit.groupby('ISBN')['Book-Rating'].count())\n",
        "rating_count.sort_values('Book-Rating', ascending=False).head()"
      ],
      "execution_count": 54,
      "outputs": [
        {
          "output_type": "execute_result",
          "data": {
            "text/html": [
              "<div>\n",
              "<style scoped>\n",
              "    .dataframe tbody tr th:only-of-type {\n",
              "        vertical-align: middle;\n",
              "    }\n",
              "\n",
              "    .dataframe tbody tr th {\n",
              "        vertical-align: top;\n",
              "    }\n",
              "\n",
              "    .dataframe thead th {\n",
              "        text-align: right;\n",
              "    }\n",
              "</style>\n",
              "<table border=\"1\" class=\"dataframe\">\n",
              "  <thead>\n",
              "    <tr style=\"text-align: right;\">\n",
              "      <th></th>\n",
              "      <th>Book-Rating</th>\n",
              "    </tr>\n",
              "    <tr>\n",
              "      <th>ISBN</th>\n",
              "      <th></th>\n",
              "    </tr>\n",
              "  </thead>\n",
              "  <tbody>\n",
              "    <tr>\n",
              "      <th>0316666343</th>\n",
              "      <td>707</td>\n",
              "    </tr>\n",
              "    <tr>\n",
              "      <th>0971880107</th>\n",
              "      <td>581</td>\n",
              "    </tr>\n",
              "    <tr>\n",
              "      <th>0385504209</th>\n",
              "      <td>487</td>\n",
              "    </tr>\n",
              "    <tr>\n",
              "      <th>0312195516</th>\n",
              "      <td>383</td>\n",
              "    </tr>\n",
              "    <tr>\n",
              "      <th>0060928336</th>\n",
              "      <td>320</td>\n",
              "    </tr>\n",
              "  </tbody>\n",
              "</table>\n",
              "</div>"
            ],
            "text/plain": [
              "            Book-Rating\n",
              "ISBN                   \n",
              "0316666343          707\n",
              "0971880107          581\n",
              "0385504209          487\n",
              "0312195516          383\n",
              "0060928336          320"
            ]
          },
          "metadata": {},
          "execution_count": 54
        }
      ]
    },
    {
      "cell_type": "markdown",
      "metadata": {
        "id": "DnHh6Xduq1dy"
      },
      "source": [
        "* **The book with ISBN '0316666343' received the most rating counts.**"
      ]
    },
    {
      "cell_type": "markdown",
      "metadata": {
        "id": "7KcCbZnoq6B1"
      },
      "source": [
        "### **Let’s check name of this book and what books are in the top 5.**"
      ]
    },
    {
      "cell_type": "code",
      "metadata": {
        "colab": {
          "base_uri": "https://localhost:8080/",
          "height": 434
        },
        "id": "eMhFBx7PqxwC",
        "outputId": "0fbc62b6-e2e0-4d5f-e529-1f3fa8fbca0e"
      },
      "source": [
        "# Names of top rated books\n",
        "\n",
        "most_rated_books = pd.DataFrame(['0316666343', '0971880107', '0385504209', '0312195516', '0060928336'], index=np.arange(5), columns = ['ISBN'])\n",
        "most_rated_books_summary = pd.merge(most_rated_books, books, on='ISBN')\n",
        "most_rated_books_summary"
      ],
      "execution_count": 55,
      "outputs": [
        {
          "output_type": "execute_result",
          "data": {
            "text/html": [
              "<div>\n",
              "<style scoped>\n",
              "    .dataframe tbody tr th:only-of-type {\n",
              "        vertical-align: middle;\n",
              "    }\n",
              "\n",
              "    .dataframe tbody tr th {\n",
              "        vertical-align: top;\n",
              "    }\n",
              "\n",
              "    .dataframe thead th {\n",
              "        text-align: right;\n",
              "    }\n",
              "</style>\n",
              "<table border=\"1\" class=\"dataframe\">\n",
              "  <thead>\n",
              "    <tr style=\"text-align: right;\">\n",
              "      <th></th>\n",
              "      <th>ISBN</th>\n",
              "      <th>Book-Title</th>\n",
              "      <th>Book-Author</th>\n",
              "      <th>Year-Of-Publication</th>\n",
              "      <th>Publisher</th>\n",
              "      <th>Image-URL-S</th>\n",
              "      <th>Image-URL-M</th>\n",
              "      <th>Image-URL-L</th>\n",
              "    </tr>\n",
              "  </thead>\n",
              "  <tbody>\n",
              "    <tr>\n",
              "      <th>0</th>\n",
              "      <td>0316666343</td>\n",
              "      <td>The Lovely Bones: A Novel</td>\n",
              "      <td>Alice Sebold</td>\n",
              "      <td>2002.0</td>\n",
              "      <td>Little, Brown</td>\n",
              "      <td>http://images.amazon.com/images/P/0316666343.0...</td>\n",
              "      <td>http://images.amazon.com/images/P/0316666343.0...</td>\n",
              "      <td>http://images.amazon.com/images/P/0316666343.0...</td>\n",
              "    </tr>\n",
              "    <tr>\n",
              "      <th>1</th>\n",
              "      <td>0971880107</td>\n",
              "      <td>Wild Animus</td>\n",
              "      <td>Rich Shapero</td>\n",
              "      <td>2004.0</td>\n",
              "      <td>Too Far</td>\n",
              "      <td>http://images.amazon.com/images/P/0971880107.0...</td>\n",
              "      <td>http://images.amazon.com/images/P/0971880107.0...</td>\n",
              "      <td>http://images.amazon.com/images/P/0971880107.0...</td>\n",
              "    </tr>\n",
              "    <tr>\n",
              "      <th>2</th>\n",
              "      <td>0385504209</td>\n",
              "      <td>The Da Vinci Code</td>\n",
              "      <td>Dan Brown</td>\n",
              "      <td>2003.0</td>\n",
              "      <td>Doubleday</td>\n",
              "      <td>http://images.amazon.com/images/P/0385504209.0...</td>\n",
              "      <td>http://images.amazon.com/images/P/0385504209.0...</td>\n",
              "      <td>http://images.amazon.com/images/P/0385504209.0...</td>\n",
              "    </tr>\n",
              "    <tr>\n",
              "      <th>3</th>\n",
              "      <td>0312195516</td>\n",
              "      <td>The Red Tent (Bestselling Backlist)</td>\n",
              "      <td>Anita Diamant</td>\n",
              "      <td>1998.0</td>\n",
              "      <td>Picador USA</td>\n",
              "      <td>http://images.amazon.com/images/P/0312195516.0...</td>\n",
              "      <td>http://images.amazon.com/images/P/0312195516.0...</td>\n",
              "      <td>http://images.amazon.com/images/P/0312195516.0...</td>\n",
              "    </tr>\n",
              "    <tr>\n",
              "      <th>4</th>\n",
              "      <td>0060928336</td>\n",
              "      <td>Divine Secrets of the Ya-Ya Sisterhood: A Novel</td>\n",
              "      <td>Rebecca Wells</td>\n",
              "      <td>1997.0</td>\n",
              "      <td>Perennial</td>\n",
              "      <td>http://images.amazon.com/images/P/0060928336.0...</td>\n",
              "      <td>http://images.amazon.com/images/P/0060928336.0...</td>\n",
              "      <td>http://images.amazon.com/images/P/0060928336.0...</td>\n",
              "    </tr>\n",
              "  </tbody>\n",
              "</table>\n",
              "</div>"
            ],
            "text/plain": [
              "         ISBN  ...                                        Image-URL-L\n",
              "0  0316666343  ...  http://images.amazon.com/images/P/0316666343.0...\n",
              "1  0971880107  ...  http://images.amazon.com/images/P/0971880107.0...\n",
              "2  0385504209  ...  http://images.amazon.com/images/P/0385504209.0...\n",
              "3  0312195516  ...  http://images.amazon.com/images/P/0312195516.0...\n",
              "4  0060928336  ...  http://images.amazon.com/images/P/0060928336.0...\n",
              "\n",
              "[5 rows x 8 columns]"
            ]
          },
          "metadata": {},
          "execution_count": 55
        }
      ]
    },
    {
      "cell_type": "markdown",
      "metadata": {
        "id": "8RC3Rd_HrLvf"
      },
      "source": [
        "**considerable points:**\n",
        "* **The title of most rated book is Alice Sebold’s “The Lovely Bones:A Novel”.** \n",
        "* **It is conclusive that novels are popular and likely receive more ratings.**"
      ]
    },
    {
      "cell_type": "code",
      "metadata": {
        "colab": {
          "base_uri": "https://localhost:8080/",
          "height": 206
        },
        "id": "s-KJosjMriui",
        "outputId": "3bb2da0a-8fd3-40ff-b22b-199832bd6059"
      },
      "source": [
        "# Let's create column Rating sum\n",
        "\n",
        "ratings_explicit['Total_No_Of_Users_Rated']=ratings_explicit.groupby('ISBN')['Book-Rating'].transform('count')\n",
        "ratings_explicit.head()"
      ],
      "execution_count": 56,
      "outputs": [
        {
          "output_type": "execute_result",
          "data": {
            "text/html": [
              "<div>\n",
              "<style scoped>\n",
              "    .dataframe tbody tr th:only-of-type {\n",
              "        vertical-align: middle;\n",
              "    }\n",
              "\n",
              "    .dataframe tbody tr th {\n",
              "        vertical-align: top;\n",
              "    }\n",
              "\n",
              "    .dataframe thead th {\n",
              "        text-align: right;\n",
              "    }\n",
              "</style>\n",
              "<table border=\"1\" class=\"dataframe\">\n",
              "  <thead>\n",
              "    <tr style=\"text-align: right;\">\n",
              "      <th></th>\n",
              "      <th>User-ID</th>\n",
              "      <th>ISBN</th>\n",
              "      <th>Book-Rating</th>\n",
              "      <th>Total_No_Of_Users_Rated</th>\n",
              "    </tr>\n",
              "  </thead>\n",
              "  <tbody>\n",
              "    <tr>\n",
              "      <th>1</th>\n",
              "      <td>276726</td>\n",
              "      <td>0155061224</td>\n",
              "      <td>5</td>\n",
              "      <td>1</td>\n",
              "    </tr>\n",
              "    <tr>\n",
              "      <th>3</th>\n",
              "      <td>276729</td>\n",
              "      <td>052165615X</td>\n",
              "      <td>3</td>\n",
              "      <td>1</td>\n",
              "    </tr>\n",
              "    <tr>\n",
              "      <th>4</th>\n",
              "      <td>276729</td>\n",
              "      <td>0521795028</td>\n",
              "      <td>6</td>\n",
              "      <td>1</td>\n",
              "    </tr>\n",
              "    <tr>\n",
              "      <th>8</th>\n",
              "      <td>276744</td>\n",
              "      <td>038550120X</td>\n",
              "      <td>7</td>\n",
              "      <td>81</td>\n",
              "    </tr>\n",
              "    <tr>\n",
              "      <th>16</th>\n",
              "      <td>276747</td>\n",
              "      <td>0060517794</td>\n",
              "      <td>9</td>\n",
              "      <td>30</td>\n",
              "    </tr>\n",
              "  </tbody>\n",
              "</table>\n",
              "</div>"
            ],
            "text/plain": [
              "    User-ID        ISBN  Book-Rating  Total_No_Of_Users_Rated\n",
              "1    276726  0155061224            5                        1\n",
              "3    276729  052165615X            3                        1\n",
              "4    276729  0521795028            6                        1\n",
              "8    276744  038550120X            7                       81\n",
              "16   276747  0060517794            9                       30"
            ]
          },
          "metadata": {},
          "execution_count": 56
        }
      ]
    },
    {
      "cell_type": "code",
      "metadata": {
        "id": "_WuHXgwber4A"
      },
      "source": [
        "# Creating column Rating average \n",
        "\n",
        "ratings_explicit['Avg_Rating']=ratings_explicit.groupby('ISBN')['Book-Rating'].transform('mean')\n"
      ],
      "execution_count": 57,
      "outputs": []
    },
    {
      "cell_type": "code",
      "metadata": {
        "colab": {
          "base_uri": "https://localhost:8080/",
          "height": 206
        },
        "id": "7mysKiFhfG0q",
        "outputId": "564fe0fb-41c6-4ae8-97b9-f99611bd1fd9"
      },
      "source": [
        "# Creating column Rating sum\n",
        "\n",
        "ratings_explicit['Total_No_Of_Users_Rated']=ratings_explicit.groupby('ISBN')['Book-Rating'].transform('count')\n",
        "ratings_explicit.head()"
      ],
      "execution_count": 58,
      "outputs": [
        {
          "output_type": "execute_result",
          "data": {
            "text/html": [
              "<div>\n",
              "<style scoped>\n",
              "    .dataframe tbody tr th:only-of-type {\n",
              "        vertical-align: middle;\n",
              "    }\n",
              "\n",
              "    .dataframe tbody tr th {\n",
              "        vertical-align: top;\n",
              "    }\n",
              "\n",
              "    .dataframe thead th {\n",
              "        text-align: right;\n",
              "    }\n",
              "</style>\n",
              "<table border=\"1\" class=\"dataframe\">\n",
              "  <thead>\n",
              "    <tr style=\"text-align: right;\">\n",
              "      <th></th>\n",
              "      <th>User-ID</th>\n",
              "      <th>ISBN</th>\n",
              "      <th>Book-Rating</th>\n",
              "      <th>Total_No_Of_Users_Rated</th>\n",
              "      <th>Avg_Rating</th>\n",
              "    </tr>\n",
              "  </thead>\n",
              "  <tbody>\n",
              "    <tr>\n",
              "      <th>1</th>\n",
              "      <td>276726</td>\n",
              "      <td>0155061224</td>\n",
              "      <td>5</td>\n",
              "      <td>1</td>\n",
              "      <td>5.000000</td>\n",
              "    </tr>\n",
              "    <tr>\n",
              "      <th>3</th>\n",
              "      <td>276729</td>\n",
              "      <td>052165615X</td>\n",
              "      <td>3</td>\n",
              "      <td>1</td>\n",
              "      <td>3.000000</td>\n",
              "    </tr>\n",
              "    <tr>\n",
              "      <th>4</th>\n",
              "      <td>276729</td>\n",
              "      <td>0521795028</td>\n",
              "      <td>6</td>\n",
              "      <td>1</td>\n",
              "      <td>6.000000</td>\n",
              "    </tr>\n",
              "    <tr>\n",
              "      <th>8</th>\n",
              "      <td>276744</td>\n",
              "      <td>038550120X</td>\n",
              "      <td>7</td>\n",
              "      <td>81</td>\n",
              "      <td>7.580247</td>\n",
              "    </tr>\n",
              "    <tr>\n",
              "      <th>16</th>\n",
              "      <td>276747</td>\n",
              "      <td>0060517794</td>\n",
              "      <td>9</td>\n",
              "      <td>30</td>\n",
              "      <td>8.000000</td>\n",
              "    </tr>\n",
              "  </tbody>\n",
              "</table>\n",
              "</div>"
            ],
            "text/plain": [
              "    User-ID        ISBN  Book-Rating  Total_No_Of_Users_Rated  Avg_Rating\n",
              "1    276726  0155061224            5                        1    5.000000\n",
              "3    276729  052165615X            3                        1    3.000000\n",
              "4    276729  0521795028            6                        1    6.000000\n",
              "8    276744  038550120X            7                       81    7.580247\n",
              "16   276747  0060517794            9                       30    8.000000"
            ]
          },
          "metadata": {},
          "execution_count": 58
        }
      ]
    },
    {
      "cell_type": "markdown",
      "metadata": {
        "id": "RZ9MiRajra3l"
      },
      "source": [
        "# **Now let's Merge all Datasets**"
      ]
    },
    {
      "cell_type": "code",
      "metadata": {
        "id": "A3Ki_729rGlG"
      },
      "source": [
        "# Here merging all three datsets together\n",
        "\n",
        "Final_Dataset=users.copy()\n",
        "Final_Dataset=pd.merge(Final_Dataset,ratings_explicit,on='User-ID')\n",
        "Final_Dataset=pd.merge(Final_Dataset,books,on='ISBN')"
      ],
      "execution_count": 59,
      "outputs": []
    },
    {
      "cell_type": "code",
      "metadata": {
        "colab": {
          "base_uri": "https://localhost:8080/"
        },
        "id": "8LmK4fMSdLwP",
        "outputId": "caaa62be-8c8c-4349-ac96-78c9ec2d40ff"
      },
      "source": [
        "# checking shape of Final_Dataset\n",
        "\n",
        "Final_Dataset.shape"
      ],
      "execution_count": 60,
      "outputs": [
        {
          "output_type": "execute_result",
          "data": {
            "text/plain": [
              "(383842, 14)"
            ]
          },
          "metadata": {},
          "execution_count": 60
        }
      ]
    },
    {
      "cell_type": "code",
      "metadata": {
        "colab": {
          "base_uri": "https://localhost:8080/"
        },
        "id": "HbQXB65FdTJv",
        "outputId": "01415407-dcc1-41ee-cc63-4231c3e85830"
      },
      "source": [
        "# Now checking percentage of null values in each column\n",
        "\n",
        "print(100*(Final_Dataset.isnull().sum()/len(Final_Dataset.index)).sort_values(ascending=False))"
      ],
      "execution_count": 61,
      "outputs": [
        {
          "output_type": "stream",
          "name": "stdout",
          "text": [
            "Age                        29.757296\n",
            "Publisher                   0.000521\n",
            "Image-URL-L                 0.000261\n",
            "Image-URL-M                 0.000000\n",
            "Image-URL-S                 0.000000\n",
            "Year-Of-Publication         0.000000\n",
            "Book-Author                 0.000000\n",
            "Book-Title                  0.000000\n",
            "Avg_Rating                  0.000000\n",
            "Total_No_Of_Users_Rated     0.000000\n",
            "Book-Rating                 0.000000\n",
            "ISBN                        0.000000\n",
            "Country                     0.000000\n",
            "User-ID                     0.000000\n",
            "dtype: float64\n"
          ]
        }
      ]
    },
    {
      "cell_type": "markdown",
      "metadata": {
        "id": "0DBTAF3ldfKi"
      },
      "source": [
        "* **Looks like, There are no null values in Final_Dataset.**"
      ]
    },
    {
      "cell_type": "markdown",
      "metadata": {
        "id": "OaKbKsEOdons"
      },
      "source": [
        "# **Popularity Based Filtering**"
      ]
    },
    {
      "cell_type": "markdown",
      "metadata": {
        "id": "oBqUyRazdxbB"
      },
      "source": [
        "**Following is the Book weighted avg formula:<br>\n",
        "Weighted Rating(WR)=[vR/(v+m)]+[mC/(v+m)]<br>\n",
        "where,<br>\n",
        "v is the number of votes for the books;<br>\n",
        "m is the minimum votes required to be listed in the chart;<br>\n",
        "R is the average rating of the book; and<br>\n",
        "C is the mean vote across the whole report.<br>\n",
        "Now we find the values of v,m,R,C.**"
      ]
    },
    {
      "cell_type": "code",
      "metadata": {
        "colab": {
          "base_uri": "https://localhost:8080/"
        },
        "id": "tbWucHc3da6b",
        "outputId": "0aaa7bde-2e8e-4a19-c2bb-43fd8a1559ec"
      },
      "source": [
        "# Let's find the values of C and m.\n",
        "\n",
        "C= Final_Dataset['Avg_Rating'].mean()\n",
        "m= Final_Dataset['Total_No_Of_Users_Rated'].quantile(0.90)\n",
        "Top_Books = Final_Dataset.loc[Final_Dataset['Total_No_Of_Users_Rated'] >= m]\n",
        "print(f'C={C} , m={m}')\n",
        "Top_Books.shape"
      ],
      "execution_count": 62,
      "outputs": [
        {
          "output_type": "stream",
          "name": "stdout",
          "text": [
            "C=7.626700569504765 , m=64.0\n"
          ]
        },
        {
          "output_type": "execute_result",
          "data": {
            "text/plain": [
              "(38570, 14)"
            ]
          },
          "metadata": {},
          "execution_count": 62
        }
      ]
    },
    {
      "cell_type": "code",
      "metadata": {
        "id": "PbADIDzweBfm"
      },
      "source": [
        "# Weighted_rating function to find popular books.\n",
        "\n",
        "def weighted_rating(x, m=m, C=C):\n",
        "    v = x['Total_No_Of_Users_Rated']\n",
        "    R = x['Avg_Rating']\n",
        "    return (v/(v+m) * R) + (m/(m+v) * C)\n",
        "    \n",
        " \n",
        "Top_Books['Score'] = Top_Books.apply(weighted_rating,axis=1)\n",
        " \n",
        " \n",
        "#Sorting books based on score calculated above\n",
        "Top_Books = Top_Books.sort_values('Score', ascending=False)"
      ],
      "execution_count": 63,
      "outputs": []
    },
    {
      "cell_type": "code",
      "metadata": {
        "id": "Mq-Mro9FfSd5"
      },
      "source": [
        "# Here, only one entry of each book\n",
        "\n",
        "Top_Books=Top_Books.sort_values('Score', ascending=False).drop_duplicates('ISBN').sort_index()\n",
        "cm=sns.light_palette('seagreen',as_cmap=True)"
      ],
      "execution_count": 64,
      "outputs": []
    },
    {
      "cell_type": "code",
      "metadata": {
        "id": "iuRpVzrmfcDR"
      },
      "source": [
        "# Sorting books based on score calculated above\n",
        "\n",
        "Top_Books = Top_Books.sort_values('Score', ascending=False)"
      ],
      "execution_count": 65,
      "outputs": []
    },
    {
      "cell_type": "code",
      "metadata": {
        "colab": {
          "base_uri": "https://localhost:8080/",
          "height": 254
        },
        "id": "Gm-lXD5cffIU",
        "outputId": "10ae647a-f9b0-45d4-9573-7e8a007058a7"
      },
      "source": [
        "# Let's now print the top 10 popular books\n",
        "\n",
        "Top_Books[['Book-Title', 'Total_No_Of_Users_Rated', 'Avg_Rating', 'Score']].reset_index(drop=True).head(10).style.background_gradient(cmap=cm)"
      ],
      "execution_count": 66,
      "outputs": [
        {
          "output_type": "execute_result",
          "data": {
            "text/html": [
              "<style  type=\"text/css\" >\n",
              "#T_af5a786e_2218_11ec_848e_0242ac1c0002row0_col1{\n",
              "            background-color:  #bbd8c7;\n",
              "            color:  #000000;\n",
              "        }#T_af5a786e_2218_11ec_848e_0242ac1c0002row0_col2{\n",
              "            background-color:  #58a279;\n",
              "            color:  #000000;\n",
              "        }#T_af5a786e_2218_11ec_848e_0242ac1c0002row0_col3,#T_af5a786e_2218_11ec_848e_0242ac1c0002row1_col1,#T_af5a786e_2218_11ec_848e_0242ac1c0002row5_col2{\n",
              "            background-color:  #2e8b57;\n",
              "            color:  #000000;\n",
              "        }#T_af5a786e_2218_11ec_848e_0242ac1c0002row1_col2{\n",
              "            background-color:  #bcd9c8;\n",
              "            color:  #000000;\n",
              "        }#T_af5a786e_2218_11ec_848e_0242ac1c0002row1_col3{\n",
              "            background-color:  #419566;\n",
              "            color:  #000000;\n",
              "        }#T_af5a786e_2218_11ec_848e_0242ac1c0002row2_col1{\n",
              "            background-color:  #84ba9b;\n",
              "            color:  #000000;\n",
              "        }#T_af5a786e_2218_11ec_848e_0242ac1c0002row2_col2{\n",
              "            background-color:  #9fc9b1;\n",
              "            color:  #000000;\n",
              "        }#T_af5a786e_2218_11ec_848e_0242ac1c0002row2_col3{\n",
              "            background-color:  #4c9c6f;\n",
              "            color:  #000000;\n",
              "        }#T_af5a786e_2218_11ec_848e_0242ac1c0002row3_col1{\n",
              "            background-color:  #7db696;\n",
              "            color:  #000000;\n",
              "        }#T_af5a786e_2218_11ec_848e_0242ac1c0002row3_col2{\n",
              "            background-color:  #bad8c6;\n",
              "            color:  #000000;\n",
              "        }#T_af5a786e_2218_11ec_848e_0242ac1c0002row3_col3{\n",
              "            background-color:  #78b492;\n",
              "            color:  #000000;\n",
              "        }#T_af5a786e_2218_11ec_848e_0242ac1c0002row4_col1{\n",
              "            background-color:  #bfdaca;\n",
              "            color:  #000000;\n",
              "        }#T_af5a786e_2218_11ec_848e_0242ac1c0002row4_col2{\n",
              "            background-color:  #90c1a5;\n",
              "            color:  #000000;\n",
              "        }#T_af5a786e_2218_11ec_848e_0242ac1c0002row4_col3{\n",
              "            background-color:  #8fc0a4;\n",
              "            color:  #000000;\n",
              "        }#T_af5a786e_2218_11ec_848e_0242ac1c0002row5_col1,#T_af5a786e_2218_11ec_848e_0242ac1c0002row8_col2,#T_af5a786e_2218_11ec_848e_0242ac1c0002row9_col3{\n",
              "            background-color:  #ebf3ed;\n",
              "            color:  #000000;\n",
              "        }#T_af5a786e_2218_11ec_848e_0242ac1c0002row5_col3{\n",
              "            background-color:  #99c5ac;\n",
              "            color:  #000000;\n",
              "        }#T_af5a786e_2218_11ec_848e_0242ac1c0002row6_col1{\n",
              "            background-color:  #b8d7c5;\n",
              "            color:  #000000;\n",
              "        }#T_af5a786e_2218_11ec_848e_0242ac1c0002row6_col2{\n",
              "            background-color:  #9ec8b0;\n",
              "            color:  #000000;\n",
              "        }#T_af5a786e_2218_11ec_848e_0242ac1c0002row6_col3{\n",
              "            background-color:  #99c6ac;\n",
              "            color:  #000000;\n",
              "        }#T_af5a786e_2218_11ec_848e_0242ac1c0002row7_col1{\n",
              "            background-color:  #cae0d3;\n",
              "            color:  #000000;\n",
              "        }#T_af5a786e_2218_11ec_848e_0242ac1c0002row7_col2{\n",
              "            background-color:  #aed1bd;\n",
              "            color:  #000000;\n",
              "        }#T_af5a786e_2218_11ec_848e_0242ac1c0002row7_col3{\n",
              "            background-color:  #dae9e0;\n",
              "            color:  #000000;\n",
              "        }#T_af5a786e_2218_11ec_848e_0242ac1c0002row8_col1{\n",
              "            background-color:  #91c1a6;\n",
              "            color:  #000000;\n",
              "        }#T_af5a786e_2218_11ec_848e_0242ac1c0002row8_col3{\n",
              "            background-color:  #e7f1ea;\n",
              "            color:  #000000;\n",
              "        }#T_af5a786e_2218_11ec_848e_0242ac1c0002row9_col1{\n",
              "            background-color:  #c4ddce;\n",
              "            color:  #000000;\n",
              "        }#T_af5a786e_2218_11ec_848e_0242ac1c0002row9_col2{\n",
              "            background-color:  #c1dccc;\n",
              "            color:  #000000;\n",
              "        }</style><table id=\"T_af5a786e_2218_11ec_848e_0242ac1c0002\" ><thead>    <tr>        <th class=\"blank level0\" ></th>        <th class=\"col_heading level0 col0\" >Book-Title</th>        <th class=\"col_heading level0 col1\" >Total_No_Of_Users_Rated</th>        <th class=\"col_heading level0 col2\" >Avg_Rating</th>        <th class=\"col_heading level0 col3\" >Score</th>    </tr></thead><tbody>\n",
              "                <tr>\n",
              "                        <th id=\"T_af5a786e_2218_11ec_848e_0242ac1c0002level0_row0\" class=\"row_heading level0 row0\" >0</th>\n",
              "                        <td id=\"T_af5a786e_2218_11ec_848e_0242ac1c0002row0_col0\" class=\"data row0 col0\" >Harry Potter and the Goblet of Fire (Book 4)</td>\n",
              "                        <td id=\"T_af5a786e_2218_11ec_848e_0242ac1c0002row0_col1\" class=\"data row0 col1\" >137</td>\n",
              "                        <td id=\"T_af5a786e_2218_11ec_848e_0242ac1c0002row0_col2\" class=\"data row0 col2\" >9.262774</td>\n",
              "                        <td id=\"T_af5a786e_2218_11ec_848e_0242ac1c0002row0_col3\" class=\"data row0 col3\" >8.741835</td>\n",
              "            </tr>\n",
              "            <tr>\n",
              "                        <th id=\"T_af5a786e_2218_11ec_848e_0242ac1c0002level0_row1\" class=\"row_heading level0 row1\" >1</th>\n",
              "                        <td id=\"T_af5a786e_2218_11ec_848e_0242ac1c0002row1_col0\" class=\"data row1 col0\" >Harry Potter and the Sorcerer's Stone (Harry Potter (Paperback))</td>\n",
              "                        <td id=\"T_af5a786e_2218_11ec_848e_0242ac1c0002row1_col1\" class=\"data row1 col1\" >313</td>\n",
              "                        <td id=\"T_af5a786e_2218_11ec_848e_0242ac1c0002row1_col2\" class=\"data row1 col2\" >8.939297</td>\n",
              "                        <td id=\"T_af5a786e_2218_11ec_848e_0242ac1c0002row1_col3\" class=\"data row1 col3\" >8.716469</td>\n",
              "            </tr>\n",
              "            <tr>\n",
              "                        <th id=\"T_af5a786e_2218_11ec_848e_0242ac1c0002level0_row2\" class=\"row_heading level0 row2\" >2</th>\n",
              "                        <td id=\"T_af5a786e_2218_11ec_848e_0242ac1c0002row2_col0\" class=\"data row2 col0\" >Harry Potter and the Order of the Phoenix (Book 5)</td>\n",
              "                        <td id=\"T_af5a786e_2218_11ec_848e_0242ac1c0002row2_col1\" class=\"data row2 col1\" >206</td>\n",
              "                        <td id=\"T_af5a786e_2218_11ec_848e_0242ac1c0002row2_col2\" class=\"data row2 col2\" >9.033981</td>\n",
              "                        <td id=\"T_af5a786e_2218_11ec_848e_0242ac1c0002row2_col3\" class=\"data row2 col3\" >8.700403</td>\n",
              "            </tr>\n",
              "            <tr>\n",
              "                        <th id=\"T_af5a786e_2218_11ec_848e_0242ac1c0002level0_row3\" class=\"row_heading level0 row3\" >3</th>\n",
              "                        <td id=\"T_af5a786e_2218_11ec_848e_0242ac1c0002row3_col0\" class=\"data row3 col0\" >To Kill a Mockingbird</td>\n",
              "                        <td id=\"T_af5a786e_2218_11ec_848e_0242ac1c0002row3_col1\" class=\"data row3 col1\" >214</td>\n",
              "                        <td id=\"T_af5a786e_2218_11ec_848e_0242ac1c0002row3_col2\" class=\"data row3 col2\" >8.943925</td>\n",
              "                        <td id=\"T_af5a786e_2218_11ec_848e_0242ac1c0002row3_col3\" class=\"data row3 col3\" >8.640679</td>\n",
              "            </tr>\n",
              "            <tr>\n",
              "                        <th id=\"T_af5a786e_2218_11ec_848e_0242ac1c0002level0_row4\" class=\"row_heading level0 row4\" >4</th>\n",
              "                        <td id=\"T_af5a786e_2218_11ec_848e_0242ac1c0002row4_col0\" class=\"data row4 col0\" >Harry Potter and the Prisoner of Azkaban (Book 3)</td>\n",
              "                        <td id=\"T_af5a786e_2218_11ec_848e_0242ac1c0002row4_col1\" class=\"data row4 col1\" >133</td>\n",
              "                        <td id=\"T_af5a786e_2218_11ec_848e_0242ac1c0002row4_col2\" class=\"data row4 col2\" >9.082707</td>\n",
              "                        <td id=\"T_af5a786e_2218_11ec_848e_0242ac1c0002row4_col3\" class=\"data row4 col3\" >8.609690</td>\n",
              "            </tr>\n",
              "            <tr>\n",
              "                        <th id=\"T_af5a786e_2218_11ec_848e_0242ac1c0002level0_row5\" class=\"row_heading level0 row5\" >5</th>\n",
              "                        <td id=\"T_af5a786e_2218_11ec_848e_0242ac1c0002row5_col0\" class=\"data row5 col0\" >The Return of the King (The Lord of the Rings, Part 3)</td>\n",
              "                        <td id=\"T_af5a786e_2218_11ec_848e_0242ac1c0002row5_col1\" class=\"data row5 col1\" >77</td>\n",
              "                        <td id=\"T_af5a786e_2218_11ec_848e_0242ac1c0002row5_col2\" class=\"data row5 col2\" >9.402597</td>\n",
              "                        <td id=\"T_af5a786e_2218_11ec_848e_0242ac1c0002row5_col3\" class=\"data row5 col3\" >8.596517</td>\n",
              "            </tr>\n",
              "            <tr>\n",
              "                        <th id=\"T_af5a786e_2218_11ec_848e_0242ac1c0002level0_row6\" class=\"row_heading level0 row6\" >6</th>\n",
              "                        <td id=\"T_af5a786e_2218_11ec_848e_0242ac1c0002row6_col0\" class=\"data row6 col0\" >Harry Potter and the Prisoner of Azkaban (Book 3)</td>\n",
              "                        <td id=\"T_af5a786e_2218_11ec_848e_0242ac1c0002row6_col1\" class=\"data row6 col1\" >141</td>\n",
              "                        <td id=\"T_af5a786e_2218_11ec_848e_0242ac1c0002row6_col2\" class=\"data row6 col2\" >9.035461</td>\n",
              "                        <td id=\"T_af5a786e_2218_11ec_848e_0242ac1c0002row6_col3\" class=\"data row6 col3\" >8.595653</td>\n",
              "            </tr>\n",
              "            <tr>\n",
              "                        <th id=\"T_af5a786e_2218_11ec_848e_0242ac1c0002level0_row7\" class=\"row_heading level0 row7\" >7</th>\n",
              "                        <td id=\"T_af5a786e_2218_11ec_848e_0242ac1c0002row7_col0\" class=\"data row7 col0\" >Harry Potter and the Sorcerer's Stone (Book 1)</td>\n",
              "                        <td id=\"T_af5a786e_2218_11ec_848e_0242ac1c0002row7_col1\" class=\"data row7 col1\" >119</td>\n",
              "                        <td id=\"T_af5a786e_2218_11ec_848e_0242ac1c0002row7_col2\" class=\"data row7 col2\" >8.983193</td>\n",
              "                        <td id=\"T_af5a786e_2218_11ec_848e_0242ac1c0002row7_col3\" class=\"data row7 col3\" >8.508791</td>\n",
              "            </tr>\n",
              "            <tr>\n",
              "                        <th id=\"T_af5a786e_2218_11ec_848e_0242ac1c0002level0_row8\" class=\"row_heading level0 row8\" >8</th>\n",
              "                        <td id=\"T_af5a786e_2218_11ec_848e_0242ac1c0002row8_col0\" class=\"data row8 col0\" >Harry Potter and the Chamber of Secrets (Book 2)</td>\n",
              "                        <td id=\"T_af5a786e_2218_11ec_848e_0242ac1c0002row8_col1\" class=\"data row8 col1\" >189</td>\n",
              "                        <td id=\"T_af5a786e_2218_11ec_848e_0242ac1c0002row8_col2\" class=\"data row8 col2\" >8.783069</td>\n",
              "                        <td id=\"T_af5a786e_2218_11ec_848e_0242ac1c0002row8_col3\" class=\"data row8 col3\" >8.490549</td>\n",
              "            </tr>\n",
              "            <tr>\n",
              "                        <th id=\"T_af5a786e_2218_11ec_848e_0242ac1c0002level0_row9\" class=\"row_heading level0 row9\" >9</th>\n",
              "                        <td id=\"T_af5a786e_2218_11ec_848e_0242ac1c0002row9_col0\" class=\"data row9 col0\" >Harry Potter and the Chamber of Secrets (Book 2)</td>\n",
              "                        <td id=\"T_af5a786e_2218_11ec_848e_0242ac1c0002row9_col1\" class=\"data row9 col1\" >126</td>\n",
              "                        <td id=\"T_af5a786e_2218_11ec_848e_0242ac1c0002row9_col2\" class=\"data row9 col2\" >8.920635</td>\n",
              "                        <td id=\"T_af5a786e_2218_11ec_848e_0242ac1c0002row9_col3\" class=\"data row9 col3\" >8.484783</td>\n",
              "            </tr>\n",
              "    </tbody></table>"
            ],
            "text/plain": [
              "<pandas.io.formats.style.Styler at 0x7f6d72c9f490>"
            ]
          },
          "metadata": {},
          "execution_count": 66
        }
      ]
    },
    {
      "cell_type": "markdown",
      "metadata": {
        "id": "nfZU9R-Fgg-b"
      },
      "source": [
        "* **It is clear that the Popularity based recommender provide a general chart of recommended books to all the users.**\n"
      ]
    },
    {
      "cell_type": "markdown",
      "metadata": {
        "id": "qCi5ZDndg5_V"
      },
      "source": [
        "# **Collaborative Filtering Recommender**"
      ]
    },
    {
      "cell_type": "markdown",
      "metadata": {
        "id": "IAB3a70og-nD"
      },
      "source": [
        "## **Model Based Approach**"
      ]
    },
    {
      "cell_type": "markdown",
      "metadata": {
        "id": "upthyZiFhPnO"
      },
      "source": [
        "**The goal of this section is to compare SVD and NMF algorithms, try different configurations of parameters and explore obtained results.**"
      ]
    },
    {
      "cell_type": "code",
      "metadata": {
        "id": "ejNWri3Dfi-O"
      },
      "source": [
        "# Importing Libraries\n",
        "\n",
        "import scipy\n",
        "import math\n",
        "import sklearn\n",
        "from nltk.corpus import stopwords\n",
        "from sklearn.model_selection import train_test_split\n",
        "from sklearn.feature_extraction.text import TfidfVectorizer\n",
        "from sklearn.metrics.pairwise import cosine_similarity\n",
        "from scipy.sparse.linalg import svds\n",
        "import matplotlib.pyplot as plt"
      ],
      "execution_count": 67,
      "outputs": []
    },
    {
      "cell_type": "code",
      "metadata": {
        "id": "l2R-YGSrhTtZ"
      },
      "source": [
        "# Firstly let's rename columns of ratings_explicit dataframe\n",
        "\n",
        "ratings_explicit.rename(columns = {'User-ID':'user_id' ,'ISBN':'isbn' ,'Book-Rating':'book_rating'},inplace=True)"
      ],
      "execution_count": 68,
      "outputs": []
    },
    {
      "cell_type": "code",
      "metadata": {
        "colab": {
          "base_uri": "https://localhost:8080/"
        },
        "id": "D0RzREBPk2jz",
        "outputId": "6421d2a7-7e30-4402-cc93-e14d4ae32185"
      },
      "source": [
        "# Now let's extract nummber of users with atleast 3 ratings\n",
        "\n",
        "user_ratings_threshold = 3\n",
        "\n",
        "filter_users = ratings_explicit['user_id'].value_counts()\n",
        "filter_users_list = filter_users[filter_users >= user_ratings_threshold].index.to_list()\n",
        "\n",
        "df_ratings_top = ratings_explicit[ratings_explicit['user_id'].isin(filter_users_list)]\n",
        "\n",
        "print('Filter: users with at least %d ratings\\nNumber of records: %d' % (user_ratings_threshold, len(df_ratings_top)))"
      ],
      "execution_count": 69,
      "outputs": [
        {
          "output_type": "stream",
          "name": "stdout",
          "text": [
            "Filter: users with at least 3 ratings\n",
            "Number of records: 327271\n"
          ]
        }
      ]
    },
    {
      "cell_type": "code",
      "metadata": {
        "colab": {
          "base_uri": "https://localhost:8080/"
        },
        "id": "wRGo_KLMk_an",
        "outputId": "b1024523-a93e-4532-eb9d-302f7b10f8d9"
      },
      "source": [
        "# Extracting top 10% most frequently rated books\n",
        "\n",
        "book_ratings_threshold_perc = 0.1\n",
        "book_ratings_threshold = len(df_ratings_top['isbn'].unique()) * book_ratings_threshold_perc\n",
        "\n",
        "filter_books_list = df_ratings_top['isbn'].value_counts().head(int(book_ratings_threshold)).index.to_list()\n",
        "df_ratings_top = df_ratings_top[df_ratings_top['isbn'].isin(filter_books_list)]\n",
        "\n",
        "print('Filter: top %d%% most frequently rated books\\nNumber of records: %d' % (book_ratings_threshold_perc*100, len(df_ratings_top)))"
      ],
      "execution_count": 70,
      "outputs": [
        {
          "output_type": "stream",
          "name": "stdout",
          "text": [
            "Filter: top 10% most frequently rated books\n",
            "Number of records: 160787\n"
          ]
        }
      ]
    },
    {
      "cell_type": "markdown",
      "metadata": {
        "id": "P7a1Smvpld2p"
      },
      "source": [
        "### **SVD and NMF algorithms**"
      ]
    },
    {
      "cell_type": "markdown",
      "metadata": {
        "id": "lkHZUkByliwD"
      },
      "source": [
        "**Singular Value Decomposition (SVD) and Non-negative Matrix Factorization (NMF) are matrix factorization techniques used for dimensionality reduction.**\n",
        "**Surprise package provides implementation of these algorithms.**"
      ]
    },
    {
      "cell_type": "code",
      "metadata": {
        "colab": {
          "base_uri": "https://localhost:8080/"
        },
        "id": "WUnJGAU2lCol",
        "outputId": "131fba9a-b98d-42c0-8f69-38fce0157cc7"
      },
      "source": [
        "# Installing surprise\n",
        "\n",
        "!pip install surprise"
      ],
      "execution_count": 71,
      "outputs": [
        {
          "output_type": "stream",
          "name": "stdout",
          "text": [
            "Collecting surprise\n",
            "  Downloading surprise-0.1-py2.py3-none-any.whl (1.8 kB)\n",
            "Collecting scikit-surprise\n",
            "  Downloading scikit-surprise-1.1.1.tar.gz (11.8 MB)\n",
            "\u001b[K     |████████████████████████████████| 11.8 MB 52 kB/s \n",
            "\u001b[?25hRequirement already satisfied: joblib>=0.11 in /usr/local/lib/python3.7/dist-packages (from scikit-surprise->surprise) (1.0.1)\n",
            "Requirement already satisfied: numpy>=1.11.2 in /usr/local/lib/python3.7/dist-packages (from scikit-surprise->surprise) (1.19.5)\n",
            "Requirement already satisfied: scipy>=1.0.0 in /usr/local/lib/python3.7/dist-packages (from scikit-surprise->surprise) (1.4.1)\n",
            "Requirement already satisfied: six>=1.10.0 in /usr/local/lib/python3.7/dist-packages (from scikit-surprise->surprise) (1.15.0)\n",
            "Building wheels for collected packages: scikit-surprise\n",
            "  Building wheel for scikit-surprise (setup.py) ... \u001b[?25l\u001b[?25hdone\n",
            "  Created wheel for scikit-surprise: filename=scikit_surprise-1.1.1-cp37-cp37m-linux_x86_64.whl size=1619406 sha256=e37799e03c7674d43fe7ad3160025f505520c852ec37dfb285eebf8379ec142a\n",
            "  Stored in directory: /root/.cache/pip/wheels/76/44/74/b498c42be47b2406bd27994e16c5188e337c657025ab400c1c\n",
            "Successfully built scikit-surprise\n",
            "Installing collected packages: scikit-surprise, surprise\n",
            "Successfully installed scikit-surprise-1.1.1 surprise-0.1\n"
          ]
        }
      ]
    },
    {
      "cell_type": "code",
      "metadata": {
        "id": "TxYNEhQ_ltx2"
      },
      "source": [
        "# Importing modules\n",
        "\n",
        "from surprise import Dataset, Reader\n",
        "from surprise import SVD, NMF\n",
        "from surprise.model_selection import cross_validate, train_test_split, GridSearchCV"
      ],
      "execution_count": 72,
      "outputs": []
    },
    {
      "cell_type": "code",
      "metadata": {
        "id": "e-zLqVUjl8Ve"
      },
      "source": [
        "# Taking copy of dataset first\n",
        "\n",
        "df=df_ratings_top.copy()\n",
        "reader = Reader(rating_scale=(1, 10))\n",
        "data = Dataset.load_from_df(df[['user_id', 'isbn', 'book_rating']], reader)"
      ],
      "execution_count": 73,
      "outputs": []
    },
    {
      "cell_type": "code",
      "metadata": {
        "colab": {
          "base_uri": "https://localhost:8080/"
        },
        "id": "iUalf62OmCMj",
        "outputId": "13c4f89f-0ffa-4b90-faf3-5401bc7b1595"
      },
      "source": [
        "# Fitting SVD model\n",
        "\n",
        "model_svd = SVD()\n",
        "cv_results_svd = cross_validate(model_svd, data, cv=3)\n",
        "pd.DataFrame(cv_results_svd).mean()"
      ],
      "execution_count": 74,
      "outputs": [
        {
          "output_type": "execute_result",
          "data": {
            "text/plain": [
              "test_rmse    1.602989\n",
              "test_mae     1.239554\n",
              "fit_time     7.719643\n",
              "test_time    0.753803\n",
              "dtype: float64"
            ]
          },
          "metadata": {},
          "execution_count": 74
        }
      ]
    },
    {
      "cell_type": "code",
      "metadata": {
        "colab": {
          "base_uri": "https://localhost:8080/"
        },
        "id": "05FBDCiRmEuP",
        "outputId": "207ce579-bc36-4d6e-8b53-107a9b752eec"
      },
      "source": [
        "# Fitting NMF model\n",
        "\n",
        "model_nmf = NMF()\n",
        "cv_results_nmf = cross_validate(model_nmf, data, cv=3)\n",
        "pd.DataFrame(cv_results_nmf).mean()"
      ],
      "execution_count": 75,
      "outputs": [
        {
          "output_type": "execute_result",
          "data": {
            "text/plain": [
              "test_rmse     2.622911\n",
              "test_mae      2.239974\n",
              "fit_time     13.163644\n",
              "test_time     0.722615\n",
              "dtype: float64"
            ]
          },
          "metadata": {},
          "execution_count": 75
        }
      ]
    },
    {
      "cell_type": "markdown",
      "metadata": {
        "id": "DB4hUmZNmOh_"
      },
      "source": [
        "* **SVD gives better results in terms of accuracy and training/test time.**"
      ]
    },
    {
      "cell_type": "markdown",
      "metadata": {
        "id": "rnjVnQqe3L7J"
      },
      "source": [
        "### **Optimization of SVD**"
      ]
    },
    {
      "cell_type": "markdown",
      "metadata": {
        "id": "tWzRNEwu3QNr"
      },
      "source": [
        "**The hyperparameters of SVD:**\n",
        "<br>\n",
        "* **n_factors** - the number of factors<br>\n",
        "* **n_epochs** - the number of iteration of the SGD procedure<br>\n",
        "* **lr_all** - the learning rate for all parameters<br>\n",
        "* **reg_all** - the regularization term for all parameters<br>"
      ]
    },
    {
      "cell_type": "markdown",
      "metadata": {
        "id": "Hs3WWc3w3UZY"
      },
      "source": [
        "**In order to find optimal set of hyperparameters we use GridSearchCV**"
      ]
    },
    {
      "cell_type": "code",
      "metadata": {
        "colab": {
          "base_uri": "https://localhost:8080/"
        },
        "id": "DGCDUQNLmNCy",
        "outputId": "ed51959a-0f2e-40ee-8aa9-62bf66f76c4c"
      },
      "source": [
        "# Initializing parameters dictionary for GridSearchCV\n",
        "\n",
        "param_grid = {'n_factors': [80,100],\n",
        "              'n_epochs': [5, 20],\n",
        "              'lr_all': [0.002, 0.005],\n",
        "              'reg_all': [0.2, 0.4]}\n",
        "\n",
        "gs = GridSearchCV(SVD, param_grid, measures=['rmse', 'mae'], cv=3, joblib_verbose=2, n_jobs=-1)\n",
        "gs.fit(data)\n",
        "\n",
        "print(gs.best_score['rmse'])\n",
        "print(gs.best_params['rmse'])"
      ],
      "execution_count": 77,
      "outputs": [
        {
          "output_type": "stream",
          "name": "stderr",
          "text": [
            "[Parallel(n_jobs=-1)]: Using backend LokyBackend with 2 concurrent workers.\n",
            "[Parallel(n_jobs=-1)]: Done  37 tasks      | elapsed:  3.9min\n"
          ]
        },
        {
          "output_type": "stream",
          "name": "stdout",
          "text": [
            "1.5965630463316345\n",
            "{'n_factors': 80, 'n_epochs': 20, 'lr_all': 0.005, 'reg_all': 0.2}\n"
          ]
        },
        {
          "output_type": "stream",
          "name": "stderr",
          "text": [
            "[Parallel(n_jobs=-1)]: Done  48 out of  48 | elapsed:  5.5min finished\n"
          ]
        }
      ]
    },
    {
      "cell_type": "markdown",
      "metadata": {
        "id": "PC2R0YqH49U6"
      },
      "source": [
        "### **Let's have analysis of SVD model results**"
      ]
    },
    {
      "cell_type": "code",
      "metadata": {
        "id": "sNn4BMQl3cb8"
      },
      "source": [
        "# Splitting train and test set and also fitting the model with hyperparameters obtained above\n",
        "\n",
        "trainset, testset = train_test_split(data, test_size=0.2)\n",
        "\n",
        "model = SVD(n_factors=80, n_epochs=20, lr_all=0.005, reg_all=0.2)\n",
        "model.fit(trainset)\n",
        "predictions = model.test(testset)"
      ],
      "execution_count": 78,
      "outputs": []
    },
    {
      "cell_type": "code",
      "metadata": {
        "colab": {
          "base_uri": "https://localhost:8080/",
          "height": 206
        },
        "id": "MlwlPRJC5Jyg",
        "outputId": "622cc851-7991-4a2b-a05e-ad3f4a64ceff"
      },
      "source": [
        "# Creating dataframe of results\n",
        "\n",
        "df_pred = pd.DataFrame(predictions, columns=['user_id', 'isbn', 'actual_rating', 'pred_rating', 'details'])\n",
        "df_pred['impossible'] = df_pred['details'].apply(lambda x: x['was_impossible'])\n",
        "df_pred['pred_rating_round'] = df_pred['pred_rating'].round()\n",
        "df_pred['abs_err'] = abs(df_pred['pred_rating'] - df_pred['actual_rating'])\n",
        "df_pred.drop(['details'], axis=1, inplace=True)\n",
        "df_pred.sample(5)"
      ],
      "execution_count": 79,
      "outputs": [
        {
          "output_type": "execute_result",
          "data": {
            "text/html": [
              "<div>\n",
              "<style scoped>\n",
              "    .dataframe tbody tr th:only-of-type {\n",
              "        vertical-align: middle;\n",
              "    }\n",
              "\n",
              "    .dataframe tbody tr th {\n",
              "        vertical-align: top;\n",
              "    }\n",
              "\n",
              "    .dataframe thead th {\n",
              "        text-align: right;\n",
              "    }\n",
              "</style>\n",
              "<table border=\"1\" class=\"dataframe\">\n",
              "  <thead>\n",
              "    <tr style=\"text-align: right;\">\n",
              "      <th></th>\n",
              "      <th>user_id</th>\n",
              "      <th>isbn</th>\n",
              "      <th>actual_rating</th>\n",
              "      <th>pred_rating</th>\n",
              "      <th>impossible</th>\n",
              "      <th>pred_rating_round</th>\n",
              "      <th>abs_err</th>\n",
              "    </tr>\n",
              "  </thead>\n",
              "  <tbody>\n",
              "    <tr>\n",
              "      <th>2885</th>\n",
              "      <td>172676</td>\n",
              "      <td>0066211247</td>\n",
              "      <td>8.0</td>\n",
              "      <td>7.833375</td>\n",
              "      <td>False</td>\n",
              "      <td>8.0</td>\n",
              "      <td>0.166625</td>\n",
              "    </tr>\n",
              "    <tr>\n",
              "      <th>20098</th>\n",
              "      <td>23699</td>\n",
              "      <td>0345339711</td>\n",
              "      <td>10.0</td>\n",
              "      <td>9.050637</td>\n",
              "      <td>False</td>\n",
              "      <td>9.0</td>\n",
              "      <td>0.949363</td>\n",
              "    </tr>\n",
              "    <tr>\n",
              "      <th>25452</th>\n",
              "      <td>219073</td>\n",
              "      <td>0310235138</td>\n",
              "      <td>8.0</td>\n",
              "      <td>7.735924</td>\n",
              "      <td>False</td>\n",
              "      <td>8.0</td>\n",
              "      <td>0.264076</td>\n",
              "    </tr>\n",
              "    <tr>\n",
              "      <th>6042</th>\n",
              "      <td>171445</td>\n",
              "      <td>0553209671</td>\n",
              "      <td>10.0</td>\n",
              "      <td>8.114285</td>\n",
              "      <td>False</td>\n",
              "      <td>8.0</td>\n",
              "      <td>1.885715</td>\n",
              "    </tr>\n",
              "    <tr>\n",
              "      <th>19376</th>\n",
              "      <td>196077</td>\n",
              "      <td>0380005239</td>\n",
              "      <td>9.0</td>\n",
              "      <td>7.488912</td>\n",
              "      <td>False</td>\n",
              "      <td>7.0</td>\n",
              "      <td>1.511088</td>\n",
              "    </tr>\n",
              "  </tbody>\n",
              "</table>\n",
              "</div>"
            ],
            "text/plain": [
              "       user_id        isbn  ...  pred_rating_round   abs_err\n",
              "2885    172676  0066211247  ...                8.0  0.166625\n",
              "20098    23699  0345339711  ...                9.0  0.949363\n",
              "25452   219073  0310235138  ...                8.0  0.264076\n",
              "6042    171445  0553209671  ...                8.0  1.885715\n",
              "19376   196077  0380005239  ...                7.0  1.511088\n",
              "\n",
              "[5 rows x 7 columns]"
            ]
          },
          "metadata": {},
          "execution_count": 79
        }
      ]
    },
    {
      "cell_type": "markdown",
      "metadata": {
        "id": "fluid7XA8Anm"
      },
      "source": [
        "### **The distribution of actual and predicted book ratings**"
      ]
    },
    {
      "cell_type": "code",
      "metadata": {
        "colab": {
          "base_uri": "https://localhost:8080/",
          "height": 325
        },
        "id": "yGZvvu1F73c1",
        "outputId": "9b588e43-79e9-4179-cd6b-124bd32d6864"
      },
      "source": [
        "# Following is the distribution of actual and predicted book ratings\n",
        "\n",
        "palette = sns.color_palette(\"husl\", 10)\n",
        "fig, (ax1, ax2) = plt.subplots(nrows=1, ncols=2, figsize=(18, 4))\n",
        "\n",
        "sns.countplot(x='actual_rating', data=df_pred, palette=palette, ax=ax1)\n",
        "ax1.set_title('Distribution of actual ratings of books in the test set')\n",
        "\n",
        "sns.countplot(x='pred_rating_round', data=df_pred, palette=palette, ax=ax2)\n",
        "ax2.set_title('Distribution of predicted ratings of books in the test set')\n",
        "\n",
        "plt.show()"
      ],
      "execution_count": 81,
      "outputs": [
        {
          "output_type": "display_data",
          "data": {
            "image/png": "[encoded data removed]",
            "text/plain": [
              "<Figure size 1296x288 with 2 Axes>"
            ]
          },
          "metadata": {}
        }
      ]
    },
    {
      "cell_type": "markdown",
      "metadata": {
        "id": "BSqEL3bn8Ycw"
      },
      "source": [
        "**According to the distribution of actual ratings of books in the test set:**\n",
        "* **More users gave positive scores - between 7 and 10.**\n",
        "* **Here mode equals 8.**\n",
        "* **The distribution of predicted ratings in the test set is visibly different.**\n"
      ]
    },
    {
      "cell_type": "code",
      "metadata": {
        "colab": {
          "base_uri": "https://localhost:8080/",
          "height": 325
        },
        "id": "Tkrl0vSN8Mr0",
        "outputId": "abef09c4-0814-4bdc-b1e6-d49a596b2170"
      },
      "source": [
        "# Distribution of absolute error of predicted ratings\n",
        "\n",
        "df_pred_err = df_pred.groupby('actual_rating')['abs_err'].mean().reset_index()\n",
        "\n",
        "fig, (ax1, ax2) = plt.subplots(nrows=1, ncols=2, figsize=(14, 4))\n",
        "\n",
        "sns.distplot(df_pred['abs_err'], color='#2f6194', ax=ax1)\n",
        "ax1.set_title('Distribution of absolute error in test set')\n",
        "\n",
        "sns.barplot(x='actual_rating', y='abs_err', data=df_pred_err, palette=palette, ax=ax2)\n",
        "ax2.set_title('Mean absolute error for rating in test set')\n",
        "\n",
        "plt.show()"
      ],
      "execution_count": 82,
      "outputs": [
        {
          "output_type": "display_data",
          "data": {
            "image/png": "[encoded data removed]",
            "text/plain": [
              "<Figure size 1008x288 with 2 Axes>"
            ]
          },
          "metadata": {}
        }
      ]
    },
    {
      "cell_type": "markdown",
      "metadata": {
        "id": "S8CglFg_9gII"
      },
      "source": [
        "* **The distribution of absolute errors is right-skewed, showing that the majority of errors is small: between 0 and 1.**\n",
        "* **There is a long tail that indicates that there are several observations for which the absolute error was close to 10.**"
      ]
    },
    {
      "cell_type": "markdown",
      "metadata": {
        "id": "kBs1roLi_KNC"
      },
      "source": [
        "### **Now let's have analysis of predicted ratings of a particular user**"
      ]
    },
    {
      "cell_type": "code",
      "metadata": {
        "id": "OXnKo1GE9QtE"
      },
      "source": [
        "# Let's first make a copy of books dataset and merge on predicted dataframe\n",
        "\n",
        "df_books = books.copy()\n",
        "df_books.rename(columns = {'ISBN':'isbn' ,'Book-Title':'book_title'},inplace=True)\n",
        "df_ext = df.merge(df_books[['isbn', 'book_title']], on='isbn', how='left')\n",
        "df_ext = df_ext.merge(df_pred[['isbn', 'user_id', 'pred_rating']], on=['isbn', 'user_id'], how='left')"
      ],
      "execution_count": 83,
      "outputs": []
    },
    {
      "cell_type": "markdown",
      "metadata": {
        "id": "Q4KFFkGr_VC7"
      },
      "source": [
        "**We select the user with ID 193458 to analyse ratings**"
      ]
    },
    {
      "cell_type": "markdown",
      "metadata": {
        "id": "F1TWlRNu_fBD"
      },
      "source": [
        "### **Train & Test set of  Top rated books**"
      ]
    },
    {
      "cell_type": "code",
      "metadata": {
        "colab": {
          "base_uri": "https://localhost:8080/",
          "height": 363
        },
        "id": "ctP98SOY_Q6S",
        "outputId": "ba45ad05-e160-436a-a6d6-c7314d39923b"
      },
      "source": [
        "# Printing top 10 rated books by user 193458\n",
        "\n",
        "selected_user_id = 193458\n",
        "df_user = df_ext[df_ext['user_id']==selected_user_id]\n",
        "\n",
        "df_user[(df_user['pred_rating'].isna())&(df_user['book_rating']>=9)].sample(10)"
      ],
      "execution_count": 84,
      "outputs": [
        {
          "output_type": "execute_result",
          "data": {
            "text/html": [
              "<div>\n",
              "<style scoped>\n",
              "    .dataframe tbody tr th:only-of-type {\n",
              "        vertical-align: middle;\n",
              "    }\n",
              "\n",
              "    .dataframe tbody tr th {\n",
              "        vertical-align: top;\n",
              "    }\n",
              "\n",
              "    .dataframe thead th {\n",
              "        text-align: right;\n",
              "    }\n",
              "</style>\n",
              "<table border=\"1\" class=\"dataframe\">\n",
              "  <thead>\n",
              "    <tr style=\"text-align: right;\">\n",
              "      <th></th>\n",
              "      <th>user_id</th>\n",
              "      <th>isbn</th>\n",
              "      <th>book_rating</th>\n",
              "      <th>Total_No_Of_Users_Rated</th>\n",
              "      <th>Avg_Rating</th>\n",
              "      <th>book_title</th>\n",
              "      <th>pred_rating</th>\n",
              "    </tr>\n",
              "  </thead>\n",
              "  <tbody>\n",
              "    <tr>\n",
              "      <th>113594</th>\n",
              "      <td>193458</td>\n",
              "      <td>1853260169</td>\n",
              "      <td>10</td>\n",
              "      <td>13</td>\n",
              "      <td>8.153846</td>\n",
              "      <td>Sense and Sensibility (Wordsworth Classics)</td>\n",
              "      <td>NaN</td>\n",
              "    </tr>\n",
              "    <tr>\n",
              "      <th>113548</th>\n",
              "      <td>193458</td>\n",
              "      <td>014011369X</td>\n",
              "      <td>9</td>\n",
              "      <td>8</td>\n",
              "      <td>9.125000</td>\n",
              "      <td>And the Band Played on: Politics, People, and ...</td>\n",
              "      <td>NaN</td>\n",
              "    </tr>\n",
              "    <tr>\n",
              "      <th>113543</th>\n",
              "      <td>193458</td>\n",
              "      <td>0064471063</td>\n",
              "      <td>9</td>\n",
              "      <td>27</td>\n",
              "      <td>8.518519</td>\n",
              "      <td>The Horse and His Boy</td>\n",
              "      <td>NaN</td>\n",
              "    </tr>\n",
              "    <tr>\n",
              "      <th>113541</th>\n",
              "      <td>193458</td>\n",
              "      <td>0064471047</td>\n",
              "      <td>9</td>\n",
              "      <td>42</td>\n",
              "      <td>8.714286</td>\n",
              "      <td>The Lion, the Witch, and the Wardrobe (The Chr...</td>\n",
              "      <td>NaN</td>\n",
              "    </tr>\n",
              "    <tr>\n",
              "      <th>113549</th>\n",
              "      <td>193458</td>\n",
              "      <td>0140298479</td>\n",
              "      <td>9</td>\n",
              "      <td>113</td>\n",
              "      <td>7.539823</td>\n",
              "      <td>Bridget Jones: The Edge of Reason</td>\n",
              "      <td>NaN</td>\n",
              "    </tr>\n",
              "    <tr>\n",
              "      <th>113542</th>\n",
              "      <td>193458</td>\n",
              "      <td>0064471055</td>\n",
              "      <td>9</td>\n",
              "      <td>22</td>\n",
              "      <td>8.545455</td>\n",
              "      <td>Prince Caspian (rack) : The Return to Narnia (...</td>\n",
              "      <td>NaN</td>\n",
              "    </tr>\n",
              "    <tr>\n",
              "      <th>113545</th>\n",
              "      <td>193458</td>\n",
              "      <td>006447108X</td>\n",
              "      <td>9</td>\n",
              "      <td>18</td>\n",
              "      <td>8.833333</td>\n",
              "      <td>The Last Battle</td>\n",
              "      <td>NaN</td>\n",
              "    </tr>\n",
              "    <tr>\n",
              "      <th>113565</th>\n",
              "      <td>193458</td>\n",
              "      <td>0345431057</td>\n",
              "      <td>9</td>\n",
              "      <td>8</td>\n",
              "      <td>9.125000</td>\n",
              "      <td>Slaves in the Family (Ballantine Reader's Circle)</td>\n",
              "      <td>NaN</td>\n",
              "    </tr>\n",
              "    <tr>\n",
              "      <th>113553</th>\n",
              "      <td>193458</td>\n",
              "      <td>0142001740</td>\n",
              "      <td>9</td>\n",
              "      <td>307</td>\n",
              "      <td>8.452769</td>\n",
              "      <td>The Secret Life of Bees</td>\n",
              "      <td>NaN</td>\n",
              "    </tr>\n",
              "    <tr>\n",
              "      <th>113585</th>\n",
              "      <td>193458</td>\n",
              "      <td>0679429220</td>\n",
              "      <td>9</td>\n",
              "      <td>107</td>\n",
              "      <td>7.794393</td>\n",
              "      <td>Midnight in the Garden of Good and Evil: A Sav...</td>\n",
              "      <td>NaN</td>\n",
              "    </tr>\n",
              "  </tbody>\n",
              "</table>\n",
              "</div>"
            ],
            "text/plain": [
              "        user_id  ... pred_rating\n",
              "113594   193458  ...         NaN\n",
              "113548   193458  ...         NaN\n",
              "113543   193458  ...         NaN\n",
              "113541   193458  ...         NaN\n",
              "113549   193458  ...         NaN\n",
              "113542   193458  ...         NaN\n",
              "113545   193458  ...         NaN\n",
              "113565   193458  ...         NaN\n",
              "113553   193458  ...         NaN\n",
              "113585   193458  ...         NaN\n",
              "\n",
              "[10 rows x 7 columns]"
            ]
          },
          "metadata": {},
          "execution_count": 84
        }
      ]
    },
    {
      "cell_type": "code",
      "metadata": {
        "colab": {
          "base_uri": "https://localhost:8080/",
          "height": 206
        },
        "id": "aUgCJQ84_tMm",
        "outputId": "7f04a8c4-5b40-44cc-f863-4780992beb9b"
      },
      "source": [
        "# Printing prediction of top 5 rated books\n",
        "\n",
        "df_user[df_user['pred_rating'].notna()].sort_values('pred_rating', ascending=False).head(5)"
      ],
      "execution_count": 85,
      "outputs": [
        {
          "output_type": "execute_result",
          "data": {
            "text/html": [
              "<div>\n",
              "<style scoped>\n",
              "    .dataframe tbody tr th:only-of-type {\n",
              "        vertical-align: middle;\n",
              "    }\n",
              "\n",
              "    .dataframe tbody tr th {\n",
              "        vertical-align: top;\n",
              "    }\n",
              "\n",
              "    .dataframe thead th {\n",
              "        text-align: right;\n",
              "    }\n",
              "</style>\n",
              "<table border=\"1\" class=\"dataframe\">\n",
              "  <thead>\n",
              "    <tr style=\"text-align: right;\">\n",
              "      <th></th>\n",
              "      <th>user_id</th>\n",
              "      <th>isbn</th>\n",
              "      <th>book_rating</th>\n",
              "      <th>Total_No_Of_Users_Rated</th>\n",
              "      <th>Avg_Rating</th>\n",
              "      <th>book_title</th>\n",
              "      <th>pred_rating</th>\n",
              "    </tr>\n",
              "  </thead>\n",
              "  <tbody>\n",
              "    <tr>\n",
              "      <th>113547</th>\n",
              "      <td>193458</td>\n",
              "      <td>0064471101</td>\n",
              "      <td>9</td>\n",
              "      <td>37</td>\n",
              "      <td>8.729730</td>\n",
              "      <td>The Magician's Nephew (rack) (Narnia)</td>\n",
              "      <td>8.438303</td>\n",
              "    </tr>\n",
              "    <tr>\n",
              "      <th>113551</th>\n",
              "      <td>193458</td>\n",
              "      <td>0140620125</td>\n",
              "      <td>9</td>\n",
              "      <td>15</td>\n",
              "      <td>8.133333</td>\n",
              "      <td>Wuthering Heights (Penguin Popular Classics)</td>\n",
              "      <td>8.032958</td>\n",
              "    </tr>\n",
              "    <tr>\n",
              "      <th>113581</th>\n",
              "      <td>193458</td>\n",
              "      <td>0553258001</td>\n",
              "      <td>9</td>\n",
              "      <td>38</td>\n",
              "      <td>8.236842</td>\n",
              "      <td>The Cider House Rules</td>\n",
              "      <td>8.027274</td>\n",
              "    </tr>\n",
              "    <tr>\n",
              "      <th>113584</th>\n",
              "      <td>193458</td>\n",
              "      <td>0671880314</td>\n",
              "      <td>9</td>\n",
              "      <td>36</td>\n",
              "      <td>8.305556</td>\n",
              "      <td>Schindler's List</td>\n",
              "      <td>7.864368</td>\n",
              "    </tr>\n",
              "    <tr>\n",
              "      <th>113590</th>\n",
              "      <td>193458</td>\n",
              "      <td>0887308589</td>\n",
              "      <td>8</td>\n",
              "      <td>15</td>\n",
              "      <td>8.200000</td>\n",
              "      <td>The Dilbert Principle: A Cubicle's-Eye View of...</td>\n",
              "      <td>7.835859</td>\n",
              "    </tr>\n",
              "  </tbody>\n",
              "</table>\n",
              "</div>"
            ],
            "text/plain": [
              "        user_id  ... pred_rating\n",
              "113547   193458  ...    8.438303\n",
              "113551   193458  ...    8.032958\n",
              "113581   193458  ...    8.027274\n",
              "113584   193458  ...    7.864368\n",
              "113590   193458  ...    7.835859\n",
              "\n",
              "[5 rows x 7 columns]"
            ]
          },
          "metadata": {},
          "execution_count": 85
        }
      ]
    },
    {
      "cell_type": "markdown",
      "metadata": {
        "id": "yGqFi724_3me"
      },
      "source": [
        "### **Test set: Actual top rated books**"
      ]
    },
    {
      "cell_type": "code",
      "metadata": {
        "colab": {
          "base_uri": "https://localhost:8080/",
          "height": 206
        },
        "id": "kRkhVxLH_xvw",
        "outputId": "ba12cdf9-b6db-4b46-c467-908f51c71c99"
      },
      "source": [
        "# Printing actual top 5 rated books by user 193458\n",
        "\n",
        "df_user[df_user['pred_rating'].notna()].sort_values('book_rating', ascending=False).head(5)"
      ],
      "execution_count": 86,
      "outputs": [
        {
          "output_type": "execute_result",
          "data": {
            "text/html": [
              "<div>\n",
              "<style scoped>\n",
              "    .dataframe tbody tr th:only-of-type {\n",
              "        vertical-align: middle;\n",
              "    }\n",
              "\n",
              "    .dataframe tbody tr th {\n",
              "        vertical-align: top;\n",
              "    }\n",
              "\n",
              "    .dataframe thead th {\n",
              "        text-align: right;\n",
              "    }\n",
              "</style>\n",
              "<table border=\"1\" class=\"dataframe\">\n",
              "  <thead>\n",
              "    <tr style=\"text-align: right;\">\n",
              "      <th></th>\n",
              "      <th>user_id</th>\n",
              "      <th>isbn</th>\n",
              "      <th>book_rating</th>\n",
              "      <th>Total_No_Of_Users_Rated</th>\n",
              "      <th>Avg_Rating</th>\n",
              "      <th>book_title</th>\n",
              "      <th>pred_rating</th>\n",
              "    </tr>\n",
              "  </thead>\n",
              "  <tbody>\n",
              "    <tr>\n",
              "      <th>113592</th>\n",
              "      <td>193458</td>\n",
              "      <td>1853260002</td>\n",
              "      <td>10</td>\n",
              "      <td>23</td>\n",
              "      <td>8.217391</td>\n",
              "      <td>Pride &amp;amp; Prejudice (Wordsworth Classics)</td>\n",
              "      <td>7.692329</td>\n",
              "    </tr>\n",
              "    <tr>\n",
              "      <th>113547</th>\n",
              "      <td>193458</td>\n",
              "      <td>0064471101</td>\n",
              "      <td>9</td>\n",
              "      <td>37</td>\n",
              "      <td>8.729730</td>\n",
              "      <td>The Magician's Nephew (rack) (Narnia)</td>\n",
              "      <td>8.438303</td>\n",
              "    </tr>\n",
              "    <tr>\n",
              "      <th>113551</th>\n",
              "      <td>193458</td>\n",
              "      <td>0140620125</td>\n",
              "      <td>9</td>\n",
              "      <td>15</td>\n",
              "      <td>8.133333</td>\n",
              "      <td>Wuthering Heights (Penguin Popular Classics)</td>\n",
              "      <td>8.032958</td>\n",
              "    </tr>\n",
              "    <tr>\n",
              "      <th>113558</th>\n",
              "      <td>193458</td>\n",
              "      <td>0330352695</td>\n",
              "      <td>9</td>\n",
              "      <td>13</td>\n",
              "      <td>7.615385</td>\n",
              "      <td>Four Letters of Love</td>\n",
              "      <td>7.571430</td>\n",
              "    </tr>\n",
              "    <tr>\n",
              "      <th>113581</th>\n",
              "      <td>193458</td>\n",
              "      <td>0553258001</td>\n",
              "      <td>9</td>\n",
              "      <td>38</td>\n",
              "      <td>8.236842</td>\n",
              "      <td>The Cider House Rules</td>\n",
              "      <td>8.027274</td>\n",
              "    </tr>\n",
              "  </tbody>\n",
              "</table>\n",
              "</div>"
            ],
            "text/plain": [
              "        user_id  ... pred_rating\n",
              "113592   193458  ...    7.692329\n",
              "113547   193458  ...    8.438303\n",
              "113551   193458  ...    8.032958\n",
              "113558   193458  ...    7.571430\n",
              "113581   193458  ...    8.027274\n",
              "\n",
              "[5 rows x 7 columns]"
            ]
          },
          "metadata": {},
          "execution_count": 86
        }
      ]
    },
    {
      "cell_type": "markdown",
      "metadata": {
        "id": "1GWd4suO__M2"
      },
      "source": [
        "**Following is the result after analyzing book ratings by the user - 193458:**\n",
        "* **He/she likes English romantic novels (Pride and Prejudice, Sense and Sensibility), fantasy (Narnia) as well as historical novels (Schindler's List).**\n",
        "* **Among the recommended books there are other works from Narnia's series, two historical novels and one romance which correlates with user's previous preferences.**"
      ]
    },
    {
      "cell_type": "markdown",
      "metadata": {
        "id": "IkgQtcY8A_M-"
      },
      "source": [
        "## **Memory Based Approach**"
      ]
    },
    {
      "cell_type": "markdown",
      "metadata": {
        "id": "0glDmjnpBEdf"
      },
      "source": [
        "### **User-Item Based Filtering**"
      ]
    },
    {
      "cell_type": "code",
      "metadata": {
        "colab": {
          "base_uri": "https://localhost:8080/",
          "height": 206
        },
        "id": "OViEI7r-_6nt",
        "outputId": "4d5c0a88-b475-4f12-f1bc-7dc40b3fa42d"
      },
      "source": [
        "# Renaming columns of ratings_explicit dataframe\n",
        "\n",
        "ratings_explicit.rename(columns={'user_id':'User-ID','isbn':'ISBN','book_rating':'Book-Rating'},inplace=True)\n",
        "ratings_explicit.head()"
      ],
      "execution_count": 87,
      "outputs": [
        {
          "output_type": "execute_result",
          "data": {
            "text/html": [
              "<div>\n",
              "<style scoped>\n",
              "    .dataframe tbody tr th:only-of-type {\n",
              "        vertical-align: middle;\n",
              "    }\n",
              "\n",
              "    .dataframe tbody tr th {\n",
              "        vertical-align: top;\n",
              "    }\n",
              "\n",
              "    .dataframe thead th {\n",
              "        text-align: right;\n",
              "    }\n",
              "</style>\n",
              "<table border=\"1\" class=\"dataframe\">\n",
              "  <thead>\n",
              "    <tr style=\"text-align: right;\">\n",
              "      <th></th>\n",
              "      <th>User-ID</th>\n",
              "      <th>ISBN</th>\n",
              "      <th>Book-Rating</th>\n",
              "      <th>Total_No_Of_Users_Rated</th>\n",
              "      <th>Avg_Rating</th>\n",
              "    </tr>\n",
              "  </thead>\n",
              "  <tbody>\n",
              "    <tr>\n",
              "      <th>1</th>\n",
              "      <td>276726</td>\n",
              "      <td>0155061224</td>\n",
              "      <td>5</td>\n",
              "      <td>1</td>\n",
              "      <td>5.000000</td>\n",
              "    </tr>\n",
              "    <tr>\n",
              "      <th>3</th>\n",
              "      <td>276729</td>\n",
              "      <td>052165615X</td>\n",
              "      <td>3</td>\n",
              "      <td>1</td>\n",
              "      <td>3.000000</td>\n",
              "    </tr>\n",
              "    <tr>\n",
              "      <th>4</th>\n",
              "      <td>276729</td>\n",
              "      <td>0521795028</td>\n",
              "      <td>6</td>\n",
              "      <td>1</td>\n",
              "      <td>6.000000</td>\n",
              "    </tr>\n",
              "    <tr>\n",
              "      <th>8</th>\n",
              "      <td>276744</td>\n",
              "      <td>038550120X</td>\n",
              "      <td>7</td>\n",
              "      <td>81</td>\n",
              "      <td>7.580247</td>\n",
              "    </tr>\n",
              "    <tr>\n",
              "      <th>16</th>\n",
              "      <td>276747</td>\n",
              "      <td>0060517794</td>\n",
              "      <td>9</td>\n",
              "      <td>30</td>\n",
              "      <td>8.000000</td>\n",
              "    </tr>\n",
              "  </tbody>\n",
              "</table>\n",
              "</div>"
            ],
            "text/plain": [
              "    User-ID        ISBN  Book-Rating  Total_No_Of_Users_Rated  Avg_Rating\n",
              "1    276726  0155061224            5                        1    5.000000\n",
              "3    276729  052165615X            3                        1    3.000000\n",
              "4    276729  0521795028            6                        1    6.000000\n",
              "8    276744  038550120X            7                       81    7.580247\n",
              "16   276747  0060517794            9                       30    8.000000"
            ]
          },
          "metadata": {},
          "execution_count": 87
        }
      ]
    },
    {
      "cell_type": "code",
      "metadata": {
        "colab": {
          "base_uri": "https://localhost:8080/"
        },
        "id": "PB2TlbrUBI0v",
        "outputId": "1b782607-b6e4-422c-c076-86a3cfe9db41"
      },
      "source": [
        "# Printing number of users and number of users with atleast 5 interactions\n",
        "\n",
        "users_interactions_count_df = ratings_explicit.groupby(['ISBN', 'User-ID']).size().groupby('User-ID').size()\n",
        "print('Total Number of users: %d' % len(users_interactions_count_df))\n",
        "\n",
        "users_with_enough_interactions_df = users_interactions_count_df[users_interactions_count_df >= 100].reset_index()[['User-ID']]\n",
        "print('Number of users with at least 5 interactions: %d' % len(users_with_enough_interactions_df))"
      ],
      "execution_count": 88,
      "outputs": [
        {
          "output_type": "stream",
          "name": "stdout",
          "text": [
            "Total Number of users: 68091\n",
            "Number of users with at least 5 interactions: 449\n"
          ]
        }
      ]
    },
    {
      "cell_type": "code",
      "metadata": {
        "colab": {
          "base_uri": "https://localhost:8080/"
        },
        "id": "irxGjJviBMOg",
        "outputId": "9106693a-1995-4c87-9ad0-fd88562c146c"
      },
      "source": [
        "# Printing no. of interactions and no. of interactions from users with at least 5 interactions\n",
        "\n",
        "print('Total number of interactions: %d' % len(ratings_explicit))\n",
        "interactions_from_selected_users_df = ratings_explicit.merge(users_with_enough_interactions_df, \n",
        "               how = 'right',\n",
        "               left_on = 'User-ID',\n",
        "               right_on = 'User-ID')\n",
        "print('Number of interactions from users with at least 5 interactions: %d' % len(interactions_from_selected_users_df))"
      ],
      "execution_count": 89,
      "outputs": [
        {
          "output_type": "stream",
          "name": "stdout",
          "text": [
            "Total number of interactions: 383842\n",
            "Number of interactions from users with at least 5 interactions: 103271\n"
          ]
        }
      ]
    },
    {
      "cell_type": "markdown",
      "metadata": {
        "id": "wrXXf289BXtS"
      },
      "source": [
        "**Performing data scaling.**"
      ]
    },
    {
      "cell_type": "code",
      "metadata": {
        "colab": {
          "base_uri": "https://localhost:8080/",
          "height": 224
        },
        "id": "0fD61RrtBPY_",
        "outputId": "7da876d8-61d4-4f8c-ce50-48daeaa075a0"
      },
      "source": [
        "# Appling log transform on Book-Rating\n",
        "\n",
        "def smooth_user_preference(x):\n",
        "    return math.log(1+x, 2)\n",
        "    \n",
        "interactions_full_df = interactions_from_selected_users_df.groupby(['ISBN', 'User-ID'])['Book-Rating'].sum().apply(smooth_user_preference).reset_index()\n",
        "print('Number of unique user/item interactions: %d' % len(interactions_full_df))\n",
        "interactions_full_df.head()"
      ],
      "execution_count": 90,
      "outputs": [
        {
          "output_type": "stream",
          "name": "stdout",
          "text": [
            "Number of unique user/item interactions: 103271\n"
          ]
        },
        {
          "output_type": "execute_result",
          "data": {
            "text/html": [
              "<div>\n",
              "<style scoped>\n",
              "    .dataframe tbody tr th:only-of-type {\n",
              "        vertical-align: middle;\n",
              "    }\n",
              "\n",
              "    .dataframe tbody tr th {\n",
              "        vertical-align: top;\n",
              "    }\n",
              "\n",
              "    .dataframe thead th {\n",
              "        text-align: right;\n",
              "    }\n",
              "</style>\n",
              "<table border=\"1\" class=\"dataframe\">\n",
              "  <thead>\n",
              "    <tr style=\"text-align: right;\">\n",
              "      <th></th>\n",
              "      <th>ISBN</th>\n",
              "      <th>User-ID</th>\n",
              "      <th>Book-Rating</th>\n",
              "    </tr>\n",
              "  </thead>\n",
              "  <tbody>\n",
              "    <tr>\n",
              "      <th>0</th>\n",
              "      <td>0000913154</td>\n",
              "      <td>171118</td>\n",
              "      <td>3.169925</td>\n",
              "    </tr>\n",
              "    <tr>\n",
              "      <th>1</th>\n",
              "      <td>0001046438</td>\n",
              "      <td>23902</td>\n",
              "      <td>3.321928</td>\n",
              "    </tr>\n",
              "    <tr>\n",
              "      <th>2</th>\n",
              "      <td>000104687X</td>\n",
              "      <td>23902</td>\n",
              "      <td>2.807355</td>\n",
              "    </tr>\n",
              "    <tr>\n",
              "      <th>3</th>\n",
              "      <td>0001047213</td>\n",
              "      <td>23902</td>\n",
              "      <td>3.321928</td>\n",
              "    </tr>\n",
              "    <tr>\n",
              "      <th>4</th>\n",
              "      <td>0001047973</td>\n",
              "      <td>23902</td>\n",
              "      <td>3.321928</td>\n",
              "    </tr>\n",
              "  </tbody>\n",
              "</table>\n",
              "</div>"
            ],
            "text/plain": [
              "         ISBN  User-ID  Book-Rating\n",
              "0  0000913154   171118     3.169925\n",
              "1  0001046438    23902     3.321928\n",
              "2  000104687X    23902     2.807355\n",
              "3  0001047213    23902     3.321928\n",
              "4  0001047973    23902     3.321928"
            ]
          },
          "metadata": {},
          "execution_count": 90
        }
      ]
    },
    {
      "cell_type": "markdown",
      "metadata": {
        "id": "MaXBxkzmCrkK"
      },
      "source": [
        "### **Train test split**"
      ]
    },
    {
      "cell_type": "code",
      "metadata": {
        "id": "5-oNIFQNBd9i"
      },
      "source": [
        "# Importing train_test_split\n",
        "\n",
        "from sklearn.model_selection import train_test_split"
      ],
      "execution_count": 91,
      "outputs": []
    },
    {
      "cell_type": "code",
      "metadata": {
        "colab": {
          "base_uri": "https://localhost:8080/"
        },
        "id": "Keb6v3HiCu-2",
        "outputId": "5a342996-f196-4c0d-8ad7-1d8adbc0c3e9"
      },
      "source": [
        "# Applying train_test_split\n",
        "\n",
        "interactions_train_df, interactions_test_df = train_test_split(interactions_full_df,\n",
        "                                   stratify=interactions_full_df['User-ID'], \n",
        "                                   test_size=0.20,\n",
        "                                   random_state=12)\n",
        "\n",
        "print('Number of interactions on Train set: %d' % len(interactions_train_df))\n",
        "print('Number of interactions on Test set: %d' % len(interactions_test_df))"
      ],
      "execution_count": 92,
      "outputs": [
        {
          "output_type": "stream",
          "name": "stdout",
          "text": [
            "Number of interactions on Train set: 82616\n",
            "Number of interactions on Test set: 20655\n"
          ]
        }
      ]
    },
    {
      "cell_type": "code",
      "metadata": {
        "colab": {
          "base_uri": "https://localhost:8080/",
          "height": 304
        },
        "id": "VRPsV5Q4CyA6",
        "outputId": "0ce5f3b3-f1c7-4c39-edf9-31591edcbbca"
      },
      "source": [
        "# Creating a sparse pivot table with users in rows and items in columns\n",
        "\n",
        "users_items_pivot_matrix_df = interactions_train_df.pivot(index='User-ID', \n",
        "                                                          columns='ISBN', \n",
        "                                                          values='Book-Rating').fillna(0)\n",
        "\n",
        "users_items_pivot_matrix_df.head()"
      ],
      "execution_count": 93,
      "outputs": [
        {
          "output_type": "execute_result",
          "data": {
            "text/html": [
              "<div>\n",
              "<style scoped>\n",
              "    .dataframe tbody tr th:only-of-type {\n",
              "        vertical-align: middle;\n",
              "    }\n",
              "\n",
              "    .dataframe tbody tr th {\n",
              "        vertical-align: top;\n",
              "    }\n",
              "\n",
              "    .dataframe thead th {\n",
              "        text-align: right;\n",
              "    }\n",
              "</style>\n",
              "<table border=\"1\" class=\"dataframe\">\n",
              "  <thead>\n",
              "    <tr style=\"text-align: right;\">\n",
              "      <th>ISBN</th>\n",
              "      <th>0000913154</th>\n",
              "      <th>0001046438</th>\n",
              "      <th>000104687X</th>\n",
              "      <th>0001047213</th>\n",
              "      <th>000104799X</th>\n",
              "      <th>0001048082</th>\n",
              "      <th>0001053736</th>\n",
              "      <th>0001053744</th>\n",
              "      <th>0001055607</th>\n",
              "      <th>0001845039</th>\n",
              "      <th>0001935968</th>\n",
              "      <th>0001944711</th>\n",
              "      <th>0001952803</th>\n",
              "      <th>0001953877</th>\n",
              "      <th>0002005018</th>\n",
              "      <th>0002005557</th>\n",
              "      <th>0002006588</th>\n",
              "      <th>0002115328</th>\n",
              "      <th>0002116286</th>\n",
              "      <th>0002118580</th>\n",
              "      <th>0002154900</th>\n",
              "      <th>0002158973</th>\n",
              "      <th>0002163713</th>\n",
              "      <th>0002176181</th>\n",
              "      <th>0002176432</th>\n",
              "      <th>0002179695</th>\n",
              "      <th>0002181924</th>\n",
              "      <th>0002184974</th>\n",
              "      <th>0002190915</th>\n",
              "      <th>0002197154</th>\n",
              "      <th>0002223929</th>\n",
              "      <th>0002228394</th>\n",
              "      <th>000223257X</th>\n",
              "      <th>0002233509</th>\n",
              "      <th>0002239183</th>\n",
              "      <th>0002244098</th>\n",
              "      <th>000225056X</th>\n",
              "      <th>0002250810</th>\n",
              "      <th>0002251485</th>\n",
              "      <th>0002251760</th>\n",
              "      <th>...</th>\n",
              "      <th>9813056096</th>\n",
              "      <th>9813056363</th>\n",
              "      <th>9813056495</th>\n",
              "      <th>9838120014</th>\n",
              "      <th>9838523283</th>\n",
              "      <th>9871106173</th>\n",
              "      <th>9871138148</th>\n",
              "      <th>9879397274</th>\n",
              "      <th>987960170X</th>\n",
              "      <th>9974643058</th>\n",
              "      <th>999058284X</th>\n",
              "      <th>9992003766</th>\n",
              "      <th>9992059958</th>\n",
              "      <th>9993584185</th>\n",
              "      <th>9994256963</th>\n",
              "      <th>9994348337</th>\n",
              "      <th>9997406567</th>\n",
              "      <th>9997406990</th>\n",
              "      <th>999740923X</th>\n",
              "      <th>9997409728</th>\n",
              "      <th>9997411757</th>\n",
              "      <th>9997411870</th>\n",
              "      <th>999750805X</th>\n",
              "      <th>9997508769</th>\n",
              "      <th>9997512952</th>\n",
              "      <th>9997519086</th>\n",
              "      <th>9997555635</th>\n",
              "      <th>B00001U0CP</th>\n",
              "      <th>B00005TZWI</th>\n",
              "      <th>B00006CRTE</th>\n",
              "      <th>B00006I4OX</th>\n",
              "      <th>B00007FYKW</th>\n",
              "      <th>B00008RWPV</th>\n",
              "      <th>B000092Q0A</th>\n",
              "      <th>B00009EF82</th>\n",
              "      <th>B00009NDAN</th>\n",
              "      <th>B0000DYXID</th>\n",
              "      <th>B0000T6KHI</th>\n",
              "      <th>B00013AX9E</th>\n",
              "      <th>B0001I1KOG</th>\n",
              "    </tr>\n",
              "    <tr>\n",
              "      <th>User-ID</th>\n",
              "      <th></th>\n",
              "      <th></th>\n",
              "      <th></th>\n",
              "      <th></th>\n",
              "      <th></th>\n",
              "      <th></th>\n",
              "      <th></th>\n",
              "      <th></th>\n",
              "      <th></th>\n",
              "      <th></th>\n",
              "      <th></th>\n",
              "      <th></th>\n",
              "      <th></th>\n",
              "      <th></th>\n",
              "      <th></th>\n",
              "      <th></th>\n",
              "      <th></th>\n",
              "      <th></th>\n",
              "      <th></th>\n",
              "      <th></th>\n",
              "      <th></th>\n",
              "      <th></th>\n",
              "      <th></th>\n",
              "      <th></th>\n",
              "      <th></th>\n",
              "      <th></th>\n",
              "      <th></th>\n",
              "      <th></th>\n",
              "      <th></th>\n",
              "      <th></th>\n",
              "      <th></th>\n",
              "      <th></th>\n",
              "      <th></th>\n",
              "      <th></th>\n",
              "      <th></th>\n",
              "      <th></th>\n",
              "      <th></th>\n",
              "      <th></th>\n",
              "      <th></th>\n",
              "      <th></th>\n",
              "      <th></th>\n",
              "      <th></th>\n",
              "      <th></th>\n",
              "      <th></th>\n",
              "      <th></th>\n",
              "      <th></th>\n",
              "      <th></th>\n",
              "      <th></th>\n",
              "      <th></th>\n",
              "      <th></th>\n",
              "      <th></th>\n",
              "      <th></th>\n",
              "      <th></th>\n",
              "      <th></th>\n",
              "      <th></th>\n",
              "      <th></th>\n",
              "      <th></th>\n",
              "      <th></th>\n",
              "      <th></th>\n",
              "      <th></th>\n",
              "      <th></th>\n",
              "      <th></th>\n",
              "      <th></th>\n",
              "      <th></th>\n",
              "      <th></th>\n",
              "      <th></th>\n",
              "      <th></th>\n",
              "      <th></th>\n",
              "      <th></th>\n",
              "      <th></th>\n",
              "      <th></th>\n",
              "      <th></th>\n",
              "      <th></th>\n",
              "      <th></th>\n",
              "      <th></th>\n",
              "      <th></th>\n",
              "      <th></th>\n",
              "      <th></th>\n",
              "      <th></th>\n",
              "      <th></th>\n",
              "      <th></th>\n",
              "    </tr>\n",
              "  </thead>\n",
              "  <tbody>\n",
              "    <tr>\n",
              "      <th>2033</th>\n",
              "      <td>0.0</td>\n",
              "      <td>0.0</td>\n",
              "      <td>0.0</td>\n",
              "      <td>0.0</td>\n",
              "      <td>0.0</td>\n",
              "      <td>0.0</td>\n",
              "      <td>0.0</td>\n",
              "      <td>0.0</td>\n",
              "      <td>0.0</td>\n",
              "      <td>0.0</td>\n",
              "      <td>0.0</td>\n",
              "      <td>0.0</td>\n",
              "      <td>0.0</td>\n",
              "      <td>0.0</td>\n",
              "      <td>0.0</td>\n",
              "      <td>0.0</td>\n",
              "      <td>0.0</td>\n",
              "      <td>0.0</td>\n",
              "      <td>0.0</td>\n",
              "      <td>0.0</td>\n",
              "      <td>0.0</td>\n",
              "      <td>0.0</td>\n",
              "      <td>0.0</td>\n",
              "      <td>0.0</td>\n",
              "      <td>0.0</td>\n",
              "      <td>0.0</td>\n",
              "      <td>0.0</td>\n",
              "      <td>0.0</td>\n",
              "      <td>0.0</td>\n",
              "      <td>0.0</td>\n",
              "      <td>0.0</td>\n",
              "      <td>0.0</td>\n",
              "      <td>0.0</td>\n",
              "      <td>0.0</td>\n",
              "      <td>0.0</td>\n",
              "      <td>0.0</td>\n",
              "      <td>0.0</td>\n",
              "      <td>0.0</td>\n",
              "      <td>0.0</td>\n",
              "      <td>0.0</td>\n",
              "      <td>...</td>\n",
              "      <td>0.0</td>\n",
              "      <td>0.0</td>\n",
              "      <td>0.0</td>\n",
              "      <td>0.0</td>\n",
              "      <td>0.0</td>\n",
              "      <td>0.0</td>\n",
              "      <td>0.0</td>\n",
              "      <td>0.0</td>\n",
              "      <td>0.0</td>\n",
              "      <td>0.0</td>\n",
              "      <td>0.0</td>\n",
              "      <td>0.0</td>\n",
              "      <td>0.0</td>\n",
              "      <td>0.0</td>\n",
              "      <td>0.0</td>\n",
              "      <td>0.0</td>\n",
              "      <td>0.0</td>\n",
              "      <td>0.0</td>\n",
              "      <td>0.0</td>\n",
              "      <td>0.0</td>\n",
              "      <td>0.0</td>\n",
              "      <td>0.0</td>\n",
              "      <td>0.0</td>\n",
              "      <td>0.0</td>\n",
              "      <td>0.0</td>\n",
              "      <td>0.0</td>\n",
              "      <td>0.0</td>\n",
              "      <td>0.0</td>\n",
              "      <td>0.0</td>\n",
              "      <td>0.0</td>\n",
              "      <td>0.0</td>\n",
              "      <td>0.0</td>\n",
              "      <td>0.0</td>\n",
              "      <td>0.0</td>\n",
              "      <td>0.0</td>\n",
              "      <td>0.0</td>\n",
              "      <td>0.0</td>\n",
              "      <td>0.0</td>\n",
              "      <td>0.0</td>\n",
              "      <td>0.0</td>\n",
              "    </tr>\n",
              "    <tr>\n",
              "      <th>2110</th>\n",
              "      <td>0.0</td>\n",
              "      <td>0.0</td>\n",
              "      <td>0.0</td>\n",
              "      <td>0.0</td>\n",
              "      <td>0.0</td>\n",
              "      <td>0.0</td>\n",
              "      <td>0.0</td>\n",
              "      <td>0.0</td>\n",
              "      <td>0.0</td>\n",
              "      <td>0.0</td>\n",
              "      <td>0.0</td>\n",
              "      <td>0.0</td>\n",
              "      <td>0.0</td>\n",
              "      <td>0.0</td>\n",
              "      <td>0.0</td>\n",
              "      <td>0.0</td>\n",
              "      <td>0.0</td>\n",
              "      <td>0.0</td>\n",
              "      <td>0.0</td>\n",
              "      <td>0.0</td>\n",
              "      <td>0.0</td>\n",
              "      <td>0.0</td>\n",
              "      <td>0.0</td>\n",
              "      <td>0.0</td>\n",
              "      <td>0.0</td>\n",
              "      <td>0.0</td>\n",
              "      <td>0.0</td>\n",
              "      <td>0.0</td>\n",
              "      <td>0.0</td>\n",
              "      <td>0.0</td>\n",
              "      <td>0.0</td>\n",
              "      <td>0.0</td>\n",
              "      <td>0.0</td>\n",
              "      <td>0.0</td>\n",
              "      <td>0.0</td>\n",
              "      <td>0.0</td>\n",
              "      <td>0.0</td>\n",
              "      <td>0.0</td>\n",
              "      <td>0.0</td>\n",
              "      <td>0.0</td>\n",
              "      <td>...</td>\n",
              "      <td>0.0</td>\n",
              "      <td>0.0</td>\n",
              "      <td>0.0</td>\n",
              "      <td>0.0</td>\n",
              "      <td>0.0</td>\n",
              "      <td>0.0</td>\n",
              "      <td>0.0</td>\n",
              "      <td>0.0</td>\n",
              "      <td>0.0</td>\n",
              "      <td>0.0</td>\n",
              "      <td>0.0</td>\n",
              "      <td>0.0</td>\n",
              "      <td>0.0</td>\n",
              "      <td>0.0</td>\n",
              "      <td>0.0</td>\n",
              "      <td>0.0</td>\n",
              "      <td>0.0</td>\n",
              "      <td>0.0</td>\n",
              "      <td>0.0</td>\n",
              "      <td>0.0</td>\n",
              "      <td>0.0</td>\n",
              "      <td>0.0</td>\n",
              "      <td>0.0</td>\n",
              "      <td>0.0</td>\n",
              "      <td>0.0</td>\n",
              "      <td>0.0</td>\n",
              "      <td>0.0</td>\n",
              "      <td>0.0</td>\n",
              "      <td>0.0</td>\n",
              "      <td>0.0</td>\n",
              "      <td>0.0</td>\n",
              "      <td>0.0</td>\n",
              "      <td>0.0</td>\n",
              "      <td>0.0</td>\n",
              "      <td>0.0</td>\n",
              "      <td>0.0</td>\n",
              "      <td>0.0</td>\n",
              "      <td>0.0</td>\n",
              "      <td>0.0</td>\n",
              "      <td>0.0</td>\n",
              "    </tr>\n",
              "    <tr>\n",
              "      <th>2276</th>\n",
              "      <td>0.0</td>\n",
              "      <td>0.0</td>\n",
              "      <td>0.0</td>\n",
              "      <td>0.0</td>\n",
              "      <td>0.0</td>\n",
              "      <td>0.0</td>\n",
              "      <td>0.0</td>\n",
              "      <td>0.0</td>\n",
              "      <td>0.0</td>\n",
              "      <td>0.0</td>\n",
              "      <td>0.0</td>\n",
              "      <td>0.0</td>\n",
              "      <td>0.0</td>\n",
              "      <td>0.0</td>\n",
              "      <td>0.0</td>\n",
              "      <td>0.0</td>\n",
              "      <td>0.0</td>\n",
              "      <td>0.0</td>\n",
              "      <td>0.0</td>\n",
              "      <td>0.0</td>\n",
              "      <td>0.0</td>\n",
              "      <td>0.0</td>\n",
              "      <td>0.0</td>\n",
              "      <td>0.0</td>\n",
              "      <td>0.0</td>\n",
              "      <td>0.0</td>\n",
              "      <td>0.0</td>\n",
              "      <td>0.0</td>\n",
              "      <td>0.0</td>\n",
              "      <td>0.0</td>\n",
              "      <td>0.0</td>\n",
              "      <td>0.0</td>\n",
              "      <td>0.0</td>\n",
              "      <td>0.0</td>\n",
              "      <td>0.0</td>\n",
              "      <td>0.0</td>\n",
              "      <td>0.0</td>\n",
              "      <td>0.0</td>\n",
              "      <td>0.0</td>\n",
              "      <td>0.0</td>\n",
              "      <td>...</td>\n",
              "      <td>0.0</td>\n",
              "      <td>0.0</td>\n",
              "      <td>0.0</td>\n",
              "      <td>0.0</td>\n",
              "      <td>0.0</td>\n",
              "      <td>0.0</td>\n",
              "      <td>0.0</td>\n",
              "      <td>0.0</td>\n",
              "      <td>0.0</td>\n",
              "      <td>0.0</td>\n",
              "      <td>0.0</td>\n",
              "      <td>0.0</td>\n",
              "      <td>0.0</td>\n",
              "      <td>0.0</td>\n",
              "      <td>0.0</td>\n",
              "      <td>0.0</td>\n",
              "      <td>0.0</td>\n",
              "      <td>0.0</td>\n",
              "      <td>0.0</td>\n",
              "      <td>0.0</td>\n",
              "      <td>0.0</td>\n",
              "      <td>0.0</td>\n",
              "      <td>0.0</td>\n",
              "      <td>0.0</td>\n",
              "      <td>0.0</td>\n",
              "      <td>0.0</td>\n",
              "      <td>0.0</td>\n",
              "      <td>0.0</td>\n",
              "      <td>0.0</td>\n",
              "      <td>0.0</td>\n",
              "      <td>0.0</td>\n",
              "      <td>0.0</td>\n",
              "      <td>0.0</td>\n",
              "      <td>0.0</td>\n",
              "      <td>0.0</td>\n",
              "      <td>0.0</td>\n",
              "      <td>0.0</td>\n",
              "      <td>0.0</td>\n",
              "      <td>0.0</td>\n",
              "      <td>0.0</td>\n",
              "    </tr>\n",
              "    <tr>\n",
              "      <th>4017</th>\n",
              "      <td>0.0</td>\n",
              "      <td>0.0</td>\n",
              "      <td>0.0</td>\n",
              "      <td>0.0</td>\n",
              "      <td>0.0</td>\n",
              "      <td>0.0</td>\n",
              "      <td>0.0</td>\n",
              "      <td>0.0</td>\n",
              "      <td>0.0</td>\n",
              "      <td>0.0</td>\n",
              "      <td>0.0</td>\n",
              "      <td>0.0</td>\n",
              "      <td>0.0</td>\n",
              "      <td>0.0</td>\n",
              "      <td>0.0</td>\n",
              "      <td>0.0</td>\n",
              "      <td>0.0</td>\n",
              "      <td>0.0</td>\n",
              "      <td>0.0</td>\n",
              "      <td>0.0</td>\n",
              "      <td>0.0</td>\n",
              "      <td>0.0</td>\n",
              "      <td>0.0</td>\n",
              "      <td>0.0</td>\n",
              "      <td>0.0</td>\n",
              "      <td>0.0</td>\n",
              "      <td>0.0</td>\n",
              "      <td>0.0</td>\n",
              "      <td>0.0</td>\n",
              "      <td>0.0</td>\n",
              "      <td>0.0</td>\n",
              "      <td>0.0</td>\n",
              "      <td>0.0</td>\n",
              "      <td>0.0</td>\n",
              "      <td>0.0</td>\n",
              "      <td>0.0</td>\n",
              "      <td>0.0</td>\n",
              "      <td>0.0</td>\n",
              "      <td>0.0</td>\n",
              "      <td>0.0</td>\n",
              "      <td>...</td>\n",
              "      <td>0.0</td>\n",
              "      <td>0.0</td>\n",
              "      <td>0.0</td>\n",
              "      <td>0.0</td>\n",
              "      <td>0.0</td>\n",
              "      <td>0.0</td>\n",
              "      <td>0.0</td>\n",
              "      <td>0.0</td>\n",
              "      <td>0.0</td>\n",
              "      <td>0.0</td>\n",
              "      <td>0.0</td>\n",
              "      <td>0.0</td>\n",
              "      <td>0.0</td>\n",
              "      <td>0.0</td>\n",
              "      <td>0.0</td>\n",
              "      <td>0.0</td>\n",
              "      <td>0.0</td>\n",
              "      <td>0.0</td>\n",
              "      <td>0.0</td>\n",
              "      <td>0.0</td>\n",
              "      <td>0.0</td>\n",
              "      <td>0.0</td>\n",
              "      <td>0.0</td>\n",
              "      <td>0.0</td>\n",
              "      <td>0.0</td>\n",
              "      <td>0.0</td>\n",
              "      <td>0.0</td>\n",
              "      <td>0.0</td>\n",
              "      <td>0.0</td>\n",
              "      <td>0.0</td>\n",
              "      <td>0.0</td>\n",
              "      <td>0.0</td>\n",
              "      <td>0.0</td>\n",
              "      <td>0.0</td>\n",
              "      <td>0.0</td>\n",
              "      <td>0.0</td>\n",
              "      <td>0.0</td>\n",
              "      <td>0.0</td>\n",
              "      <td>0.0</td>\n",
              "      <td>0.0</td>\n",
              "    </tr>\n",
              "    <tr>\n",
              "      <th>4385</th>\n",
              "      <td>0.0</td>\n",
              "      <td>0.0</td>\n",
              "      <td>0.0</td>\n",
              "      <td>0.0</td>\n",
              "      <td>0.0</td>\n",
              "      <td>0.0</td>\n",
              "      <td>0.0</td>\n",
              "      <td>0.0</td>\n",
              "      <td>0.0</td>\n",
              "      <td>0.0</td>\n",
              "      <td>0.0</td>\n",
              "      <td>0.0</td>\n",
              "      <td>0.0</td>\n",
              "      <td>0.0</td>\n",
              "      <td>0.0</td>\n",
              "      <td>0.0</td>\n",
              "      <td>0.0</td>\n",
              "      <td>0.0</td>\n",
              "      <td>0.0</td>\n",
              "      <td>0.0</td>\n",
              "      <td>0.0</td>\n",
              "      <td>0.0</td>\n",
              "      <td>0.0</td>\n",
              "      <td>0.0</td>\n",
              "      <td>0.0</td>\n",
              "      <td>0.0</td>\n",
              "      <td>0.0</td>\n",
              "      <td>0.0</td>\n",
              "      <td>0.0</td>\n",
              "      <td>0.0</td>\n",
              "      <td>0.0</td>\n",
              "      <td>0.0</td>\n",
              "      <td>0.0</td>\n",
              "      <td>0.0</td>\n",
              "      <td>0.0</td>\n",
              "      <td>0.0</td>\n",
              "      <td>0.0</td>\n",
              "      <td>0.0</td>\n",
              "      <td>0.0</td>\n",
              "      <td>0.0</td>\n",
              "      <td>...</td>\n",
              "      <td>0.0</td>\n",
              "      <td>0.0</td>\n",
              "      <td>0.0</td>\n",
              "      <td>0.0</td>\n",
              "      <td>0.0</td>\n",
              "      <td>0.0</td>\n",
              "      <td>0.0</td>\n",
              "      <td>0.0</td>\n",
              "      <td>0.0</td>\n",
              "      <td>0.0</td>\n",
              "      <td>0.0</td>\n",
              "      <td>0.0</td>\n",
              "      <td>0.0</td>\n",
              "      <td>0.0</td>\n",
              "      <td>0.0</td>\n",
              "      <td>0.0</td>\n",
              "      <td>0.0</td>\n",
              "      <td>0.0</td>\n",
              "      <td>0.0</td>\n",
              "      <td>0.0</td>\n",
              "      <td>0.0</td>\n",
              "      <td>0.0</td>\n",
              "      <td>0.0</td>\n",
              "      <td>0.0</td>\n",
              "      <td>0.0</td>\n",
              "      <td>0.0</td>\n",
              "      <td>0.0</td>\n",
              "      <td>0.0</td>\n",
              "      <td>0.0</td>\n",
              "      <td>0.0</td>\n",
              "      <td>0.0</td>\n",
              "      <td>0.0</td>\n",
              "      <td>0.0</td>\n",
              "      <td>0.0</td>\n",
              "      <td>0.0</td>\n",
              "      <td>0.0</td>\n",
              "      <td>0.0</td>\n",
              "      <td>0.0</td>\n",
              "      <td>0.0</td>\n",
              "      <td>0.0</td>\n",
              "    </tr>\n",
              "  </tbody>\n",
              "</table>\n",
              "<p>5 rows × 55871 columns</p>\n",
              "</div>"
            ],
            "text/plain": [
              "ISBN     0000913154  0001046438  000104687X  ...  B0000T6KHI  B00013AX9E  B0001I1KOG\n",
              "User-ID                                      ...                                    \n",
              "2033            0.0         0.0         0.0  ...         0.0         0.0         0.0\n",
              "2110            0.0         0.0         0.0  ...         0.0         0.0         0.0\n",
              "2276            0.0         0.0         0.0  ...         0.0         0.0         0.0\n",
              "4017            0.0         0.0         0.0  ...         0.0         0.0         0.0\n",
              "4385            0.0         0.0         0.0  ...         0.0         0.0         0.0\n",
              "\n",
              "[5 rows x 55871 columns]"
            ]
          },
          "metadata": {},
          "execution_count": 93
        }
      ]
    },
    {
      "cell_type": "code",
      "metadata": {
        "colab": {
          "base_uri": "https://localhost:8080/"
        },
        "id": "1iQrLLr7C03b",
        "outputId": "53b804d4-80f3-4529-cee7-7af9b9a7a06c"
      },
      "source": [
        "# Creating array of values of users items pivot matrix df\n",
        "\n",
        "users_items_pivot_matrix = users_items_pivot_matrix_df.values\n",
        "users_items_pivot_matrix[:10]"
      ],
      "execution_count": 94,
      "outputs": [
        {
          "output_type": "execute_result",
          "data": {
            "text/plain": [
              "array([[0., 0., 0., ..., 0., 0., 0.],\n",
              "       [0., 0., 0., ..., 0., 0., 0.],\n",
              "       [0., 0., 0., ..., 0., 0., 0.],\n",
              "       ...,\n",
              "       [0., 0., 0., ..., 0., 0., 0.],\n",
              "       [0., 0., 0., ..., 0., 0., 0.],\n",
              "       [0., 0., 0., ..., 0., 0., 0.]])"
            ]
          },
          "metadata": {},
          "execution_count": 94
        }
      ]
    },
    {
      "cell_type": "code",
      "metadata": {
        "colab": {
          "base_uri": "https://localhost:8080/"
        },
        "id": "L5t5eFA8C4Ve",
        "outputId": "e0c7f942-5c41-45fd-e5bf-e72c1af83f72"
      },
      "source": [
        "# Extracting users ids\n",
        "\n",
        "users_ids = list(users_items_pivot_matrix_df.index)\n",
        "users_ids[:10]"
      ],
      "execution_count": 95,
      "outputs": [
        {
          "output_type": "execute_result",
          "data": {
            "text/plain": [
              "[2033, 2110, 2276, 4017, 4385, 5582, 6242, 6251, 6543, 6575]"
            ]
          },
          "metadata": {},
          "execution_count": 95
        }
      ]
    },
    {
      "cell_type": "markdown",
      "metadata": {
        "id": "S6ZwqIamC__I"
      },
      "source": [
        "### **Now making factors of user-item matrix**"
      ]
    },
    {
      "cell_type": "code",
      "metadata": {
        "id": "1lNokYsMC7KL"
      },
      "source": [
        "# The number of factors to factor the user-item matrix.\n",
        "\n",
        "NUMBER_OF_FACTORS_MF = 15\n",
        "\n",
        "# Performs matrix factorization of the original user item matrix\n",
        "\n",
        "U, sigma, Vt = svds(users_items_pivot_matrix, k = NUMBER_OF_FACTORS_MF)"
      ],
      "execution_count": 96,
      "outputs": []
    },
    {
      "cell_type": "code",
      "metadata": {
        "colab": {
          "base_uri": "https://localhost:8080/"
        },
        "id": "fMgucJj1DSBf",
        "outputId": "77a6d25a-faed-4a6c-bf3f-3e96f6984c4b"
      },
      "source": [
        "# Shape of user-item matrix\n",
        "\n",
        "users_items_pivot_matrix.shape"
      ],
      "execution_count": 97,
      "outputs": [
        {
          "output_type": "execute_result",
          "data": {
            "text/plain": [
              "(449, 55871)"
            ]
          },
          "metadata": {},
          "execution_count": 97
        }
      ]
    },
    {
      "cell_type": "markdown",
      "metadata": {
        "id": "EpCecnZsDbNp"
      },
      "source": [
        "**Let's check the shapes of all three factors.**"
      ]
    },
    {
      "cell_type": "code",
      "metadata": {
        "colab": {
          "base_uri": "https://localhost:8080/"
        },
        "id": "LlZuVtA-DWE7",
        "outputId": "0fb90c53-677f-4797-ee63-210425386926"
      },
      "source": [
        "U.shape"
      ],
      "execution_count": 98,
      "outputs": [
        {
          "output_type": "execute_result",
          "data": {
            "text/plain": [
              "(449, 15)"
            ]
          },
          "metadata": {},
          "execution_count": 98
        }
      ]
    },
    {
      "cell_type": "code",
      "metadata": {
        "colab": {
          "base_uri": "https://localhost:8080/"
        },
        "id": "D3ZygRqbDhie",
        "outputId": "2bc31115-fda5-452a-a7c9-044cf06cd948"
      },
      "source": [
        "sigma = np.diag(sigma)\n",
        "sigma.shape"
      ],
      "execution_count": 99,
      "outputs": [
        {
          "output_type": "execute_result",
          "data": {
            "text/plain": [
              "(15, 15)"
            ]
          },
          "metadata": {},
          "execution_count": 99
        }
      ]
    },
    {
      "cell_type": "code",
      "metadata": {
        "colab": {
          "base_uri": "https://localhost:8080/"
        },
        "id": "LlREl6HmDjeW",
        "outputId": "efa4df34-2fcf-4d47-b3e3-12bc70d0c960"
      },
      "source": [
        "Vt.shape"
      ],
      "execution_count": 100,
      "outputs": [
        {
          "output_type": "execute_result",
          "data": {
            "text/plain": [
              "(15, 55871)"
            ]
          },
          "metadata": {},
          "execution_count": 100
        }
      ]
    },
    {
      "cell_type": "markdown",
      "metadata": {
        "id": "tKn7AUKnDpAB"
      },
      "source": [
        "**After the factorization, let's try to reconstruct the original matrix by multiplying its factors.**"
      ]
    },
    {
      "cell_type": "code",
      "metadata": {
        "colab": {
          "base_uri": "https://localhost:8080/"
        },
        "id": "xfFyodRSDmX4",
        "outputId": "46b9123f-3de4-4daf-f2b2-23487d9bc21d"
      },
      "source": [
        "# Multiplying all factors\n",
        "\n",
        "all_user_predicted_ratings = np.dot(np.dot(U, sigma), Vt) \n",
        "all_user_predicted_ratings"
      ],
      "execution_count": 101,
      "outputs": [
        {
          "output_type": "execute_result",
          "data": {
            "text/plain": [
              "array([[ 2.20023214e-02,  2.57725085e-03,  2.17802964e-03, ...,\n",
              "         4.87568540e-03,  3.74540686e-04,  3.50305352e-04],\n",
              "       [-6.26310846e-04, -8.10335760e-04, -6.84813162e-04, ...,\n",
              "         1.39488603e-03,  8.42185861e-05,  6.52115886e-05],\n",
              "       [ 3.88898390e-03, -2.14130350e-03, -1.80961139e-03, ...,\n",
              "         3.75527311e-03,  2.48705392e-04,  1.98275421e-04],\n",
              "       ...,\n",
              "       [ 8.60649094e-03,  2.39017228e-03,  2.01992991e-03, ...,\n",
              "         4.83774702e-03,  3.22942815e-04,  2.44342541e-04],\n",
              "       [ 2.21385219e-02, -3.23817431e-03, -2.73657476e-03, ...,\n",
              "         6.15094081e-03,  3.77342333e-04,  3.03756214e-04],\n",
              "       [ 4.18416680e-03, -1.23619910e-03, -1.04470944e-03, ...,\n",
              "         2.19297970e-03,  1.32878748e-04,  9.14059801e-05]])"
            ]
          },
          "metadata": {},
          "execution_count": 101
        }
      ]
    },
    {
      "cell_type": "code",
      "metadata": {
        "colab": {
          "base_uri": "https://localhost:8080/"
        },
        "id": "IM2B3NthDtJq",
        "outputId": "32c8c15a-d0ff-4d94-8d3b-3e3595b4809b"
      },
      "source": [
        "# Following is the shape of resulting matrix\n",
        "\n",
        "all_user_predicted_ratings.shape"
      ],
      "execution_count": 102,
      "outputs": [
        {
          "output_type": "execute_result",
          "data": {
            "text/plain": [
              "(449, 55871)"
            ]
          },
          "metadata": {},
          "execution_count": 102
        }
      ]
    },
    {
      "cell_type": "markdown",
      "metadata": {
        "id": "yAZucvw6D2cF"
      },
      "source": [
        "* **The resulting matrix is not sparse any more.**\n",
        "* **It generated predictions for items the user have not yet interaction, which we can use for recommendations.**"
      ]
    },
    {
      "cell_type": "markdown",
      "metadata": {
        "id": "HNpGac20IF-G"
      },
      "source": [
        "### **Let's convert the reconstructed matrix into a dataframe.**"
      ]
    },
    {
      "cell_type": "code",
      "metadata": {
        "colab": {
          "base_uri": "https://localhost:8080/",
          "height": 287
        },
        "id": "LF4Dl6OBG95h",
        "outputId": "4050e934-c676-4a12-8c19-97a13d4b021d"
      },
      "source": [
        "# Converting the reconstructed matrix back to a Pandas dataframe\n",
        "\n",
        "cf_preds_df = pd.DataFrame(all_user_predicted_ratings, columns = users_items_pivot_matrix_df.columns, index=users_ids).transpose()\n",
        "cf_preds_df.head()"
      ],
      "execution_count": 110,
      "outputs": [
        {
          "output_type": "execute_result",
          "data": {
            "text/html": [
              "<div>\n",
              "<style scoped>\n",
              "    .dataframe tbody tr th:only-of-type {\n",
              "        vertical-align: middle;\n",
              "    }\n",
              "\n",
              "    .dataframe tbody tr th {\n",
              "        vertical-align: top;\n",
              "    }\n",
              "\n",
              "    .dataframe thead th {\n",
              "        text-align: right;\n",
              "    }\n",
              "</style>\n",
              "<table border=\"1\" class=\"dataframe\">\n",
              "  <thead>\n",
              "    <tr style=\"text-align: right;\">\n",
              "      <th></th>\n",
              "      <th>2033</th>\n",
              "      <th>2110</th>\n",
              "      <th>2276</th>\n",
              "      <th>4017</th>\n",
              "      <th>4385</th>\n",
              "      <th>5582</th>\n",
              "      <th>6242</th>\n",
              "      <th>6251</th>\n",
              "      <th>6543</th>\n",
              "      <th>6575</th>\n",
              "      <th>7286</th>\n",
              "      <th>7346</th>\n",
              "      <th>8067</th>\n",
              "      <th>8245</th>\n",
              "      <th>8681</th>\n",
              "      <th>8890</th>\n",
              "      <th>10560</th>\n",
              "      <th>11676</th>\n",
              "      <th>11993</th>\n",
              "      <th>12538</th>\n",
              "      <th>12824</th>\n",
              "      <th>12982</th>\n",
              "      <th>13552</th>\n",
              "      <th>13850</th>\n",
              "      <th>14422</th>\n",
              "      <th>15408</th>\n",
              "      <th>15418</th>\n",
              "      <th>16634</th>\n",
              "      <th>16795</th>\n",
              "      <th>16966</th>\n",
              "      <th>17950</th>\n",
              "      <th>19085</th>\n",
              "      <th>21014</th>\n",
              "      <th>23768</th>\n",
              "      <th>23872</th>\n",
              "      <th>23902</th>\n",
              "      <th>25409</th>\n",
              "      <th>25601</th>\n",
              "      <th>25981</th>\n",
              "      <th>26535</th>\n",
              "      <th>...</th>\n",
              "      <th>250405</th>\n",
              "      <th>250709</th>\n",
              "      <th>251394</th>\n",
              "      <th>251843</th>\n",
              "      <th>251844</th>\n",
              "      <th>252695</th>\n",
              "      <th>252820</th>\n",
              "      <th>254206</th>\n",
              "      <th>254465</th>\n",
              "      <th>254899</th>\n",
              "      <th>255489</th>\n",
              "      <th>257204</th>\n",
              "      <th>258152</th>\n",
              "      <th>258185</th>\n",
              "      <th>258534</th>\n",
              "      <th>261105</th>\n",
              "      <th>261829</th>\n",
              "      <th>262998</th>\n",
              "      <th>264031</th>\n",
              "      <th>264082</th>\n",
              "      <th>264321</th>\n",
              "      <th>264525</th>\n",
              "      <th>265115</th>\n",
              "      <th>265313</th>\n",
              "      <th>265889</th>\n",
              "      <th>266056</th>\n",
              "      <th>266226</th>\n",
              "      <th>268110</th>\n",
              "      <th>268300</th>\n",
              "      <th>268932</th>\n",
              "      <th>269566</th>\n",
              "      <th>270713</th>\n",
              "      <th>271448</th>\n",
              "      <th>271705</th>\n",
              "      <th>273113</th>\n",
              "      <th>274061</th>\n",
              "      <th>274301</th>\n",
              "      <th>275970</th>\n",
              "      <th>277427</th>\n",
              "      <th>278418</th>\n",
              "    </tr>\n",
              "    <tr>\n",
              "      <th>ISBN</th>\n",
              "      <th></th>\n",
              "      <th></th>\n",
              "      <th></th>\n",
              "      <th></th>\n",
              "      <th></th>\n",
              "      <th></th>\n",
              "      <th></th>\n",
              "      <th></th>\n",
              "      <th></th>\n",
              "      <th></th>\n",
              "      <th></th>\n",
              "      <th></th>\n",
              "      <th></th>\n",
              "      <th></th>\n",
              "      <th></th>\n",
              "      <th></th>\n",
              "      <th></th>\n",
              "      <th></th>\n",
              "      <th></th>\n",
              "      <th></th>\n",
              "      <th></th>\n",
              "      <th></th>\n",
              "      <th></th>\n",
              "      <th></th>\n",
              "      <th></th>\n",
              "      <th></th>\n",
              "      <th></th>\n",
              "      <th></th>\n",
              "      <th></th>\n",
              "      <th></th>\n",
              "      <th></th>\n",
              "      <th></th>\n",
              "      <th></th>\n",
              "      <th></th>\n",
              "      <th></th>\n",
              "      <th></th>\n",
              "      <th></th>\n",
              "      <th></th>\n",
              "      <th></th>\n",
              "      <th></th>\n",
              "      <th></th>\n",
              "      <th></th>\n",
              "      <th></th>\n",
              "      <th></th>\n",
              "      <th></th>\n",
              "      <th></th>\n",
              "      <th></th>\n",
              "      <th></th>\n",
              "      <th></th>\n",
              "      <th></th>\n",
              "      <th></th>\n",
              "      <th></th>\n",
              "      <th></th>\n",
              "      <th></th>\n",
              "      <th></th>\n",
              "      <th></th>\n",
              "      <th></th>\n",
              "      <th></th>\n",
              "      <th></th>\n",
              "      <th></th>\n",
              "      <th></th>\n",
              "      <th></th>\n",
              "      <th></th>\n",
              "      <th></th>\n",
              "      <th></th>\n",
              "      <th></th>\n",
              "      <th></th>\n",
              "      <th></th>\n",
              "      <th></th>\n",
              "      <th></th>\n",
              "      <th></th>\n",
              "      <th></th>\n",
              "      <th></th>\n",
              "      <th></th>\n",
              "      <th></th>\n",
              "      <th></th>\n",
              "      <th></th>\n",
              "      <th></th>\n",
              "      <th></th>\n",
              "      <th></th>\n",
              "      <th></th>\n",
              "    </tr>\n",
              "  </thead>\n",
              "  <tbody>\n",
              "    <tr>\n",
              "      <th>0000913154</th>\n",
              "      <td>0.022002</td>\n",
              "      <td>-0.000626</td>\n",
              "      <td>0.003889</td>\n",
              "      <td>-0.000284</td>\n",
              "      <td>-0.001789</td>\n",
              "      <td>-0.004283</td>\n",
              "      <td>-0.003185</td>\n",
              "      <td>0.015454</td>\n",
              "      <td>0.026601</td>\n",
              "      <td>0.012810</td>\n",
              "      <td>-0.000848</td>\n",
              "      <td>0.011567</td>\n",
              "      <td>-0.005780</td>\n",
              "      <td>0.005928</td>\n",
              "      <td>-0.004601</td>\n",
              "      <td>-0.000030</td>\n",
              "      <td>0.015781</td>\n",
              "      <td>-0.001289</td>\n",
              "      <td>0.002667</td>\n",
              "      <td>0.008013</td>\n",
              "      <td>-0.001438</td>\n",
              "      <td>-0.006442</td>\n",
              "      <td>-0.016191</td>\n",
              "      <td>0.020700</td>\n",
              "      <td>-0.004352</td>\n",
              "      <td>0.008777</td>\n",
              "      <td>0.004959</td>\n",
              "      <td>0.030914</td>\n",
              "      <td>0.003841</td>\n",
              "      <td>0.014709</td>\n",
              "      <td>-0.004022</td>\n",
              "      <td>0.001117</td>\n",
              "      <td>-0.012257</td>\n",
              "      <td>-0.000458</td>\n",
              "      <td>0.010005</td>\n",
              "      <td>-0.005717</td>\n",
              "      <td>0.000087</td>\n",
              "      <td>0.004423</td>\n",
              "      <td>-0.006316</td>\n",
              "      <td>0.002441</td>\n",
              "      <td>...</td>\n",
              "      <td>0.016824</td>\n",
              "      <td>0.002968</td>\n",
              "      <td>0.002804</td>\n",
              "      <td>-0.001631</td>\n",
              "      <td>0.025025</td>\n",
              "      <td>-0.001321</td>\n",
              "      <td>0.014970</td>\n",
              "      <td>-0.001095</td>\n",
              "      <td>-0.011991</td>\n",
              "      <td>0.016320</td>\n",
              "      <td>0.001868</td>\n",
              "      <td>0.103136</td>\n",
              "      <td>0.009118</td>\n",
              "      <td>-0.002577</td>\n",
              "      <td>-0.001584</td>\n",
              "      <td>-0.000697</td>\n",
              "      <td>-0.009061</td>\n",
              "      <td>0.003695</td>\n",
              "      <td>0.000720</td>\n",
              "      <td>-0.004569</td>\n",
              "      <td>0.049701</td>\n",
              "      <td>-0.002730</td>\n",
              "      <td>-0.006439</td>\n",
              "      <td>0.017871</td>\n",
              "      <td>-0.004505</td>\n",
              "      <td>-0.000940</td>\n",
              "      <td>0.008690</td>\n",
              "      <td>0.001184</td>\n",
              "      <td>0.003650</td>\n",
              "      <td>0.007544</td>\n",
              "      <td>0.001208</td>\n",
              "      <td>0.002424</td>\n",
              "      <td>-0.006880</td>\n",
              "      <td>0.007237</td>\n",
              "      <td>-0.012514</td>\n",
              "      <td>-0.006683</td>\n",
              "      <td>0.009211</td>\n",
              "      <td>0.008606</td>\n",
              "      <td>0.022139</td>\n",
              "      <td>0.004184</td>\n",
              "    </tr>\n",
              "    <tr>\n",
              "      <th>0001046438</th>\n",
              "      <td>0.002577</td>\n",
              "      <td>-0.000810</td>\n",
              "      <td>-0.002141</td>\n",
              "      <td>0.024338</td>\n",
              "      <td>-0.000755</td>\n",
              "      <td>0.008329</td>\n",
              "      <td>0.015692</td>\n",
              "      <td>0.007082</td>\n",
              "      <td>-0.003995</td>\n",
              "      <td>0.008974</td>\n",
              "      <td>-0.000358</td>\n",
              "      <td>0.006179</td>\n",
              "      <td>-0.000675</td>\n",
              "      <td>0.012470</td>\n",
              "      <td>0.006545</td>\n",
              "      <td>0.000020</td>\n",
              "      <td>-0.003137</td>\n",
              "      <td>-0.001907</td>\n",
              "      <td>-0.001147</td>\n",
              "      <td>-0.003197</td>\n",
              "      <td>0.001994</td>\n",
              "      <td>0.010658</td>\n",
              "      <td>-0.002958</td>\n",
              "      <td>0.007878</td>\n",
              "      <td>0.004427</td>\n",
              "      <td>0.003546</td>\n",
              "      <td>0.010825</td>\n",
              "      <td>-0.001234</td>\n",
              "      <td>-0.004974</td>\n",
              "      <td>-0.000849</td>\n",
              "      <td>0.001221</td>\n",
              "      <td>-0.002433</td>\n",
              "      <td>0.010427</td>\n",
              "      <td>-0.004503</td>\n",
              "      <td>0.002976</td>\n",
              "      <td>3.310764</td>\n",
              "      <td>0.000793</td>\n",
              "      <td>-0.001072</td>\n",
              "      <td>-0.007321</td>\n",
              "      <td>-0.000748</td>\n",
              "      <td>...</td>\n",
              "      <td>-0.000399</td>\n",
              "      <td>-0.000362</td>\n",
              "      <td>0.002049</td>\n",
              "      <td>0.004028</td>\n",
              "      <td>0.018556</td>\n",
              "      <td>-0.004848</td>\n",
              "      <td>0.002367</td>\n",
              "      <td>0.004735</td>\n",
              "      <td>0.007285</td>\n",
              "      <td>-0.001662</td>\n",
              "      <td>0.003401</td>\n",
              "      <td>-0.014243</td>\n",
              "      <td>-0.000943</td>\n",
              "      <td>-0.000119</td>\n",
              "      <td>0.010489</td>\n",
              "      <td>0.002857</td>\n",
              "      <td>-0.000126</td>\n",
              "      <td>-0.000984</td>\n",
              "      <td>-0.000021</td>\n",
              "      <td>-0.003262</td>\n",
              "      <td>-0.000590</td>\n",
              "      <td>0.002888</td>\n",
              "      <td>-0.000820</td>\n",
              "      <td>-0.002721</td>\n",
              "      <td>-0.006817</td>\n",
              "      <td>0.004176</td>\n",
              "      <td>0.012362</td>\n",
              "      <td>-0.000439</td>\n",
              "      <td>-0.000591</td>\n",
              "      <td>0.006368</td>\n",
              "      <td>-0.003086</td>\n",
              "      <td>0.015101</td>\n",
              "      <td>-0.001532</td>\n",
              "      <td>0.024500</td>\n",
              "      <td>-0.006917</td>\n",
              "      <td>-0.009046</td>\n",
              "      <td>-0.000477</td>\n",
              "      <td>0.002390</td>\n",
              "      <td>-0.003238</td>\n",
              "      <td>-0.001236</td>\n",
              "    </tr>\n",
              "    <tr>\n",
              "      <th>000104687X</th>\n",
              "      <td>0.002178</td>\n",
              "      <td>-0.000685</td>\n",
              "      <td>-0.001810</td>\n",
              "      <td>0.020568</td>\n",
              "      <td>-0.000638</td>\n",
              "      <td>0.007039</td>\n",
              "      <td>0.013261</td>\n",
              "      <td>0.005985</td>\n",
              "      <td>-0.003376</td>\n",
              "      <td>0.007584</td>\n",
              "      <td>-0.000302</td>\n",
              "      <td>0.005222</td>\n",
              "      <td>-0.000570</td>\n",
              "      <td>0.010538</td>\n",
              "      <td>0.005531</td>\n",
              "      <td>0.000017</td>\n",
              "      <td>-0.002651</td>\n",
              "      <td>-0.001612</td>\n",
              "      <td>-0.000969</td>\n",
              "      <td>-0.002702</td>\n",
              "      <td>0.001685</td>\n",
              "      <td>0.009007</td>\n",
              "      <td>-0.002500</td>\n",
              "      <td>0.006658</td>\n",
              "      <td>0.003741</td>\n",
              "      <td>0.002996</td>\n",
              "      <td>0.009148</td>\n",
              "      <td>-0.001043</td>\n",
              "      <td>-0.004204</td>\n",
              "      <td>-0.000717</td>\n",
              "      <td>0.001031</td>\n",
              "      <td>-0.002056</td>\n",
              "      <td>0.008811</td>\n",
              "      <td>-0.003805</td>\n",
              "      <td>0.002515</td>\n",
              "      <td>2.797920</td>\n",
              "      <td>0.000670</td>\n",
              "      <td>-0.000906</td>\n",
              "      <td>-0.006187</td>\n",
              "      <td>-0.000632</td>\n",
              "      <td>...</td>\n",
              "      <td>-0.000337</td>\n",
              "      <td>-0.000306</td>\n",
              "      <td>0.001732</td>\n",
              "      <td>0.003404</td>\n",
              "      <td>0.015682</td>\n",
              "      <td>-0.004097</td>\n",
              "      <td>0.002000</td>\n",
              "      <td>0.004002</td>\n",
              "      <td>0.006157</td>\n",
              "      <td>-0.001405</td>\n",
              "      <td>0.002874</td>\n",
              "      <td>-0.012037</td>\n",
              "      <td>-0.000797</td>\n",
              "      <td>-0.000101</td>\n",
              "      <td>0.008864</td>\n",
              "      <td>0.002415</td>\n",
              "      <td>-0.000106</td>\n",
              "      <td>-0.000831</td>\n",
              "      <td>-0.000018</td>\n",
              "      <td>-0.002757</td>\n",
              "      <td>-0.000499</td>\n",
              "      <td>0.002440</td>\n",
              "      <td>-0.000693</td>\n",
              "      <td>-0.002299</td>\n",
              "      <td>-0.005761</td>\n",
              "      <td>0.003529</td>\n",
              "      <td>0.010447</td>\n",
              "      <td>-0.000371</td>\n",
              "      <td>-0.000499</td>\n",
              "      <td>0.005381</td>\n",
              "      <td>-0.002608</td>\n",
              "      <td>0.012762</td>\n",
              "      <td>-0.001295</td>\n",
              "      <td>0.020705</td>\n",
              "      <td>-0.005846</td>\n",
              "      <td>-0.007645</td>\n",
              "      <td>-0.000403</td>\n",
              "      <td>0.002020</td>\n",
              "      <td>-0.002737</td>\n",
              "      <td>-0.001045</td>\n",
              "    </tr>\n",
              "    <tr>\n",
              "      <th>0001047213</th>\n",
              "      <td>0.002577</td>\n",
              "      <td>-0.000810</td>\n",
              "      <td>-0.002141</td>\n",
              "      <td>0.024338</td>\n",
              "      <td>-0.000755</td>\n",
              "      <td>0.008329</td>\n",
              "      <td>0.015692</td>\n",
              "      <td>0.007082</td>\n",
              "      <td>-0.003995</td>\n",
              "      <td>0.008974</td>\n",
              "      <td>-0.000358</td>\n",
              "      <td>0.006179</td>\n",
              "      <td>-0.000675</td>\n",
              "      <td>0.012470</td>\n",
              "      <td>0.006545</td>\n",
              "      <td>0.000020</td>\n",
              "      <td>-0.003137</td>\n",
              "      <td>-0.001907</td>\n",
              "      <td>-0.001147</td>\n",
              "      <td>-0.003197</td>\n",
              "      <td>0.001994</td>\n",
              "      <td>0.010658</td>\n",
              "      <td>-0.002958</td>\n",
              "      <td>0.007878</td>\n",
              "      <td>0.004427</td>\n",
              "      <td>0.003546</td>\n",
              "      <td>0.010825</td>\n",
              "      <td>-0.001234</td>\n",
              "      <td>-0.004974</td>\n",
              "      <td>-0.000849</td>\n",
              "      <td>0.001221</td>\n",
              "      <td>-0.002433</td>\n",
              "      <td>0.010427</td>\n",
              "      <td>-0.004503</td>\n",
              "      <td>0.002976</td>\n",
              "      <td>3.310764</td>\n",
              "      <td>0.000793</td>\n",
              "      <td>-0.001072</td>\n",
              "      <td>-0.007321</td>\n",
              "      <td>-0.000748</td>\n",
              "      <td>...</td>\n",
              "      <td>-0.000399</td>\n",
              "      <td>-0.000362</td>\n",
              "      <td>0.002049</td>\n",
              "      <td>0.004028</td>\n",
              "      <td>0.018556</td>\n",
              "      <td>-0.004848</td>\n",
              "      <td>0.002367</td>\n",
              "      <td>0.004735</td>\n",
              "      <td>0.007285</td>\n",
              "      <td>-0.001662</td>\n",
              "      <td>0.003401</td>\n",
              "      <td>-0.014243</td>\n",
              "      <td>-0.000943</td>\n",
              "      <td>-0.000119</td>\n",
              "      <td>0.010489</td>\n",
              "      <td>0.002857</td>\n",
              "      <td>-0.000126</td>\n",
              "      <td>-0.000984</td>\n",
              "      <td>-0.000021</td>\n",
              "      <td>-0.003262</td>\n",
              "      <td>-0.000590</td>\n",
              "      <td>0.002888</td>\n",
              "      <td>-0.000820</td>\n",
              "      <td>-0.002721</td>\n",
              "      <td>-0.006817</td>\n",
              "      <td>0.004176</td>\n",
              "      <td>0.012362</td>\n",
              "      <td>-0.000439</td>\n",
              "      <td>-0.000591</td>\n",
              "      <td>0.006368</td>\n",
              "      <td>-0.003086</td>\n",
              "      <td>0.015101</td>\n",
              "      <td>-0.001532</td>\n",
              "      <td>0.024500</td>\n",
              "      <td>-0.006917</td>\n",
              "      <td>-0.009046</td>\n",
              "      <td>-0.000477</td>\n",
              "      <td>0.002390</td>\n",
              "      <td>-0.003238</td>\n",
              "      <td>-0.001236</td>\n",
              "    </tr>\n",
              "    <tr>\n",
              "      <th>000104799X</th>\n",
              "      <td>0.000739</td>\n",
              "      <td>0.000278</td>\n",
              "      <td>0.000695</td>\n",
              "      <td>0.001816</td>\n",
              "      <td>0.000207</td>\n",
              "      <td>0.001143</td>\n",
              "      <td>0.001153</td>\n",
              "      <td>0.002122</td>\n",
              "      <td>0.001549</td>\n",
              "      <td>0.003371</td>\n",
              "      <td>0.000215</td>\n",
              "      <td>0.004653</td>\n",
              "      <td>0.001321</td>\n",
              "      <td>0.001259</td>\n",
              "      <td>0.000597</td>\n",
              "      <td>-0.000010</td>\n",
              "      <td>0.001340</td>\n",
              "      <td>0.001170</td>\n",
              "      <td>0.000596</td>\n",
              "      <td>0.001056</td>\n",
              "      <td>0.000588</td>\n",
              "      <td>0.000981</td>\n",
              "      <td>0.003430</td>\n",
              "      <td>0.000704</td>\n",
              "      <td>0.001030</td>\n",
              "      <td>0.000496</td>\n",
              "      <td>0.000519</td>\n",
              "      <td>0.002173</td>\n",
              "      <td>0.010319</td>\n",
              "      <td>0.000122</td>\n",
              "      <td>0.001120</td>\n",
              "      <td>0.000681</td>\n",
              "      <td>0.003519</td>\n",
              "      <td>0.001729</td>\n",
              "      <td>0.003256</td>\n",
              "      <td>-0.001258</td>\n",
              "      <td>0.001574</td>\n",
              "      <td>0.000427</td>\n",
              "      <td>0.001825</td>\n",
              "      <td>0.000145</td>\n",
              "      <td>...</td>\n",
              "      <td>0.000115</td>\n",
              "      <td>0.000106</td>\n",
              "      <td>0.000680</td>\n",
              "      <td>0.001529</td>\n",
              "      <td>0.001046</td>\n",
              "      <td>0.001320</td>\n",
              "      <td>0.000774</td>\n",
              "      <td>0.001230</td>\n",
              "      <td>0.002449</td>\n",
              "      <td>0.000592</td>\n",
              "      <td>0.002038</td>\n",
              "      <td>0.001118</td>\n",
              "      <td>0.000350</td>\n",
              "      <td>0.000799</td>\n",
              "      <td>0.004453</td>\n",
              "      <td>0.000194</td>\n",
              "      <td>0.003246</td>\n",
              "      <td>0.000439</td>\n",
              "      <td>0.001285</td>\n",
              "      <td>0.000787</td>\n",
              "      <td>0.001308</td>\n",
              "      <td>0.000820</td>\n",
              "      <td>0.001601</td>\n",
              "      <td>0.001156</td>\n",
              "      <td>0.001613</td>\n",
              "      <td>0.001219</td>\n",
              "      <td>0.000543</td>\n",
              "      <td>0.001359</td>\n",
              "      <td>0.001567</td>\n",
              "      <td>0.000792</td>\n",
              "      <td>0.001247</td>\n",
              "      <td>0.002265</td>\n",
              "      <td>0.002165</td>\n",
              "      <td>0.001121</td>\n",
              "      <td>0.001302</td>\n",
              "      <td>0.002200</td>\n",
              "      <td>0.001908</td>\n",
              "      <td>0.000700</td>\n",
              "      <td>0.001098</td>\n",
              "      <td>0.000308</td>\n",
              "    </tr>\n",
              "  </tbody>\n",
              "</table>\n",
              "<p>5 rows × 449 columns</p>\n",
              "</div>"
            ],
            "text/plain": [
              "              2033      2110      2276    ...    275970    277427    278418\n",
              "ISBN                                      ...                              \n",
              "0000913154  0.022002 -0.000626  0.003889  ...  0.008606  0.022139  0.004184\n",
              "0001046438  0.002577 -0.000810 -0.002141  ...  0.002390 -0.003238 -0.001236\n",
              "000104687X  0.002178 -0.000685 -0.001810  ...  0.002020 -0.002737 -0.001045\n",
              "0001047213  0.002577 -0.000810 -0.002141  ...  0.002390 -0.003238 -0.001236\n",
              "000104799X  0.000739  0.000278  0.000695  ...  0.000700  0.001098  0.000308\n",
              "\n",
              "[5 rows x 449 columns]"
            ]
          },
          "metadata": {},
          "execution_count": 110
        }
      ]
    },
    {
      "cell_type": "markdown",
      "metadata": {
        "id": "9HeF9gqzIWIC"
      },
      "source": [
        "### **Let's make some recommendations.**"
      ]
    },
    {
      "cell_type": "code",
      "metadata": {
        "id": "k4BR0SwcHRBR"
      },
      "source": [
        "# Creating class for Collaborative Filtering Recommender\n",
        "\n",
        "class CFRecommender:\n",
        "    \n",
        "    MODEL_NAME = 'Collaborative Filtering'\n",
        "    \n",
        "    def __init__(self, cf_predictions_df):\n",
        "        self.cf_predictions_df = cf_predictions_df\n",
        "        \n",
        "    def get_model_name(self):\n",
        "        return self.MODEL_NAME\n",
        "        \n",
        "    def recommend_items(self, user_id, items_to_ignore=[], topn=10):\n",
        "        # Get and sort the user's predictions\n",
        "        sorted_user_predictions = self.cf_predictions_df[user_id].sort_values(ascending=False).reset_index().rename(columns={user_id: 'recStrength'})\n",
        "\n",
        "        # Recommend the highest predicted rating content that the user hasn't seen yet.\n",
        "        recommendations_df = sorted_user_predictions[~sorted_user_predictions['ISBN'].isin(items_to_ignore)].sort_values('recStrength', ascending = False).head(topn)\n",
        "        recommendations_df=recommendations_df.merge(books,on='ISBN',how='inner')\n",
        "        recommendations_df=recommendations_df[['ISBN','Book-Title','recStrength']]\n",
        "\n",
        "        return recommendations_df\n",
        "\n",
        "\n",
        "\n",
        "cf_recommender_model = CFRecommender(cf_preds_df)"
      ],
      "execution_count": 111,
      "outputs": []
    },
    {
      "cell_type": "code",
      "metadata": {
        "id": "s4TTqB4PIQl8"
      },
      "source": [
        "# Indexing by personId to speed up the searches during evaluation\n",
        "\n",
        "interactions_full_indexed_df = interactions_full_df.set_index('User-ID')\n",
        "interactions_train_indexed_df = interactions_train_df.set_index('User-ID')\n",
        "interactions_test_indexed_df = interactions_test_df.set_index('User-ID')"
      ],
      "execution_count": 112,
      "outputs": []
    },
    {
      "cell_type": "code",
      "metadata": {
        "id": "E4DEw65YIg6r"
      },
      "source": [
        "# Defining function to get interacted items by particular user\n",
        "\n",
        "def get_items_interacted(UserID, interactions_df):\n",
        "    interacted_items = interactions_df.loc[UserID]['ISBN']\n",
        "    return set(interacted_items if type(interacted_items) == pd.Series else [interacted_items])"
      ],
      "execution_count": 113,
      "outputs": []
    },
    {
      "cell_type": "code",
      "metadata": {
        "id": "aLe4Abw_Ijko"
      },
      "source": [
        "# Creating ModelRecommender class to get recommendation for particular user\n",
        "\n",
        "class ModelRecommender:\n",
        "\n",
        "    # Function for getting the set of items which a user has not interacted with\n",
        "    def get_not_interacted_items_sample(self, UserID, sample_size, seed=42):\n",
        "        interacted_items = get_items_interacted(UserID, interactions_full_indexed_df)\n",
        "        all_items = set(ratings_explicit['ISBN'])\n",
        "        non_interacted_items = all_items - interacted_items\n",
        "\n",
        "        random.seed(seed)\n",
        "        non_interacted_items_sample = random.sample(non_interacted_items, sample_size)\n",
        "        return set(non_interacted_items_sample)\n",
        "\n",
        "    # Function to verify whether a particular item_id was present in the set of top N recommended items\n",
        "    def _verify_hit_top_n(self, item_id, recommended_items, topn):        \n",
        "            try:\n",
        "                index = next(i for i, c in enumerate(recommended_items) if c == item_id)\n",
        "            except:\n",
        "                index = -1\n",
        "            hit = int(index in range(0, topn))\n",
        "            return hit, index\n",
        "    \n",
        "    # Function to evaluate the performance of model for each user\n",
        "    def evaluate_model_for_user(self, model, person_id):\n",
        "        \n",
        "        # Getting the items in test set\n",
        "        interacted_values_testset = interactions_test_indexed_df.loc[person_id]\n",
        "        \n",
        "        if type(interacted_values_testset['ISBN']) == pd.Series:\n",
        "            person_interacted_items_testset = set(interacted_values_testset['ISBN'])\n",
        "        else:\n",
        "            person_interacted_items_testset = set([int(interacted_values_testset['ISBN'])])\n",
        "            \n",
        "        interacted_items_count_testset = len(person_interacted_items_testset) \n",
        "\n",
        "        # Getting a ranked recommendation list from the model for a given user\n",
        "        person_recs_df = model.recommend_items(person_id, items_to_ignore=get_items_interacted(person_id, interactions_train_indexed_df),topn=10000000000)\n",
        "        print('Recommendation for User-ID = ',person_id)\n",
        "        print(person_recs_df.head(10))\n",
        "\n",
        "        # Function to evaluate the performance of model at overall level\n",
        "    def recommend_book(self, model ,userid):\n",
        "        \n",
        "        person_metrics = self.evaluate_model_for_user(model, userid)  \n",
        "        return\n",
        "\n",
        "model_recommender = ModelRecommender()    "
      ],
      "execution_count": 114,
      "outputs": []
    },
    {
      "cell_type": "markdown",
      "metadata": {
        "id": "KEU5rG1zI6I4"
      },
      "source": [
        "### **Let's recommend some books to User-ID 229329**"
      ]
    },
    {
      "cell_type": "code",
      "metadata": {
        "colab": {
          "base_uri": "https://localhost:8080/"
        },
        "id": "H9loUiv9InVj",
        "outputId": "192c2bd6-6e72-48bd-c786-27ae941a27bb"
      },
      "source": [
        "# Recommending books to user-ID 229329\n",
        "\n",
        "model_recommender.recommend_book(cf_recommender_model,229329)"
      ],
      "execution_count": 115,
      "outputs": [
        {
          "output_type": "stream",
          "name": "stdout",
          "text": [
            "Recommendation for User-ID =  229329\n",
            "         ISBN                                         Book-Title  recStrength\n",
            "0  0312195516                The Red Tent (Bestselling Backlist)     0.089713\n",
            "1  0345370775                                      Jurassic Park     0.085214\n",
            "2  0312966970             Four To Score (A Stephanie Plum Novel)     0.076349\n",
            "3  0446310786                              To Kill a Mockingbird     0.073310\n",
            "4  0440214041                                  The Pelican Brief     0.071557\n",
            "5  059035342X  Harry Potter and the Sorcerer's Stone (Harry P...     0.070641\n",
            "6  0312924585                               Silence of the Lambs     0.070238\n",
            "7  0345361792                            A Prayer for Owen Meany     0.068990\n",
            "8  044021145X                                           The Firm     0.068946\n",
            "9  043935806X  Harry Potter and the Order of the Phoenix (Boo...     0.067416\n"
          ]
        }
      ]
    },
    {
      "cell_type": "markdown",
      "metadata": {
        "id": "9VtzJWGcJChT"
      },
      "source": [
        "* **it would be good to recommend book like; The Red Tent, Jurassic Park to user 229329.**"
      ]
    },
    {
      "cell_type": "code",
      "metadata": {
        "id": "sp-y4evkI-FA"
      },
      "source": [
        ""
      ],
      "execution_count": null,
      "outputs": []
    }
  ]
}